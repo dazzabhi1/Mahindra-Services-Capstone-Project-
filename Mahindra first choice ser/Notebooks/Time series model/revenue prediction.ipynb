{
 "cells": [
  {
   "cell_type": "code",
   "execution_count": 140,
   "metadata": {},
   "outputs": [],
   "source": [
    "import pandas as pd\n",
    "import numpy as np\n",
    "import matplotlib.pyplot as plt\n",
    "import statsmodels.api as sm\n",
    "from statsmodels.tsa.stattools import adfuller\n",
    "from statsmodels.graphics.tsaplots import plot_acf,plot_pacf\n",
    "from statsmodels.tsa.arima_model import ARIMA\n",
    "from statsmodels.tsa.statespace.sarimax import SARIMAX\n",
    "from itertools import product\n",
    "import warnings\n",
    "from statsmodels.tsa.ar_model import AR\n",
    "from IPython.display import Markdown as md\n",
    "from sklearn.metrics import mean_squared_error\n",
    "from statsmodels.tsa.seasonal import seasonal_decompose \n",
    "from pmdarima import auto_arima \n",
    "from pandas.tseries.offsets import DateOffset"
   ]
  },
  {
   "cell_type": "code",
   "execution_count": 2,
   "metadata": {},
   "outputs": [],
   "source": [
    "inv_data=pd.read_csv('Final_invoice.csv',low_memory=False)"
   ]
  },
  {
   "cell_type": "code",
   "execution_count": 3,
   "metadata": {},
   "outputs": [],
   "source": [
    "inv_data['month-yr']=pd.to_datetime(inv_data['Invoice Date']).dt.strftime('20%y-%m')"
   ]
  },
  {
   "cell_type": "code",
   "execution_count": 4,
   "metadata": {},
   "outputs": [],
   "source": [
    "revenue_model=inv_data.groupby(['Model','month-yr']).agg({'Total Amt Wtd Tax.':['mean','count']})"
   ]
  },
  {
   "cell_type": "code",
   "execution_count": 5,
   "metadata": {},
   "outputs": [
    {
     "data": {
      "text/html": [
       "<div>\n",
       "<style scoped>\n",
       "    .dataframe tbody tr th:only-of-type {\n",
       "        vertical-align: middle;\n",
       "    }\n",
       "\n",
       "    .dataframe tbody tr th {\n",
       "        vertical-align: top;\n",
       "    }\n",
       "\n",
       "    .dataframe thead tr th {\n",
       "        text-align: left;\n",
       "    }\n",
       "\n",
       "    .dataframe thead tr:last-of-type th {\n",
       "        text-align: right;\n",
       "    }\n",
       "</style>\n",
       "<table border=\"1\" class=\"dataframe\">\n",
       "  <thead>\n",
       "    <tr>\n",
       "      <th></th>\n",
       "      <th></th>\n",
       "      <th colspan=\"2\" halign=\"left\">Total Amt Wtd Tax.</th>\n",
       "    </tr>\n",
       "    <tr>\n",
       "      <th></th>\n",
       "      <th></th>\n",
       "      <th>mean</th>\n",
       "      <th>count</th>\n",
       "    </tr>\n",
       "    <tr>\n",
       "      <th>Model</th>\n",
       "      <th>month-yr</th>\n",
       "      <th></th>\n",
       "      <th></th>\n",
       "    </tr>\n",
       "  </thead>\n",
       "  <tbody>\n",
       "    <tr>\n",
       "      <th rowspan=\"5\" valign=\"top\">207</th>\n",
       "      <th>2013-02</th>\n",
       "      <td>0.000000</td>\n",
       "      <td>1</td>\n",
       "    </tr>\n",
       "    <tr>\n",
       "      <th>2013-04</th>\n",
       "      <td>399.560000</td>\n",
       "      <td>1</td>\n",
       "    </tr>\n",
       "    <tr>\n",
       "      <th>2013-06</th>\n",
       "      <td>29459.690000</td>\n",
       "      <td>1</td>\n",
       "    </tr>\n",
       "    <tr>\n",
       "      <th>2013-10</th>\n",
       "      <td>1916.330000</td>\n",
       "      <td>1</td>\n",
       "    </tr>\n",
       "    <tr>\n",
       "      <th>2014-01</th>\n",
       "      <td>4386.080000</td>\n",
       "      <td>1</td>\n",
       "    </tr>\n",
       "    <tr>\n",
       "      <th>...</th>\n",
       "      <th>...</th>\n",
       "      <td>...</td>\n",
       "      <td>...</td>\n",
       "    </tr>\n",
       "    <tr>\n",
       "      <th rowspan=\"5\" valign=\"top\">ZEST</th>\n",
       "      <th>2016-06</th>\n",
       "      <td>1389.913571</td>\n",
       "      <td>28</td>\n",
       "    </tr>\n",
       "    <tr>\n",
       "      <th>2016-07</th>\n",
       "      <td>1607.420250</td>\n",
       "      <td>40</td>\n",
       "    </tr>\n",
       "    <tr>\n",
       "      <th>2016-08</th>\n",
       "      <td>6648.588571</td>\n",
       "      <td>35</td>\n",
       "    </tr>\n",
       "    <tr>\n",
       "      <th>2016-09</th>\n",
       "      <td>2311.371333</td>\n",
       "      <td>30</td>\n",
       "    </tr>\n",
       "    <tr>\n",
       "      <th>2016-10</th>\n",
       "      <td>4888.993636</td>\n",
       "      <td>55</td>\n",
       "    </tr>\n",
       "  </tbody>\n",
       "</table>\n",
       "<p>7506 rows × 2 columns</p>\n",
       "</div>"
      ],
      "text/plain": [
       "               Total Amt Wtd Tax.      \n",
       "                             mean count\n",
       "Model month-yr                         \n",
       "207   2013-02            0.000000     1\n",
       "      2013-04          399.560000     1\n",
       "      2013-06        29459.690000     1\n",
       "      2013-10         1916.330000     1\n",
       "      2014-01         4386.080000     1\n",
       "...                           ...   ...\n",
       "ZEST  2016-06         1389.913571    28\n",
       "      2016-07         1607.420250    40\n",
       "      2016-08         6648.588571    35\n",
       "      2016-09         2311.371333    30\n",
       "      2016-10         4888.993636    55\n",
       "\n",
       "[7506 rows x 2 columns]"
      ]
     },
     "execution_count": 5,
     "metadata": {},
     "output_type": "execute_result"
    }
   ],
   "source": [
    "revenue_model"
   ]
  },
  {
   "cell_type": "code",
   "execution_count": 6,
   "metadata": {},
   "outputs": [],
   "source": [
    "revenue_model.columns=revenue_model.columns.droplevel()"
   ]
  },
  {
   "cell_type": "code",
   "execution_count": 7,
   "metadata": {},
   "outputs": [],
   "source": [
    "revenue_model['revenue']=revenue_model['mean']*revenue_model['count']"
   ]
  },
  {
   "cell_type": "code",
   "execution_count": 8,
   "metadata": {},
   "outputs": [
    {
     "data": {
      "text/html": [
       "<div>\n",
       "<style scoped>\n",
       "    .dataframe tbody tr th:only-of-type {\n",
       "        vertical-align: middle;\n",
       "    }\n",
       "\n",
       "    .dataframe tbody tr th {\n",
       "        vertical-align: top;\n",
       "    }\n",
       "\n",
       "    .dataframe thead th {\n",
       "        text-align: right;\n",
       "    }\n",
       "</style>\n",
       "<table border=\"1\" class=\"dataframe\">\n",
       "  <thead>\n",
       "    <tr style=\"text-align: right;\">\n",
       "      <th></th>\n",
       "      <th></th>\n",
       "      <th>mean</th>\n",
       "      <th>count</th>\n",
       "      <th>revenue</th>\n",
       "    </tr>\n",
       "    <tr>\n",
       "      <th>Model</th>\n",
       "      <th>month-yr</th>\n",
       "      <th></th>\n",
       "      <th></th>\n",
       "      <th></th>\n",
       "    </tr>\n",
       "  </thead>\n",
       "  <tbody>\n",
       "    <tr>\n",
       "      <th rowspan=\"5\" valign=\"top\">207</th>\n",
       "      <th>2013-02</th>\n",
       "      <td>0.000000</td>\n",
       "      <td>1</td>\n",
       "      <td>0.00</td>\n",
       "    </tr>\n",
       "    <tr>\n",
       "      <th>2013-04</th>\n",
       "      <td>399.560000</td>\n",
       "      <td>1</td>\n",
       "      <td>399.56</td>\n",
       "    </tr>\n",
       "    <tr>\n",
       "      <th>2013-06</th>\n",
       "      <td>29459.690000</td>\n",
       "      <td>1</td>\n",
       "      <td>29459.69</td>\n",
       "    </tr>\n",
       "    <tr>\n",
       "      <th>2013-10</th>\n",
       "      <td>1916.330000</td>\n",
       "      <td>1</td>\n",
       "      <td>1916.33</td>\n",
       "    </tr>\n",
       "    <tr>\n",
       "      <th>2014-01</th>\n",
       "      <td>4386.080000</td>\n",
       "      <td>1</td>\n",
       "      <td>4386.08</td>\n",
       "    </tr>\n",
       "    <tr>\n",
       "      <th>...</th>\n",
       "      <th>...</th>\n",
       "      <td>...</td>\n",
       "      <td>...</td>\n",
       "      <td>...</td>\n",
       "    </tr>\n",
       "    <tr>\n",
       "      <th rowspan=\"5\" valign=\"top\">ZEST</th>\n",
       "      <th>2016-06</th>\n",
       "      <td>1389.913571</td>\n",
       "      <td>28</td>\n",
       "      <td>38917.58</td>\n",
       "    </tr>\n",
       "    <tr>\n",
       "      <th>2016-07</th>\n",
       "      <td>1607.420250</td>\n",
       "      <td>40</td>\n",
       "      <td>64296.81</td>\n",
       "    </tr>\n",
       "    <tr>\n",
       "      <th>2016-08</th>\n",
       "      <td>6648.588571</td>\n",
       "      <td>35</td>\n",
       "      <td>232700.60</td>\n",
       "    </tr>\n",
       "    <tr>\n",
       "      <th>2016-09</th>\n",
       "      <td>2311.371333</td>\n",
       "      <td>30</td>\n",
       "      <td>69341.14</td>\n",
       "    </tr>\n",
       "    <tr>\n",
       "      <th>2016-10</th>\n",
       "      <td>4888.993636</td>\n",
       "      <td>55</td>\n",
       "      <td>268894.65</td>\n",
       "    </tr>\n",
       "  </tbody>\n",
       "</table>\n",
       "<p>7506 rows × 3 columns</p>\n",
       "</div>"
      ],
      "text/plain": [
       "                        mean  count    revenue\n",
       "Model month-yr                                \n",
       "207   2013-02       0.000000      1       0.00\n",
       "      2013-04     399.560000      1     399.56\n",
       "      2013-06   29459.690000      1   29459.69\n",
       "      2013-10    1916.330000      1    1916.33\n",
       "      2014-01    4386.080000      1    4386.08\n",
       "...                      ...    ...        ...\n",
       "ZEST  2016-06    1389.913571     28   38917.58\n",
       "      2016-07    1607.420250     40   64296.81\n",
       "      2016-08    6648.588571     35  232700.60\n",
       "      2016-09    2311.371333     30   69341.14\n",
       "      2016-10    4888.993636     55  268894.65\n",
       "\n",
       "[7506 rows x 3 columns]"
      ]
     },
     "execution_count": 8,
     "metadata": {},
     "output_type": "execute_result"
    }
   ],
   "source": [
    "revenue_model"
   ]
  },
  {
   "cell_type": "code",
   "execution_count": 9,
   "metadata": {},
   "outputs": [],
   "source": [
    "model_data=revenue_model.round(1).pivot_table(index=['month-yr'],columns=['Model'],values=['revenue'],fill_value=0,aggfunc='sum').reset_index()"
   ]
  },
  {
   "cell_type": "code",
   "execution_count": 10,
   "metadata": {},
   "outputs": [],
   "source": [
    "model_data.columns=model_data.columns.droplevel()\n",
    "model_data.rename(columns={'':'Month-yr'},inplace=True)"
   ]
  },
  {
   "cell_type": "code",
   "execution_count": 11,
   "metadata": {},
   "outputs": [],
   "source": [
    "model_data['total_revenue']=model_data.iloc[:,1:].sum(axis=1)"
   ]
  },
  {
   "cell_type": "code",
   "execution_count": 12,
   "metadata": {},
   "outputs": [
    {
     "data": {
      "text/html": [
       "<div>\n",
       "<style scoped>\n",
       "    .dataframe tbody tr th:only-of-type {\n",
       "        vertical-align: middle;\n",
       "    }\n",
       "\n",
       "    .dataframe tbody tr th {\n",
       "        vertical-align: top;\n",
       "    }\n",
       "\n",
       "    .dataframe thead th {\n",
       "        text-align: right;\n",
       "    }\n",
       "</style>\n",
       "<table border=\"1\" class=\"dataframe\">\n",
       "  <thead>\n",
       "    <tr style=\"text-align: right;\">\n",
       "      <th>Model</th>\n",
       "      <th>Month-yr</th>\n",
       "      <th>207</th>\n",
       "      <th>3 SERIES</th>\n",
       "      <th>5 SERIES</th>\n",
       "      <th>500</th>\n",
       "      <th>6 SERIES</th>\n",
       "      <th>7 SERIES</th>\n",
       "      <th>800</th>\n",
       "      <th>A STAR</th>\n",
       "      <th>A4</th>\n",
       "      <th>...</th>\n",
       "      <th>XCENT</th>\n",
       "      <th>XENON XT</th>\n",
       "      <th>XUV 500</th>\n",
       "      <th>XYLO</th>\n",
       "      <th>YETI</th>\n",
       "      <th>Z4</th>\n",
       "      <th>ZEN</th>\n",
       "      <th>ZEN ESTILO</th>\n",
       "      <th>ZEST</th>\n",
       "      <th>total_revenue</th>\n",
       "    </tr>\n",
       "  </thead>\n",
       "  <tbody>\n",
       "    <tr>\n",
       "      <th>0</th>\n",
       "      <td>2012-04</td>\n",
       "      <td>0.0</td>\n",
       "      <td>0.0</td>\n",
       "      <td>0.0</td>\n",
       "      <td>0.0</td>\n",
       "      <td>0.0</td>\n",
       "      <td>0.0</td>\n",
       "      <td>123133.5</td>\n",
       "      <td>7854.8</td>\n",
       "      <td>315.1</td>\n",
       "      <td>...</td>\n",
       "      <td>0.0</td>\n",
       "      <td>0.0</td>\n",
       "      <td>0.0</td>\n",
       "      <td>289312.7</td>\n",
       "      <td>0.0</td>\n",
       "      <td>0.0</td>\n",
       "      <td>79027.8</td>\n",
       "      <td>33912.5</td>\n",
       "      <td>0.0</td>\n",
       "      <td>8074167.1</td>\n",
       "    </tr>\n",
       "    <tr>\n",
       "      <th>1</th>\n",
       "      <td>2012-05</td>\n",
       "      <td>0.0</td>\n",
       "      <td>0.0</td>\n",
       "      <td>399.6</td>\n",
       "      <td>0.0</td>\n",
       "      <td>0.0</td>\n",
       "      <td>0.0</td>\n",
       "      <td>121783.2</td>\n",
       "      <td>2392.9</td>\n",
       "      <td>0.0</td>\n",
       "      <td>...</td>\n",
       "      <td>0.0</td>\n",
       "      <td>0.0</td>\n",
       "      <td>700.5</td>\n",
       "      <td>227977.1</td>\n",
       "      <td>0.0</td>\n",
       "      <td>0.0</td>\n",
       "      <td>54073.9</td>\n",
       "      <td>9911.7</td>\n",
       "      <td>0.0</td>\n",
       "      <td>8722166.6</td>\n",
       "    </tr>\n",
       "    <tr>\n",
       "      <th>2</th>\n",
       "      <td>2012-06</td>\n",
       "      <td>0.0</td>\n",
       "      <td>0.0</td>\n",
       "      <td>0.0</td>\n",
       "      <td>0.0</td>\n",
       "      <td>0.0</td>\n",
       "      <td>0.0</td>\n",
       "      <td>118818.7</td>\n",
       "      <td>11251.8</td>\n",
       "      <td>0.0</td>\n",
       "      <td>...</td>\n",
       "      <td>0.0</td>\n",
       "      <td>0.0</td>\n",
       "      <td>0.0</td>\n",
       "      <td>250102.1</td>\n",
       "      <td>0.0</td>\n",
       "      <td>0.0</td>\n",
       "      <td>161056.6</td>\n",
       "      <td>25037.4</td>\n",
       "      <td>0.0</td>\n",
       "      <td>9583730.5</td>\n",
       "    </tr>\n",
       "    <tr>\n",
       "      <th>3</th>\n",
       "      <td>2012-07</td>\n",
       "      <td>0.0</td>\n",
       "      <td>0.0</td>\n",
       "      <td>5550.0</td>\n",
       "      <td>0.0</td>\n",
       "      <td>0.0</td>\n",
       "      <td>0.0</td>\n",
       "      <td>201496.6</td>\n",
       "      <td>13606.9</td>\n",
       "      <td>349.7</td>\n",
       "      <td>...</td>\n",
       "      <td>0.0</td>\n",
       "      <td>0.0</td>\n",
       "      <td>0.0</td>\n",
       "      <td>455016.2</td>\n",
       "      <td>0.0</td>\n",
       "      <td>0.0</td>\n",
       "      <td>144173.0</td>\n",
       "      <td>38187.4</td>\n",
       "      <td>0.0</td>\n",
       "      <td>10232167.4</td>\n",
       "    </tr>\n",
       "    <tr>\n",
       "      <th>4</th>\n",
       "      <td>2012-08</td>\n",
       "      <td>0.0</td>\n",
       "      <td>0.0</td>\n",
       "      <td>0.0</td>\n",
       "      <td>299.9</td>\n",
       "      <td>0.0</td>\n",
       "      <td>0.0</td>\n",
       "      <td>164450.2</td>\n",
       "      <td>8840.4</td>\n",
       "      <td>0.0</td>\n",
       "      <td>...</td>\n",
       "      <td>0.0</td>\n",
       "      <td>0.0</td>\n",
       "      <td>4210.5</td>\n",
       "      <td>179911.4</td>\n",
       "      <td>0.0</td>\n",
       "      <td>0.0</td>\n",
       "      <td>132799.3</td>\n",
       "      <td>45499.5</td>\n",
       "      <td>0.0</td>\n",
       "      <td>8917274.6</td>\n",
       "    </tr>\n",
       "  </tbody>\n",
       "</table>\n",
       "<p>5 rows × 247 columns</p>\n",
       "</div>"
      ],
      "text/plain": [
       "Model Month-yr  207  3 SERIES  5 SERIES    500  6 SERIES  7 SERIES       800  \\\n",
       "0      2012-04  0.0       0.0       0.0    0.0       0.0       0.0  123133.5   \n",
       "1      2012-05  0.0       0.0     399.6    0.0       0.0       0.0  121783.2   \n",
       "2      2012-06  0.0       0.0       0.0    0.0       0.0       0.0  118818.7   \n",
       "3      2012-07  0.0       0.0    5550.0    0.0       0.0       0.0  201496.6   \n",
       "4      2012-08  0.0       0.0       0.0  299.9       0.0       0.0  164450.2   \n",
       "\n",
       "Model   A STAR     A4  ...  XCENT  XENON XT  XUV 500      XYLO  YETI   Z4  \\\n",
       "0       7854.8  315.1  ...    0.0       0.0      0.0  289312.7   0.0  0.0   \n",
       "1       2392.9    0.0  ...    0.0       0.0    700.5  227977.1   0.0  0.0   \n",
       "2      11251.8    0.0  ...    0.0       0.0      0.0  250102.1   0.0  0.0   \n",
       "3      13606.9  349.7  ...    0.0       0.0      0.0  455016.2   0.0  0.0   \n",
       "4       8840.4    0.0  ...    0.0       0.0   4210.5  179911.4   0.0  0.0   \n",
       "\n",
       "Model       ZEN  ZEN ESTILO  ZEST  total_revenue  \n",
       "0       79027.8     33912.5   0.0      8074167.1  \n",
       "1       54073.9      9911.7   0.0      8722166.6  \n",
       "2      161056.6     25037.4   0.0      9583730.5  \n",
       "3      144173.0     38187.4   0.0     10232167.4  \n",
       "4      132799.3     45499.5   0.0      8917274.6  \n",
       "\n",
       "[5 rows x 247 columns]"
      ]
     },
     "execution_count": 12,
     "metadata": {},
     "output_type": "execute_result"
    }
   ],
   "source": [
    "model_data.head(5)"
   ]
  },
  {
   "cell_type": "code",
   "execution_count": 13,
   "metadata": {},
   "outputs": [],
   "source": [
    "time_series_data=model_data[['total_revenue','Month-yr']].sort_values(by='Month-yr')\n",
    "time_series_data['Month-yr']=pd.to_datetime(time_series_data['Month-yr'])\n",
    "time_series_data.set_index('Month-yr',inplace=True)"
   ]
  },
  {
   "cell_type": "code",
   "execution_count": 307,
   "metadata": {},
   "outputs": [
    {
     "data": {
      "text/plain": [
       "<matplotlib.axes._subplots.AxesSubplot at 0x1bbc9f90048>"
      ]
     },
     "execution_count": 307,
     "metadata": {},
     "output_type": "execute_result"
    },
    {
     "data": {
      "image/png": "[encoded data removed]",
      "text/plain": [
       "<Figure size 432x288 with 1 Axes>"
      ]
     },
     "metadata": {
      "needs_background": "light"
     },
     "output_type": "display_data"
    }
   ],
   "source": [
    "time_series_data.plot()"
   ]
  },
  {
   "cell_type": "code",
   "execution_count": 15,
   "metadata": {},
   "outputs": [
    {
     "name": "stdout",
     "output_type": "stream",
     "text": [
      "data has No stationarity\n"
     ]
    }
   ],
   "source": [
    "if adfuller(time_series_data.total_revenue)[1]<=0.55:\n",
    "    print('data has stationarity')\n",
    "else:\n",
    "    print('data has No stationarity')"
   ]
  },
  {
   "cell_type": "code",
   "execution_count": 16,
   "metadata": {},
   "outputs": [],
   "source": [
    "first_diff_order=time_series_data.diff(periods=1)\n",
    "first_diff_order=first_diff_order[1:]"
   ]
  },
  {
   "cell_type": "code",
   "execution_count": 17,
   "metadata": {},
   "outputs": [],
   "source": [
    "second_diff_order=first_diff_order.diff(periods=1)\n",
    "second_diff_order=second_diff_order[1:]"
   ]
  },
  {
   "cell_type": "code",
   "execution_count": 18,
   "metadata": {},
   "outputs": [
    {
     "data": {
      "text/plain": [
       "<matplotlib.axes._subplots.AxesSubplot at 0x1bbb59feac8>"
      ]
     },
     "execution_count": 18,
     "metadata": {},
     "output_type": "execute_result"
    },
    {
     "data": {
      "image/png": "[encoded data removed]",
      "text/plain": [
       "<Figure size 432x288 with 1 Axes>"
      ]
     },
     "metadata": {
      "needs_background": "light"
     },
     "output_type": "display_data"
    }
   ],
   "source": [
    "second_diff_order.plot()"
   ]
  },
  {
   "cell_type": "code",
   "execution_count": 19,
   "metadata": {},
   "outputs": [
    {
     "name": "stdout",
     "output_type": "stream",
     "text": [
      "data has stationarity\n"
     ]
    }
   ],
   "source": [
    "if adfuller(second_diff_order)[1]<=0.55:\n",
    "    print('data has stationarity')\n",
    "else:\n",
    "    print('data has No stationarity')"
   ]
  },
  {
   "cell_type": "code",
   "execution_count": 20,
   "metadata": {},
   "outputs": [
    {
     "data": {
      "image/png": "[encoded data removed]",
      "text/plain": [
       "<Figure size 864x576 with 2 Axes>"
      ]
     },
     "metadata": {
      "needs_background": "light"
     },
     "output_type": "display_data"
    }
   ],
   "source": [
    "fig=plt.figure(figsize=(12,8))\n",
    "ax1=fig.add_subplot(2,1,1)\n",
    "fig=sm.graphics.tsa.plot_acf(second_diff_order,ax=ax1)\n",
    "ax2=fig.add_subplot(2,1,2)\n",
    "fig=sm.graphics.tsa.plot_pacf(second_diff_order,ax=ax2)\n",
    "plt.show()"
   ]
  },
  {
   "cell_type": "code",
   "execution_count": 21,
   "metadata": {},
   "outputs": [],
   "source": [
    "result = seasonal_decompose(time_series_data['total_revenue'],  \n",
    "                            model ='multiplicative')"
   ]
  },
  {
   "cell_type": "code",
   "execution_count": 22,
   "metadata": {},
   "outputs": [
    {
     "data": {
      "image/png": "[encoded data removed]",
      "text/plain": [
       "<Figure size 432x288 with 4 Axes>"
      ]
     },
     "execution_count": 22,
     "metadata": {},
     "output_type": "execute_result"
    },
    {
     "data": {
      "image/png": "[encoded data removed]",
      "text/plain": [
       "<Figure size 432x288 with 4 Axes>"
      ]
     },
     "metadata": {
      "needs_background": "light"
     },
     "output_type": "display_data"
    }
   ],
   "source": [
    "result.plot()"
   ]
  },
  {
   "cell_type": "code",
   "execution_count": 23,
   "metadata": {},
   "outputs": [],
   "source": [
    "#split the data into train and test\n",
    "X_train=time_series_data['total_revenue'].values[:len(time_series_data['total_revenue'])-9] # train size=27\n",
    "X_test=time_series_data['total_revenue'].values[len(time_series_data['total_revenue'])-9:] #test size=9"
   ]
  },
  {
   "cell_type": "code",
   "execution_count": 68,
   "metadata": {},
   "outputs": [],
   "source": [
    "\n",
    "p=d=q=range(0,10)\n",
    "pdq=list(product(p,d,q))\n",
    "\n",
    "warnings.filterwarnings('ignore')\n",
    "aic_list={}\n",
    "for params in pdq:\n",
    "    try:\n",
    "        model_arima=ARIMA(X_train,order=params)\n",
    "        model_arima_fit=model_arima.fit()\n",
    "        predictions_Arima=model_arima_fit.forecast(steps=9)[0]\n",
    "        aic_list.update({params:np.sqrt(mean_squared_error(X_test,predictions_Arima))})\n",
    "    except:\n",
    "        continue"
   ]
  },
  {
   "cell_type": "code",
   "execution_count": 70,
   "metadata": {},
   "outputs": [
    {
     "name": "stdout",
     "output_type": "stream",
     "text": [
      "Minimum rmse at :  (1, 2, 0)\n"
     ]
    }
   ],
   "source": [
    "min_rmse=min(aic_list, key=aic_list.get)\n",
    "print('Minimum rmse at : ',min_rmse)\n",
    "arima=ARIMA(X_train,order=min_rmse)\n",
    "arima_fit=arima.fit()\n",
    "predictions_Arima=arima_fit.forecast(steps=9)[0]"
   ]
  },
  {
   "cell_type": "code",
   "execution_count": 71,
   "metadata": {},
   "outputs": [
    {
     "data": {
      "image/png": "[encoded data removed]",
      "text/plain": [
       "<Figure size 432x288 with 1 Axes>"
      ]
     },
     "metadata": {
      "needs_background": "light"
     },
     "output_type": "display_data"
    },
    {
     "data": {
      "text/markdown": [
       " aic score= 1442.26 "
      ],
      "text/plain": [
       "<IPython.core.display.Markdown object>"
      ]
     },
     "execution_count": 71,
     "metadata": {},
     "output_type": "execute_result"
    }
   ],
   "source": [
    "plt.plot(X_test)\n",
    "plt.plot(predictions_Arima,color='red')\n",
    "plt.title('ARIMA/predict')\n",
    "plt.legend(['test data','prediction data'])\n",
    "plt.show()\n",
    "md(' aic score= {} '.format(round(arima_fit.aic,2)))"
   ]
  },
  {
   "cell_type": "code",
   "execution_count": null,
   "metadata": {},
   "outputs": [],
   "source": []
  },
  {
   "cell_type": "code",
   "execution_count": 118,
   "metadata": {},
   "outputs": [
    {
     "name": "stdout",
     "output_type": "stream",
     "text": [
      "Performing stepwise search to minimize aic\n",
      "Fit ARIMA(0,2,0)x(0,2,1,11) [intercept=True]; AIC=1090.159, BIC=1094.461, Time=0.179 seconds\n",
      "Fit ARIMA(0,2,0)x(0,2,0,11) [intercept=True]; AIC=1099.548, BIC=1102.416, Time=0.017 seconds\n",
      "Fit ARIMA(1,2,0)x(1,2,0,11) [intercept=True]; AIC=1074.004, BIC=1079.740, Time=0.418 seconds\n",
      "Near non-invertible roots for order (1, 2, 0)(1, 2, 0, 11); setting score to inf (at least one inverse root too close to the border of the unit circle: 1.000)\n",
      "Fit ARIMA(0,2,1)x(0,2,1,11) [intercept=True]; AIC=1083.652, BIC=1089.388, Time=0.250 seconds\n",
      "Fit ARIMA(0,2,0)x(0,2,0,11) [intercept=False]; AIC=1103.841, BIC=1105.275, Time=0.013 seconds\n",
      "Fit ARIMA(0,2,1)x(0,2,0,11) [intercept=True]; AIC=1086.360, BIC=1090.662, Time=0.042 seconds\n",
      "Fit ARIMA(0,2,1)x(1,2,1,11) [intercept=True]; AIC=1074.130, BIC=1081.300, Time=0.638 seconds\n",
      "Fit ARIMA(0,2,1)x(1,2,0,11) [intercept=True]; AIC=1072.494, BIC=1078.230, Time=0.291 seconds\n",
      "Fit ARIMA(0,2,1)x(2,2,0,11) [intercept=True]; AIC=1072.126, BIC=1079.296, Time=0.628 seconds\n",
      "Fit ARIMA(0,2,1)x(2,2,1,11) [intercept=True]; AIC=1071.596, BIC=1080.200, Time=2.214 seconds\n",
      "Near non-invertible roots for order (0, 2, 1)(2, 2, 1, 11); setting score to inf (at least one inverse root too close to the border of the unit circle: 1.000)\n",
      "Fit ARIMA(0,2,0)x(2,2,0,11) [intercept=True]; AIC=1090.575, BIC=1096.311, Time=0.397 seconds\n",
      "Fit ARIMA(1,2,1)x(2,2,0,11) [intercept=True]; AIC=1065.142, BIC=1073.746, Time=0.743 seconds\n",
      "Fit ARIMA(1,2,1)x(1,2,0,11) [intercept=True]; AIC=1064.517, BIC=1071.687, Time=0.339 seconds\n",
      "Fit ARIMA(1,2,1)x(0,2,0,11) [intercept=True]; AIC=1080.445, BIC=1086.181, Time=0.079 seconds\n",
      "Fit ARIMA(1,2,1)x(1,2,1,11) [intercept=True]; AIC=1066.510, BIC=1075.114, Time=0.483 seconds\n",
      "Fit ARIMA(1,2,1)x(0,2,1,11) [intercept=True]; AIC=1074.897, BIC=1082.066, Time=0.375 seconds\n",
      "Fit ARIMA(1,2,1)x(2,2,1,11) [intercept=True]; AIC=1066.077, BIC=1076.115, Time=2.153 seconds\n",
      "Near non-invertible roots for order (1, 2, 1)(2, 2, 1, 11); setting score to inf (at least one inverse root too close to the border of the unit circle: 0.999)\n",
      "Fit ARIMA(2,2,1)x(1,2,0,11) [intercept=True]; AIC=1061.732, BIC=1070.336, Time=0.458 seconds\n",
      "Fit ARIMA(2,2,1)x(0,2,0,11) [intercept=True]; AIC=1073.993, BIC=1081.163, Time=0.109 seconds\n",
      "Fit ARIMA(2,2,1)x(2,2,0,11) [intercept=True]; AIC=1060.460, BIC=1070.498, Time=0.744 seconds\n",
      "Fit ARIMA(2,2,1)x(2,2,1,11) [intercept=True]; AIC=1062.085, BIC=1073.556, Time=0.929 seconds\n",
      "Fit ARIMA(2,2,1)x(1,2,1,11) [intercept=True]; AIC=1061.330, BIC=1071.368, Time=0.488 seconds\n",
      "Fit ARIMA(2,2,0)x(2,2,0,11) [intercept=True]; AIC=1062.001, BIC=1070.605, Time=0.734 seconds\n",
      "Fit ARIMA(2,2,2)x(2,2,0,11) [intercept=True]; AIC=1061.994, BIC=1073.466, Time=1.046 seconds\n",
      "Fit ARIMA(1,2,0)x(2,2,0,11) [intercept=True]; AIC=1075.557, BIC=1082.726, Time=0.710 seconds\n",
      "Fit ARIMA(1,2,2)x(2,2,0,11) [intercept=True]; AIC=1070.444, BIC=1080.482, Time=0.902 seconds\n",
      "Total fit time: 15.397 seconds\n"
     ]
    }
   ],
   "source": [
    "stepwise_fit = auto_arima(time_series_data['total_revenue'], start_p = 0, start_q = 0, \n",
    "                          max_p = 2, max_q = 2, m = 11,\n",
    "                          start_P = 0, seasonal = True,D = 2, trace = True, \n",
    "                          error_action ='ignore',   # we don't want to know if an order does not work \n",
    "                          suppress_warnings = True,  # we don't want convergence warnings \n",
    "                          stepwise = True,\n",
    "                          maxiter=100)     "
   ]
  },
  {
   "cell_type": "code",
   "execution_count": 119,
   "metadata": {},
   "outputs": [
    {
     "data": {
      "text/html": [
       "<table class=\"simpletable\">\n",
       "<caption>SARIMAX Results</caption>\n",
       "<tr>\n",
       "  <th>Dep. Variable:</th>                  <td>y</td>                <th>  No. Observations:  </th>    <td>55</td>   \n",
       "</tr>\n",
       "<tr>\n",
       "  <th>Model:</th>           <td>SARIMAX(2, 2, 1)x(2, 2, [], 11)</td> <th>  Log Likelihood     </th> <td>-523.230</td>\n",
       "</tr>\n",
       "<tr>\n",
       "  <th>Date:</th>                   <td>Sat, 11 Jul 2020</td>         <th>  AIC                </th> <td>1060.460</td>\n",
       "</tr>\n",
       "<tr>\n",
       "  <th>Time:</th>                       <td>00:54:22</td>             <th>  BIC                </th> <td>1070.498</td>\n",
       "</tr>\n",
       "<tr>\n",
       "  <th>Sample:</th>                         <td>0</td>                <th>  HQIC               </th> <td>1063.732</td>\n",
       "</tr>\n",
       "<tr>\n",
       "  <th></th>                              <td> - 55</td>              <th>                     </th>     <td> </td>   \n",
       "</tr>\n",
       "<tr>\n",
       "  <th>Covariance Type:</th>               <td>opg</td>               <th>                     </th>     <td> </td>   \n",
       "</tr>\n",
       "</table>\n",
       "<table class=\"simpletable\">\n",
       "<tr>\n",
       "      <td></td>         <th>coef</th>     <th>std err</th>      <th>z</th>      <th>P>|z|</th>  <th>[0.025</th>    <th>0.975]</th>  \n",
       "</tr>\n",
       "<tr>\n",
       "  <th>intercept</th> <td> 1.102e+06</td> <td> 1.57e+06</td> <td>    0.700</td> <td> 0.484</td> <td>-1.98e+06</td> <td> 4.19e+06</td>\n",
       "</tr>\n",
       "<tr>\n",
       "  <th>ar.L1</th>     <td>   -0.9973</td> <td>    0.704</td> <td>   -1.416</td> <td> 0.157</td> <td>   -2.377</td> <td>    0.383</td>\n",
       "</tr>\n",
       "<tr>\n",
       "  <th>ar.L2</th>     <td>   -0.6045</td> <td>    0.680</td> <td>   -0.889</td> <td> 0.374</td> <td>   -1.937</td> <td>    0.728</td>\n",
       "</tr>\n",
       "<tr>\n",
       "  <th>ma.L1</th>     <td>   -0.4259</td> <td>    0.828</td> <td>   -0.514</td> <td> 0.607</td> <td>   -2.049</td> <td>    1.197</td>\n",
       "</tr>\n",
       "<tr>\n",
       "  <th>ar.S.L11</th>  <td>   -1.1412</td> <td>    0.636</td> <td>   -1.794</td> <td> 0.073</td> <td>   -2.388</td> <td>    0.105</td>\n",
       "</tr>\n",
       "<tr>\n",
       "  <th>ar.S.L22</th>  <td>   -0.5742</td> <td>    0.789</td> <td>   -0.728</td> <td> 0.467</td> <td>   -2.121</td> <td>    0.972</td>\n",
       "</tr>\n",
       "<tr>\n",
       "  <th>sigma2</th>    <td> 4.858e+13</td> <td>    0.014</td> <td> 3.39e+15</td> <td> 0.000</td> <td> 4.86e+13</td> <td> 4.86e+13</td>\n",
       "</tr>\n",
       "</table>\n",
       "<table class=\"simpletable\">\n",
       "<tr>\n",
       "  <th>Ljung-Box (Q):</th>          <td>15.17</td> <th>  Jarque-Bera (JB):  </th> <td>1.07</td> \n",
       "</tr>\n",
       "<tr>\n",
       "  <th>Prob(Q):</th>                <td>0.99</td>  <th>  Prob(JB):          </th> <td>0.59</td> \n",
       "</tr>\n",
       "<tr>\n",
       "  <th>Heteroskedasticity (H):</th> <td>1.12</td>  <th>  Skew:              </th> <td>-0.14</td>\n",
       "</tr>\n",
       "<tr>\n",
       "  <th>Prob(H) (two-sided):</th>    <td>0.87</td>  <th>  Kurtosis:          </th> <td>3.87</td> \n",
       "</tr>\n",
       "</table><br/><br/>Warnings:<br/>[1] Covariance matrix calculated using the outer product of gradients (complex-step).<br/>[2] Covariance matrix is singular or near-singular, with condition number 9.15e+31. Standard errors may be unstable."
      ],
      "text/plain": [
       "<class 'statsmodels.iolib.summary.Summary'>\n",
       "\"\"\"\n",
       "                                      SARIMAX Results                                      \n",
       "===========================================================================================\n",
       "Dep. Variable:                                   y   No. Observations:                   55\n",
       "Model:             SARIMAX(2, 2, 1)x(2, 2, [], 11)   Log Likelihood                -523.230\n",
       "Date:                             Sat, 11 Jul 2020   AIC                           1060.460\n",
       "Time:                                     00:54:22   BIC                           1070.498\n",
       "Sample:                                          0   HQIC                          1063.732\n",
       "                                              - 55                                         \n",
       "Covariance Type:                               opg                                         \n",
       "==============================================================================\n",
       "                 coef    std err          z      P>|z|      [0.025      0.975]\n",
       "------------------------------------------------------------------------------\n",
       "intercept   1.102e+06   1.57e+06      0.700      0.484   -1.98e+06    4.19e+06\n",
       "ar.L1         -0.9973      0.704     -1.416      0.157      -2.377       0.383\n",
       "ar.L2         -0.6045      0.680     -0.889      0.374      -1.937       0.728\n",
       "ma.L1         -0.4259      0.828     -0.514      0.607      -2.049       1.197\n",
       "ar.S.L11      -1.1412      0.636     -1.794      0.073      -2.388       0.105\n",
       "ar.S.L22      -0.5742      0.789     -0.728      0.467      -2.121       0.972\n",
       "sigma2      4.858e+13      0.014   3.39e+15      0.000    4.86e+13    4.86e+13\n",
       "===================================================================================\n",
       "Ljung-Box (Q):                       15.17   Jarque-Bera (JB):                 1.07\n",
       "Prob(Q):                              0.99   Prob(JB):                         0.59\n",
       "Heteroskedasticity (H):               1.12   Skew:                            -0.14\n",
       "Prob(H) (two-sided):                  0.87   Kurtosis:                         3.87\n",
       "===================================================================================\n",
       "\n",
       "Warnings:\n",
       "[1] Covariance matrix calculated using the outer product of gradients (complex-step).\n",
       "[2] Covariance matrix is singular or near-singular, with condition number 9.15e+31. Standard errors may be unstable.\n",
       "\"\"\""
      ]
     },
     "execution_count": 119,
     "metadata": {},
     "output_type": "execute_result"
    }
   ],
   "source": [
    "stepwise_fit.summary()"
   ]
  },
  {
   "cell_type": "code",
   "execution_count": 260,
   "metadata": {},
   "outputs": [],
   "source": [
    "#seasonal ARIMA\n",
    "sarima=SARIMAX(X_train,order=(1, 2, 0),seasonal_order=(2, 2, 0, 11),trend='t')\n",
    "sarima_fit=sarima.fit(disp=0)\n",
    "predictions_sArima=sarima_fit.forecast(steps=9)"
   ]
  },
  {
   "cell_type": "code",
   "execution_count": 261,
   "metadata": {},
   "outputs": [
    {
     "data": {
      "image/png": "[encoded data removed]",
      "text/plain": [
       "<Figure size 432x288 with 1 Axes>"
      ]
     },
     "metadata": {
      "needs_background": "light"
     },
     "output_type": "display_data"
    },
    {
     "data": {
      "text/markdown": [
       " aic score= 761.81 "
      ],
      "text/plain": [
       "<IPython.core.display.Markdown object>"
      ]
     },
     "execution_count": 261,
     "metadata": {},
     "output_type": "execute_result"
    }
   ],
   "source": [
    "plt.plot(X_test)\n",
    "plt.plot(predictions_sArima,color='red')\n",
    "plt.title('Seasonal ARIMA Regressive model test/predict')\n",
    "plt.legend(['test data','prediction data'])\n",
    "plt.show()\n",
    "md(' aic score= {} '.format(round(sarima_fit.aic,2)))\n"
   ]
  },
  {
   "cell_type": "code",
   "execution_count": 315,
   "metadata": {},
   "outputs": [
    {
     "name": "stdout",
     "output_type": "stream",
     "text": [
      "20\n"
     ]
    }
   ],
   "source": [
    "dat=int(input())\n",
    "dates=[time_series_data['total_revenue'].index[-1]+DateOffset(months=x)for x in range(0,dat)]\n",
    "f_date=pd.DataFrame(index=dates[1:],columns=time_series_data.columns)\n",
    "dataset=pd.concat([time_series_data,f_date])\n",
    "predictions_sArima=sarima_fit.predict(start=55,end=dataset.shape[0]-1)\n",
    "dataset=dataset.drop(index=dataset.index,inplace=True)"
   ]
  },
  {
   "cell_type": "code",
   "execution_count": null,
   "metadata": {},
   "outputs": [],
   "source": []
  }
 ],
 "metadata": {
  "kernelspec": {
   "display_name": "Python 3",
   "language": "python",
   "name": "python3"
  },
  "language_info": {
   "codemirror_mode": {
    "name": "ipython",
    "version": 3
   },
   "file_extension": ".py",
   "mimetype": "text/x-python",
   "name": "python",
   "nbconvert_exporter": "python",
   "pygments_lexer": "ipython3",
   "version": "3.7.3"
  }
 },
 "nbformat": 4,
 "nbformat_minor": 2
}
