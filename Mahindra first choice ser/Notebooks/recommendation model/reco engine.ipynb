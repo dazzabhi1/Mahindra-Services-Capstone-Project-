{
 "cells": [
  {
   "cell_type": "code",
   "execution_count": 127,
   "metadata": {},
   "outputs": [],
   "source": [
    "import pandas as pd\n",
    "import numpy as np\n",
    "from datetime import datetime"
   ]
  },
  {
   "cell_type": "code",
   "execution_count": 128,
   "metadata": {},
   "outputs": [],
   "source": [
    "data=pd.read_csv('final_cluster_data.csv',low_memory=False,usecols=['Cust Type','Model','Make','Description','car_cat','JobCard Date Time','Invoice Date Time','Order Type','cluster'])"
   ]
  },
  {
   "cell_type": "code",
   "execution_count": 129,
   "metadata": {},
   "outputs": [],
   "source": [
    "data['service_days']=(pd.to_datetime(data['Invoice Date Time'])-pd.to_datetime(data['JobCard Date Time'])).dt.days\n",
    "\n",
    "data['service_hours']=(pd.to_datetime(data['Invoice Date Time'])-pd.to_datetime(data['JobCard Date Time'])).dt.seconds//3600\n"
   ]
  },
  {
   "cell_type": "code",
   "execution_count": 136,
   "metadata": {},
   "outputs": [],
   "source": [
    "def recomendaton(car_des,car_Make,car_model):\n",
    "    reco_des=[]\n",
    "        \n",
    "    imp_data=data[(data['Model']==str(car_model))&(data['Make']==str(car_Make))]\n",
    "    clus=imp_data['cluster'].value_counts().index[0]\n",
    "        \n",
    "    for x in imp_data['Description'].value_counts().head(10).index:\n",
    "        reco_des.append(x)\n",
    "    values=imp_data[(imp_data['cluster']==int(clus))&(imp_data['Description']==str(car_des))&(imp_data['service_days']>2)&(imp_data['service_days']<12)][['service_days','service_hours','car_cat']]\n",
    "    print(values['service_days'])\n",
    "    if values.shape[0]==0:\n",
    "        print(f'{car_des} not found')\n",
    "        days=0\n",
    "        hours=0\n",
    "        return reco_des,days,hours\n",
    "    service_days=values['service_days'].sum()\n",
    "    service_hours=values['service_hours'].sum()/24\n",
    "    if (type(service_hours)==np.float64 )or (type(service_hours)==np.float64):\n",
    "        s_days=str((int(service_hours)+service_days))+'.'\n",
    "        s_hours=str(int((service_hours%1)*24))\n",
    "        total_time=float(s_days+s_hours)\n",
    "        total_time=total_time/values.shape[0]\n",
    "        print(total_time,values.shape[0])\n",
    "        if (type(total_time)==float )or (type(total_time)==np.float64):\n",
    "            days=int(total_time)\n",
    "            print(int((total_time%1)*24))\n",
    "            hours=int((total_time%1)*24)+int(s_hours)\n",
    "            if hours>23:\n",
    "                days=days+1\n",
    "                hours=hours-24\n",
    "        else:\n",
    "            days=total_time\n",
    "            hours=0\n",
    "            \n",
    "    else:\n",
    "        s_days=service_days+service_hours\n",
    "        s_hours=0\n",
    "        total_time=s_days/values.shape[0]\n",
    "        if type(total_time)==np.float64:\n",
    "            days=int(total_time)\n",
    "            hours=int((total_time%1)*24)+int(s_hours)\n",
    "        else:\n",
    "            days=total_time\n",
    "            hours=0\n",
    "        \n",
    "    return reco_des,days,hours"
   ]
  },
  {
   "cell_type": "code",
   "execution_count": 69,
   "metadata": {},
   "outputs": [
    {
     "name": "stdout",
     "output_type": "stream",
     "text": [
      "enter order type : LABOR CHARGES (AS PER SURVEY)\n",
      "enter maker name : GENERAL MOTORS\n",
      "enter model name : SPARK\n",
      "will be checked : Paid Service-Minor\n",
      "will be checked : MISC_OTHER CHARGES\n",
      "will be checked : OIL FILTER\n",
      "will be checked : URANIA SUPREMO CI 4 15W 40\n",
      "will be checked : WASHING\n",
      "will be checked : Wheel Alignment\n",
      "will be checked : Wheel Balancing (5 Wheels)\n",
      "will be checked : Interior & Upholstery Cleaning\n",
      "will be checked : AIR FILTER\n",
      "will be checked : DISTILLED WATER\n",
      "servicing time : 7 days, 17 hours\n"
     ]
    }
   ],
   "source": [
    "\n",
    "car_des=str(input('enter order type : '))\n",
    "mk=str(input('enter maker name : '))\n",
    "md=str(input('enter model name : '))\n",
    "reco_des,days,hours=recomendaton(car_des,mk,md)\n",
    "for x in reco_des:\n",
    "    print('will be checked :',x)\n",
    "print(f'servicing time : {days} days, {hours} hours')\n"
   ]
  },
  {
   "cell_type": "code",
   "execution_count": 137,
   "metadata": {},
   "outputs": [
    {
     "name": "stdout",
     "output_type": "stream",
     "text": [
      "9280        5\n",
      "10886       3\n",
      "20003       4\n",
      "31345       5\n",
      "36874       3\n",
      "           ..\n",
      "2989245     3\n",
      "2991031     4\n",
      "3015121    10\n",
      "3020238     3\n",
      "3054333     3\n",
      "Name: service_days, Length: 208, dtype: int64\n",
      "5.654615384615385 208\n",
      "15\n"
     ]
    },
    {
     "data": {
      "text/plain": [
       "(['MISC_OTHER CHARGES',\n",
       "  'URANIA SUPREMO CI 4 15W 40',\n",
       "  'WASHING',\n",
       "  'Paid Service-Minor',\n",
       "  'OIL FILTER',\n",
       "  'Wheel Alignment',\n",
       "  'Wheel Balancing (5 Wheels)',\n",
       "  'Paid Service-Major',\n",
       "  'AIR FILTER',\n",
       "  'General Check up'],\n",
       " 6,\n",
       " 7)"
      ]
     },
     "execution_count": 137,
     "metadata": {},
     "output_type": "execute_result"
    }
   ],
   "source": [
    "recomendaton('AIR FILTER','MARUTI SUZUKI','800')"
   ]
  },
  {
   "cell_type": "code",
   "execution_count": null,
   "metadata": {},
   "outputs": [],
   "source": []
  }
 ],
 "metadata": {
  "kernelspec": {
   "display_name": "Python 3",
   "language": "python",
   "name": "python3"
  },
  "language_info": {
   "codemirror_mode": {
    "name": "ipython",
    "version": 3
   },
   "file_extension": ".py",
   "mimetype": "text/x-python",
   "name": "python",
   "nbconvert_exporter": "python",
   "pygments_lexer": "ipython3",
   "version": "3.7.3"
  }
 },
 "nbformat": 4,
 "nbformat_minor": 2
}
