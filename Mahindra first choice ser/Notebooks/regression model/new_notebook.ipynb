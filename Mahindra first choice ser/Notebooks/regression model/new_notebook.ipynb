{
 "cells": [
  {
   "cell_type": "code",
   "execution_count": 165,
   "metadata": {},
   "outputs": [],
   "source": [
    "import pandas as pd\n",
    "import numpy as np\n",
    "from pandas import read_excel\n",
    "import matplotlib.pyplot as plt\n",
    "from sklearn.model_selection import train_test_split\n",
    "from sklearn.linear_model import LinearRegression\n",
    "from sklearn.ensemble import RandomForestRegressor\n",
    "from sklearn import metrics\n",
    "from xgboost import XGBRegressor\n",
    "from sklearn.model_selection import RandomizedSearchCV,GridSearchCV\n",
    "from sklearn.model_selection import RepeatedStratifiedKFold,KFold"
   ]
  },
  {
   "cell_type": "code",
   "execution_count": 7,
   "metadata": {},
   "outputs": [
    {
     "name": "stderr",
     "output_type": "stream",
     "text": [
      "c:\\users\\dazzabhi\\appdata\\local\\programs\\python\\python37\\lib\\site-packages\\IPython\\core\\interactiveshell.py:3063: DtypeWarning: Columns (0,1) have mixed types.Specify dtype option on import or set low_memory=False.\n",
      "  interactivity=interactivity, compiler=compiler, result=result)\n"
     ]
    }
   ],
   "source": [
    "customer_data=pd.read_csv(\"Customer_Data_re.csv\")"
   ]
  },
  {
   "cell_type": "code",
   "execution_count": 8,
   "metadata": {},
   "outputs": [
    {
     "data": {
      "text/plain": [
       "Business Partner         0\n",
       "Customer No.             0\n",
       "Partner Type            78\n",
       "Data Origin            136\n",
       "Title                46307\n",
       "Marital Status      539301\n",
       "Occupation          540780\n",
       "Date of Birth       541894\n",
       "Death date          554675\n",
       "dtype: int64"
      ]
     },
     "execution_count": 8,
     "metadata": {},
     "output_type": "execute_result"
    }
   ],
   "source": [
    "customer_data.isna().sum()"
   ]
  },
  {
   "cell_type": "code",
   "execution_count": 20,
   "metadata": {},
   "outputs": [
    {
     "name": "stderr",
     "output_type": "stream",
     "text": [
      "c:\\users\\dazzabhi\\appdata\\local\\programs\\python\\python37\\lib\\site-packages\\IPython\\core\\interactiveshell.py:3063: DtypeWarning: Columns (9,10,14,15,21,41,51) have mixed types.Specify dtype option on import or set low_memory=False.\n",
      "  interactivity=interactivity, compiler=compiler, result=result)\n"
     ]
    }
   ],
   "source": [
    "invoice=pd.read_csv(\"Final_invoice.csv\")"
   ]
  },
  {
   "cell_type": "code",
   "execution_count": 11,
   "metadata": {},
   "outputs": [],
   "source": [
    "jtd_data=pd.read_csv(\"JTD.csv\")"
   ]
  },
  {
   "cell_type": "code",
   "execution_count": 21,
   "metadata": {},
   "outputs": [
    {
     "data": {
      "text/plain": [
       "Unnamed: 0                   0\n",
       "Amt Rcvd From Custom    197286\n",
       "Amt Rcvd From Ins Co    197286\n",
       "Area / Locality          23890\n",
       "CGST(14%)               197286\n",
       "CGST(2.5%)              197286\n",
       "CGST(6%)                197286\n",
       "CGST(9%)                197286\n",
       "CITY                         1\n",
       "Cash /Cashless Type     464894\n",
       "Claim No.               487510\n",
       "Cust Type                    0\n",
       "Customer No.                 0\n",
       "District                     0\n",
       "Expiry Date             470083\n",
       "Gate Pass Date          451399\n",
       "Gate Pass Time               0\n",
       "IGST(12%)               197286\n",
       "IGST(18%)               197286\n",
       "IGST(28%)               197286\n",
       "IGST(5%)                197286\n",
       "Insurance Company       468723\n",
       "Invoice Date                 0\n",
       "Invoice No                   0\n",
       "Invoice Time                 0\n",
       "Job Card No                  0\n",
       "JobCard Date                 0\n",
       "JobCard Time                 0\n",
       "KMs Reading                  0\n",
       "Labour Total                 0\n",
       "Make                         0\n",
       "Misc Total                   0\n",
       "Model                     1525\n",
       "ODN No.                 197286\n",
       "OSL Total                    0\n",
       "Order Type                   0\n",
       "Outstanding Amt         197286\n",
       "Parts Total                  0\n",
       "Pin code                     0\n",
       "Plant                        0\n",
       "Plant Name1                  0\n",
       "Policy no.              475432\n",
       "Print Status                 0\n",
       "Recovrbl Exp                 0\n",
       "Regn No                     16\n",
       "SGST/UGST(14%)          197286\n",
       "SGST/UGST(2.5%)         197286\n",
       "SGST/UGST(6%)           197286\n",
       "SGST/UGST(9%)           197286\n",
       "Service Advisor Name    492314\n",
       "TDS amount              197286\n",
       "Technician Name         236834\n",
       "Total Amt Wtd Tax.           0\n",
       "Total CGST              197286\n",
       "Total GST               197286\n",
       "Total IGST              197286\n",
       "Total SGST/UGST         197286\n",
       "Total Value             197286\n",
       "User ID                      0\n",
       "dtype: int64"
      ]
     },
     "execution_count": 21,
     "metadata": {},
     "output_type": "execute_result"
    }
   ],
   "source": [
    "invoice.isna().sum()"
   ]
  },
  {
   "cell_type": "code",
   "execution_count": 24,
   "metadata": {},
   "outputs": [
    {
     "data": {
      "text/plain": [
       "Index(['Unnamed: 0', 'CITY', 'Cust Type', 'Customer No.', 'District',\n",
       "       'Gate Pass Time', 'Invoice Date', 'Invoice No', 'Invoice Time',\n",
       "       'Job Card No', 'JobCard Date', 'JobCard Time', 'KMs Reading',\n",
       "       'Labour Total', 'Make', 'Misc Total', 'Model', 'OSL Total',\n",
       "       'Order Type', 'Parts Total', 'Pin code', 'Plant', 'Plant Name1',\n",
       "       'Print Status', 'Recovrbl Exp', 'Regn No', 'Total Amt Wtd Tax.',\n",
       "       'User ID'],\n",
       "      dtype='object')"
      ]
     },
     "execution_count": 24,
     "metadata": {},
     "output_type": "execute_result"
    }
   ],
   "source": [
    "invoice.columns"
   ]
  },
  {
   "cell_type": "code",
   "execution_count": 14,
   "metadata": {},
   "outputs": [],
   "source": [
    "invoice=invoice.dropna(axis=0,how='any')"
   ]
  },
  {
   "cell_type": "code",
   "execution_count": 22,
   "metadata": {},
   "outputs": [],
   "source": [
    "columns_to_be_removed = invoice.isnull().sum()[invoice.isnull().sum().sort_values() > 15000].index"
   ]
  },
  {
   "cell_type": "code",
   "execution_count": 23,
   "metadata": {
    "scrolled": true
   },
   "outputs": [],
   "source": [
    "invoice=invoice.drop(columns=columns_to_be_removed)"
   ]
  },
  {
   "cell_type": "code",
   "execution_count": 17,
   "metadata": {},
   "outputs": [],
   "source": [
    "invoice.dropna(subset=['Regn No'],inplace=True)"
   ]
  },
  {
   "cell_type": "code",
   "execution_count": 25,
   "metadata": {},
   "outputs": [],
   "source": [
    "invoice['CITY']=invoice['CITY'].fillna(invoice['CITY'].mode()[0])\n",
    "invoice['Model']=invoice['Model'].fillna(invoice['Model'].mode()[0])"
   ]
  },
  {
   "cell_type": "code",
   "execution_count": 168,
   "metadata": {},
   "outputs": [],
   "source": [
    "customer_data['Customer No.']=customer_data['Customer No.'].astype(str)"
   ]
  },
  {
   "cell_type": "code",
   "execution_count": 27,
   "metadata": {},
   "outputs": [],
   "source": [
    "invoice_customer=pd.merge(invoice,customer_data,left_on='Customer No.',right_on='Customer No.',how='left')"
   ]
  },
  {
   "cell_type": "code",
   "execution_count": 29,
   "metadata": {},
   "outputs": [
    {
     "data": {
      "text/plain": [
       "(492314, 36)"
      ]
     },
     "execution_count": 29,
     "metadata": {},
     "output_type": "execute_result"
    }
   ],
   "source": [
    "invoice_customer.shape"
   ]
  },
  {
   "cell_type": "code",
   "execution_count": 62,
   "metadata": {},
   "outputs": [],
   "source": [
    "columns=['Unnamed: 0','Gate Pass Time','Print Status','Recovrbl Exp']"
   ]
  },
  {
   "cell_type": "code",
   "execution_count": 31,
   "metadata": {},
   "outputs": [],
   "source": [
    "file_name=\"Plant Master.xlsx\"\n",
    "plant=pd.read_excel(file_name, index_col=0)\n",
    "plant=plant.reset_index()"
   ]
  },
  {
   "cell_type": "code",
   "execution_count": 32,
   "metadata": {},
   "outputs": [
    {
     "data": {
      "text/plain": [
       "(242, 438)"
      ]
     },
     "execution_count": 32,
     "metadata": {},
     "output_type": "execute_result"
    }
   ],
   "source": [
    "len(invoice_customer.Plant.unique()),len(plant.Plant.unique())"
   ]
  },
  {
   "cell_type": "code",
   "execution_count": 33,
   "metadata": {},
   "outputs": [
    {
     "data": {
      "text/plain": [
       "Plant                        0\n",
       "Name 1                       0\n",
       "Valuation Area               0\n",
       "Customer no. - plant         0\n",
       "Vendor number plant        436\n",
       "Factory calendar             0\n",
       "Name 2                       2\n",
       "House number and street      2\n",
       "PO Box                       1\n",
       "Postal Code                  0\n",
       "City                         0\n",
       "Sales organization           5\n",
       "State                        0\n",
       "dtype: int64"
      ]
     },
     "execution_count": 33,
     "metadata": {},
     "output_type": "execute_result"
    }
   ],
   "source": [
    "plant.isna().sum()"
   ]
  },
  {
   "cell_type": "code",
   "execution_count": 34,
   "metadata": {},
   "outputs": [],
   "source": [
    "plant = plant.drop(columns=['Vendor number plant', 'Valuation Area', 'Factory calendar', 'Name 2',\n",
    "                                      'House number and street', 'PO Box', 'Sales organization', 'Customer no. - plant'])"
   ]
  },
  {
   "cell_type": "code",
   "execution_count": 35,
   "metadata": {},
   "outputs": [],
   "source": [
    "invoice_customer_plant=pd.merge(invoice_customer,plant,how='left',left_on='Plant',right_on='Plant',on=None)"
   ]
  },
  {
   "cell_type": "code",
   "execution_count": 36,
   "metadata": {},
   "outputs": [],
   "source": [
    "columns=['Unnamed: 0','Gate Pass Time','Print Status','Recovrbl Exp']\n",
    "invoice_customer_plant=invoice_customer_plant.drop(columns=columns)"
   ]
  },
  {
   "cell_type": "code",
   "execution_count": 37,
   "metadata": {},
   "outputs": [],
   "source": [
    "columns1=['Title', 'Name 1','Postal Code', 'City', 'State']\n",
    "invoice_customer_plant_data=invoice_customer_plant.drop(columns=columns1)"
   ]
  },
  {
   "cell_type": "code",
   "execution_count": 38,
   "metadata": {},
   "outputs": [],
   "source": [
    "invoice_customer_plant_data['Business Partner']=invoice_customer_plant_data['Business Partner'].fillna(invoice_customer_plant_data['Business Partner'].mode()[0])\n",
    "invoice_customer_plant_data['Partner Type']=invoice_customer_plant_data['Partner Type'].ffill(axis=0,inplace=False)\n",
    "invoice_customer_plant_data['Data Origin']=invoice_customer_plant_data['Data Origin'].ffill(axis=0,inplace=False)"
   ]
  },
  {
   "cell_type": "code",
   "execution_count": 39,
   "metadata": {},
   "outputs": [],
   "source": [
    "jtd_data.drop(['Unnamed: 0',\"Labor Value Number\",'Target quantity UoM'],axis=1,inplace=True)"
   ]
  },
  {
   "cell_type": "code",
   "execution_count": 55,
   "metadata": {},
   "outputs": [],
   "source": [
    "invoice_customer_plant_jtd_data=pd.merge(invoice_customer_plant_data,jtd_data,left_on='Job Card No',right_on='DBM Order',how='left')"
   ]
  },
  {
   "cell_type": "code",
   "execution_count": 56,
   "metadata": {},
   "outputs": [],
   "source": [
    "invoice_customer_plant_jtd_data.dropna(how='any',axis=1,inplace=True)"
   ]
  },
  {
   "cell_type": "code",
   "execution_count": 68,
   "metadata": {},
   "outputs": [],
   "source": [
    "invoice_jtd_data=invoice_customer_plant_jtd_data"
   ]
  },
  {
   "cell_type": "code",
   "execution_count": 101,
   "metadata": {},
   "outputs": [],
   "source": [
    "invoice_jtd_data['Invoice Date']=pd.to_datetime(invoice_jtd_data['Invoice Date'])"
   ]
  },
  {
   "cell_type": "code",
   "execution_count": 102,
   "metadata": {},
   "outputs": [],
   "source": [
    "invoice_jtd_data['Invoice Date Time']=invoice_jtd_data['Invoice Date'].astype(str).str.cat(invoice_jtd_data[['Invoice Time']].astype(str),sep=\" \")"
   ]
  },
  {
   "cell_type": "code",
   "execution_count": 103,
   "metadata": {},
   "outputs": [],
   "source": [
    "invoice_jtd_data['JobCard Date']=pd.to_datetime(invoice_jtd_data['JobCard Date'])"
   ]
  },
  {
   "cell_type": "code",
   "execution_count": 104,
   "metadata": {},
   "outputs": [],
   "source": [
    "invoice_jtd_data['JobCard Date Time']=invoice_jtd_data['JobCard Date'].astype(str).str.cat(invoice_jtd_data[['JobCard Time']].astype(str),sep=\" \")"
   ]
  },
  {
   "cell_type": "code",
   "execution_count": 105,
   "metadata": {},
   "outputs": [],
   "source": [
    "invoice_jtd_data['JobCard Date Time']=pd.to_datetime(invoice_jtd_data['JobCard Date Time'])\n",
    "invoice_jtd_data['Invoice Date Time']=pd.to_datetime(invoice_jtd_data['Invoice Date Time'])"
   ]
  },
  {
   "cell_type": "code",
   "execution_count": 106,
   "metadata": {},
   "outputs": [],
   "source": [
    "invoice_jtd_data['Service Time']=invoice_jtd_data['Invoice Date Time']-invoice_jtd_data['JobCard Date Time']"
   ]
  },
  {
   "cell_type": "code",
   "execution_count": 107,
   "metadata": {},
   "outputs": [
    {
     "data": {
      "text/html": [
       "<div>\n",
       "<style scoped>\n",
       "    .dataframe tbody tr th:only-of-type {\n",
       "        vertical-align: middle;\n",
       "    }\n",
       "\n",
       "    .dataframe tbody tr th {\n",
       "        vertical-align: top;\n",
       "    }\n",
       "\n",
       "    .dataframe thead th {\n",
       "        text-align: right;\n",
       "    }\n",
       "</style>\n",
       "<table border=\"1\" class=\"dataframe\">\n",
       "  <thead>\n",
       "    <tr style=\"text-align: right;\">\n",
       "      <th></th>\n",
       "      <th>Service Time</th>\n",
       "    </tr>\n",
       "  </thead>\n",
       "  <tbody>\n",
       "    <tr>\n",
       "      <th>0</th>\n",
       "      <td>19 days 21:00:53</td>\n",
       "    </tr>\n",
       "    <tr>\n",
       "      <th>1</th>\n",
       "      <td>0 days 19:55:14</td>\n",
       "    </tr>\n",
       "    <tr>\n",
       "      <th>2</th>\n",
       "      <td>0 days 23:32:13</td>\n",
       "    </tr>\n",
       "    <tr>\n",
       "      <th>3</th>\n",
       "      <td>0 days 01:28:12</td>\n",
       "    </tr>\n",
       "    <tr>\n",
       "      <th>4</th>\n",
       "      <td>1 days 01:21:35</td>\n",
       "    </tr>\n",
       "    <tr>\n",
       "      <th>...</th>\n",
       "      <td>...</td>\n",
       "    </tr>\n",
       "    <tr>\n",
       "      <th>492270</th>\n",
       "      <td>0 days 05:41:46</td>\n",
       "    </tr>\n",
       "    <tr>\n",
       "      <th>492271</th>\n",
       "      <td>0 days 06:24:37</td>\n",
       "    </tr>\n",
       "    <tr>\n",
       "      <th>492272</th>\n",
       "      <td>0 days 07:16:05</td>\n",
       "    </tr>\n",
       "    <tr>\n",
       "      <th>492273</th>\n",
       "      <td>0 days 03:05:11</td>\n",
       "    </tr>\n",
       "    <tr>\n",
       "      <th>492274</th>\n",
       "      <td>0 days 00:15:13</td>\n",
       "    </tr>\n",
       "  </tbody>\n",
       "</table>\n",
       "<p>492275 rows × 1 columns</p>\n",
       "</div>"
      ],
      "text/plain": [
       "           Service Time\n",
       "0      19 days 21:00:53\n",
       "1       0 days 19:55:14\n",
       "2       0 days 23:32:13\n",
       "3       0 days 01:28:12\n",
       "4       1 days 01:21:35\n",
       "...                 ...\n",
       "492270  0 days 05:41:46\n",
       "492271  0 days 06:24:37\n",
       "492272  0 days 07:16:05\n",
       "492273  0 days 03:05:11\n",
       "492274  0 days 00:15:13\n",
       "\n",
       "[492275 rows x 1 columns]"
      ]
     },
     "execution_count": 107,
     "metadata": {},
     "output_type": "execute_result"
    }
   ],
   "source": [
    "invoice_jtd_data.loc[:,['Service Time']]"
   ]
  },
  {
   "cell_type": "code",
   "execution_count": 91,
   "metadata": {},
   "outputs": [
    {
     "data": {
      "text/html": [
       "<div>\n",
       "<style scoped>\n",
       "    .dataframe tbody tr th:only-of-type {\n",
       "        vertical-align: middle;\n",
       "    }\n",
       "\n",
       "    .dataframe tbody tr th {\n",
       "        vertical-align: top;\n",
       "    }\n",
       "\n",
       "    .dataframe thead th {\n",
       "        text-align: right;\n",
       "    }\n",
       "</style>\n",
       "<table border=\"1\" class=\"dataframe\">\n",
       "  <thead>\n",
       "    <tr style=\"text-align: right;\">\n",
       "      <th></th>\n",
       "      <th>DBM Order</th>\n",
       "      <th>Item Category</th>\n",
       "      <th>Order Quantity</th>\n",
       "      <th>Net value</th>\n",
       "    </tr>\n",
       "  </thead>\n",
       "  <tbody>\n",
       "    <tr>\n",
       "      <th>0</th>\n",
       "      <td>22385</td>\n",
       "      <td>P010</td>\n",
       "      <td>1.2</td>\n",
       "      <td>1869.87</td>\n",
       "    </tr>\n",
       "    <tr>\n",
       "      <th>1</th>\n",
       "      <td>23910</td>\n",
       "      <td>P002</td>\n",
       "      <td>1.0</td>\n",
       "      <td>2151.13</td>\n",
       "    </tr>\n",
       "    <tr>\n",
       "      <th>2</th>\n",
       "      <td>23910</td>\n",
       "      <td>P002</td>\n",
       "      <td>1.0</td>\n",
       "      <td>2552.92</td>\n",
       "    </tr>\n",
       "    <tr>\n",
       "      <th>3</th>\n",
       "      <td>23910</td>\n",
       "      <td>P002</td>\n",
       "      <td>1.0</td>\n",
       "      <td>20360.14</td>\n",
       "    </tr>\n",
       "    <tr>\n",
       "      <th>4</th>\n",
       "      <td>23910</td>\n",
       "      <td>P002</td>\n",
       "      <td>1.0</td>\n",
       "      <td>10691.63</td>\n",
       "    </tr>\n",
       "    <tr>\n",
       "      <th>...</th>\n",
       "      <td>...</td>\n",
       "      <td>...</td>\n",
       "      <td>...</td>\n",
       "      <td>...</td>\n",
       "    </tr>\n",
       "    <tr>\n",
       "      <th>5619479</th>\n",
       "      <td>962813</td>\n",
       "      <td>P001</td>\n",
       "      <td>850.0</td>\n",
       "      <td>1050.00</td>\n",
       "    </tr>\n",
       "    <tr>\n",
       "      <th>5619480</th>\n",
       "      <td>962813</td>\n",
       "      <td>P001</td>\n",
       "      <td>750.0</td>\n",
       "      <td>1250.00</td>\n",
       "    </tr>\n",
       "    <tr>\n",
       "      <th>5619481</th>\n",
       "      <td>962813</td>\n",
       "      <td>P001</td>\n",
       "      <td>42.0</td>\n",
       "      <td>223.00</td>\n",
       "    </tr>\n",
       "    <tr>\n",
       "      <th>5619482</th>\n",
       "      <td>962813</td>\n",
       "      <td>P001</td>\n",
       "      <td>450.0</td>\n",
       "      <td>450.00</td>\n",
       "    </tr>\n",
       "    <tr>\n",
       "      <th>5619483</th>\n",
       "      <td>962813</td>\n",
       "      <td>P001</td>\n",
       "      <td>1200.0</td>\n",
       "      <td>2149.99</td>\n",
       "    </tr>\n",
       "  </tbody>\n",
       "</table>\n",
       "<p>5619484 rows × 4 columns</p>\n",
       "</div>"
      ],
      "text/plain": [
       "         DBM Order Item Category  Order Quantity  Net value\n",
       "0            22385          P010             1.2    1869.87\n",
       "1            23910          P002             1.0    2151.13\n",
       "2            23910          P002             1.0    2552.92\n",
       "3            23910          P002             1.0   20360.14\n",
       "4            23910          P002             1.0   10691.63\n",
       "...            ...           ...             ...        ...\n",
       "5619479     962813          P001           850.0    1050.00\n",
       "5619480     962813          P001           750.0    1250.00\n",
       "5619481     962813          P001            42.0     223.00\n",
       "5619482     962813          P001           450.0     450.00\n",
       "5619483     962813          P001          1200.0    2149.99\n",
       "\n",
       "[5619484 rows x 4 columns]"
      ]
     },
     "execution_count": 91,
     "metadata": {},
     "output_type": "execute_result"
    }
   ],
   "source": [
    "jtd_data.drop(columns=['Description',\"Material\",\"Order Item\"])"
   ]
  },
  {
   "cell_type": "code",
   "execution_count": 92,
   "metadata": {},
   "outputs": [
    {
     "name": "stderr",
     "output_type": "stream",
     "text": [
      "c:\\users\\dazzabhi\\appdata\\local\\programs\\python\\python37\\lib\\site-packages\\ipykernel_launcher.py:4: FutureWarning: Indexing with multiple keys (implicitly converted to a tuple of keys) will be deprecated, use a list instead.\n",
      "  after removing the cwd from sys.path.\n"
     ]
    }
   ],
   "source": [
    "jtd_data_group={'Item Category' : lambda x: str(set(x)).strip('{}').replace(\"'\",\"\"), \n",
    "                'Order Quantity' : lambda x : x.sum(),\n",
    "                'Net value' : lambda x: x.sum()} \n",
    "jtd_data_groupby=jtd_data.groupby('DBM Order')['Item Category','Order Quantity','Net value'].agg(jtd_data_group).reset_index()"
   ]
  },
  {
   "cell_type": "code",
   "execution_count": 97,
   "metadata": {},
   "outputs": [],
   "source": [
    "columns=['Unnamed: 0','District','Gate Pass Time','Model','Pin code', 'Plant', 'Plant Name1',\n",
    "        'Regn No','User ID', ]"
   ]
  },
  {
   "cell_type": "code",
   "execution_count": 94,
   "metadata": {},
   "outputs": [
    {
     "data": {
      "text/plain": [
       "Index(['Unnamed: 0', 'CITY', 'Cust Type', 'Customer No.', 'District',\n",
       "       'Gate Pass Time', 'Invoice Date', 'Invoice No', 'Invoice Time',\n",
       "       'Job Card No', 'JobCard Date', 'JobCard Time', 'KMs Reading',\n",
       "       'Labour Total', 'Make', 'Misc Total', 'Model', 'OSL Total',\n",
       "       'Order Type', 'Parts Total', 'Pin code', 'Plant', 'Plant Name1',\n",
       "       'Print Status', 'Recovrbl Exp', 'Regn No', 'Total Amt Wtd Tax.',\n",
       "       'User ID'],\n",
       "      dtype='object')"
      ]
     },
     "execution_count": 94,
     "metadata": {},
     "output_type": "execute_result"
    }
   ],
   "source": [
    "invoice.columns"
   ]
  },
  {
   "cell_type": "code",
   "execution_count": 98,
   "metadata": {},
   "outputs": [],
   "source": [
    "invoice_final=invoice.drop(columns=columns)"
   ]
  },
  {
   "cell_type": "code",
   "execution_count": 99,
   "metadata": {},
   "outputs": [],
   "source": [
    "invoice_jtd_data=pd.merge(invoice_final,jtd_data_groupby,left_on='Job Card No',right_on='DBM Order',how=\"inner\")"
   ]
  },
  {
   "cell_type": "code",
   "execution_count": 108,
   "metadata": {},
   "outputs": [],
   "source": [
    "invoice_jtd_data['Service Category']=None\n",
    "invoice_jtd_data.loc[invoice_jtd_data['Service Time']<pd.Timedelta(hours=12),'Service Category']='Super_fast'\n",
    "invoice_jtd_data.loc[(invoice_jtd_data['Service Time']>pd.Timedelta(hours=12)) & (invoice_jtd_data['Service Time']<pd.Timedelta(hours=36)),'Service Category']='fast'\n",
    "invoice_jtd_data.loc[(invoice_jtd_data['Service Time']>pd.Timedelta(hours=36))& (invoice_jtd_data['Service Time']<pd.Timedelta(hours=100)),'Service Category']='moderate'\n",
    "invoice_jtd_data.loc[(invoice_jtd_data['Service Time']>pd.Timedelta(hours=100))& (invoice_jtd_data['Service Time']<pd.Timedelta(hours=192)),'Service Category']='slow'\n",
    "invoice_jtd_data.loc[(invoice_jtd_data['Service Time']>pd.Timedelta(hours=192))& (invoice_jtd_data['Service Time']<pd.Timedelta(hours=360)),'Service Category']='Super_slow'\n",
    "invoice_jtd_data.loc[invoice_jtd_data['Service Time']>pd.Timedelta(hours=360),'Service Category']='Default'"
   ]
  },
  {
   "cell_type": "code",
   "execution_count": 109,
   "metadata": {},
   "outputs": [],
   "source": [
    "most_freq_order_type=['Paid Service','Running Repairs',\"Accidental\",\"SMC Value Package\"]"
   ]
  },
  {
   "cell_type": "code",
   "execution_count": 110,
   "metadata": {},
   "outputs": [],
   "source": [
    "invoice_jtd_data[\"Order Type\"]=invoice_jtd_data['Order Type'].apply(lambda x: 'others' if x not in most_freq_order_type else x)"
   ]
  },
  {
   "cell_type": "code",
   "execution_count": 111,
   "metadata": {},
   "outputs": [],
   "source": [
    "most_freq_order_type=['Paid Service','Running Repairs',\"Accidental\",\"SMC Value Package\"]"
   ]
  },
  {
   "cell_type": "code",
   "execution_count": 112,
   "metadata": {},
   "outputs": [
    {
     "data": {
      "text/plain": [
       "Running Repairs      54.733635\n",
       "Paid Service         27.422680\n",
       "Accidental            8.967549\n",
       "others                6.889239\n",
       "SMC Value Package     1.986898\n",
       "Name: Order Type, dtype: float64"
      ]
     },
     "execution_count": 112,
     "metadata": {},
     "output_type": "execute_result"
    }
   ],
   "source": [
    "((invoice_jtd_data['Order Type'].value_counts())/(len(invoice_jtd_data['Order Type'])))*100"
   ]
  },
  {
   "cell_type": "code",
   "execution_count": 113,
   "metadata": {},
   "outputs": [],
   "source": [
    "most_freq_city=((invoice_jtd_data['CITY'].value_counts())/(len(invoice_jtd_data['CITY']))).iloc[0:6].index"
   ]
  },
  {
   "cell_type": "code",
   "execution_count": 114,
   "metadata": {},
   "outputs": [],
   "source": [
    "invoice_jtd_data['CITY']=invoice_jtd_data['CITY'].apply(lambda x: 'others' if x not in most_freq_city else x)"
   ]
  },
  {
   "cell_type": "code",
   "execution_count": 115,
   "metadata": {},
   "outputs": [
    {
     "data": {
      "text/plain": [
       "others       80.758113\n",
       "CHENNAI       5.837185\n",
       "PUNE          4.070489\n",
       "HYDERABAD     2.869534\n",
       "NASIK         2.446803\n",
       "NAGPUR        2.027322\n",
       "NASHIK        1.990554\n",
       "Name: CITY, dtype: float64"
      ]
     },
     "execution_count": 115,
     "metadata": {},
     "output_type": "execute_result"
    }
   ],
   "source": [
    "(((invoice_jtd_data['CITY'].value_counts())/(len(invoice_jtd_data['CITY'])))*100).head(10)"
   ]
  },
  {
   "cell_type": "code",
   "execution_count": 116,
   "metadata": {},
   "outputs": [
    {
     "data": {
      "text/plain": [
       "Index(['P002, P001', 'P001', 'P002, P001, P011'], dtype='object')"
      ]
     },
     "execution_count": 116,
     "metadata": {},
     "output_type": "execute_result"
    }
   ],
   "source": [
    "most_freq_item_category=(((invoice_jtd_data['Item Category'].value_counts())/(len(invoice_jtd_data['Item Category'])))*100)[(((invoice_jtd_data['Item Category'].value_counts())/(len(invoice_jtd_data['Item Category'])))*100)>5].index\n",
    "most_freq_item_category"
   ]
  },
  {
   "cell_type": "code",
   "execution_count": 117,
   "metadata": {},
   "outputs": [
    {
     "data": {
      "text/plain": [
       "Index(['CITY', 'Cust Type', 'Customer No.', 'Invoice Date', 'Invoice No',\n",
       "       'Invoice Time', 'Job Card No', 'JobCard Date', 'JobCard Time',\n",
       "       'KMs Reading', 'Labour Total', 'Make', 'Misc Total', 'OSL Total',\n",
       "       'Order Type', 'Parts Total', 'Print Status', 'Recovrbl Exp',\n",
       "       'Total Amt Wtd Tax.', 'DBM Order', 'Item Category', 'Order Quantity',\n",
       "       'Net value', 'Invoice Date Time', 'JobCard Date Time', 'Service Time',\n",
       "       'Service Category'],\n",
       "      dtype='object')"
      ]
     },
     "execution_count": 117,
     "metadata": {},
     "output_type": "execute_result"
    }
   ],
   "source": [
    "invoice_jtd_data.columns"
   ]
  },
  {
   "cell_type": "code",
   "execution_count": 118,
   "metadata": {},
   "outputs": [],
   "source": [
    "invoice_jtd_data['Item Category']=invoice_jtd_data['Item Category'].apply(lambda x: 'others' if x not in most_freq_item_category else x)"
   ]
  },
  {
   "cell_type": "code",
   "execution_count": 119,
   "metadata": {},
   "outputs": [
    {
     "data": {
      "text/plain": [
       "P002, P001          0.328824\n",
       "others              0.294275\n",
       "P001                0.270016\n",
       "P002, P001, P011    0.106885\n",
       "Name: Item Category, dtype: float64"
      ]
     },
     "execution_count": 119,
     "metadata": {},
     "output_type": "execute_result"
    }
   ],
   "source": [
    "invoice_jtd_data['Item Category'].value_counts()/len(invoice_jtd_data)"
   ]
  },
  {
   "cell_type": "code",
   "execution_count": 120,
   "metadata": {},
   "outputs": [
    {
     "data": {
      "text/plain": [
       "Index(['MARUTI SUZUKI', 'MAHINDRA &  MAHINDRA', 'HYUNDAI', 'TATA MOTORS',\n",
       "       'GENERAL MOTORS', 'FORD', 'TOYOTA', 'HONDA'],\n",
       "      dtype='object')"
      ]
     },
     "execution_count": 120,
     "metadata": {},
     "output_type": "execute_result"
    }
   ],
   "source": [
    "most_freq_car=((invoice_jtd_data['Make'].value_counts()/len(invoice_jtd_data[\"Make\"])*100))[((invoice_jtd_data['Make'].value_counts()/len(invoice_jtd_data[\"Make\"])*100))>2].index\n",
    "most_freq_car"
   ]
  },
  {
   "cell_type": "code",
   "execution_count": 121,
   "metadata": {},
   "outputs": [],
   "source": [
    "invoice_jtd_data['Make']=invoice_jtd_data[\"Make\"].apply(lambda x:'others' if x not in most_freq_car else x)"
   ]
  },
  {
   "cell_type": "code",
   "execution_count": 122,
   "metadata": {},
   "outputs": [
    {
     "data": {
      "text/plain": [
       "MARUTI SUZUKI           29.880656\n",
       "MAHINDRA &  MAHINDRA    17.742522\n",
       "HYUNDAI                 17.335026\n",
       "TATA MOTORS             11.788127\n",
       "GENERAL MOTORS           5.909502\n",
       "others                   5.857701\n",
       "FORD                     4.391042\n",
       "TOYOTA                   3.954091\n",
       "HONDA                    3.141334\n",
       "Name: Make, dtype: float64"
      ]
     },
     "execution_count": 122,
     "metadata": {},
     "output_type": "execute_result"
    }
   ],
   "source": [
    "invoice_jtd_data['Make'].value_counts()/len(invoice_jtd_data[\"Make\"])*100"
   ]
  },
  {
   "cell_type": "code",
   "execution_count": 123,
   "metadata": {},
   "outputs": [
    {
     "data": {
      "text/plain": [
       "Index(['Super_fast', 'fast', 'moderate'], dtype='object')"
      ]
     },
     "execution_count": 123,
     "metadata": {},
     "output_type": "execute_result"
    }
   ],
   "source": [
    "most_freq_serice_category=(invoice_jtd_data['Service Category'].value_counts()/len(invoice_jtd_data[\"Service Category\"])*100)[((invoice_jtd_data['Service Category'].value_counts()/len(invoice_jtd_data[\"Service Category\"])*100))>11].index\n",
    "most_freq_serice_category"
   ]
  },
  {
   "cell_type": "code",
   "execution_count": 124,
   "metadata": {},
   "outputs": [],
   "source": [
    "invoice_jtd_data['Service Category']=invoice_jtd_data['Service Category'].apply(lambda x:'others' if x not in most_freq_serice_category else x)"
   ]
  },
  {
   "cell_type": "code",
   "execution_count": 125,
   "metadata": {},
   "outputs": [
    {
     "data": {
      "text/plain": [
       "Super_fast    51.293891\n",
       "others        17.104667\n",
       "fast          16.039003\n",
       "moderate      15.562440\n",
       "Name: Service Category, dtype: float64"
      ]
     },
     "execution_count": 125,
     "metadata": {},
     "output_type": "execute_result"
    }
   ],
   "source": [
    "invoice_jtd_data['Service Category'].value_counts()/len(invoice_jtd_data[\"Service Category\"])*100"
   ]
  },
  {
   "cell_type": "code",
   "execution_count": 127,
   "metadata": {},
   "outputs": [
    {
     "name": "stderr",
     "output_type": "stream",
     "text": [
      "c:\\users\\dazzabhi\\appdata\\local\\programs\\python\\python37\\lib\\site-packages\\ipykernel_launcher.py:5: FutureWarning: Indexing with multiple keys (implicitly converted to a tuple of keys) will be deprecated, use a list instead.\n",
      "  \"\"\"\n"
     ]
    }
   ],
   "source": [
    "dic={'Invoice Date':lambda date: (date.max()-date.min()).days,\n",
    "        'Invoice No': lambda x: len(x),\n",
    "        'Order Quantity': lambda x: x.sum(),\n",
    "        'Net value' : lambda y: y.sum()}\n",
    "invoice_group=invoice_jtd_data.groupby('Customer No.')['Invoice Date','Invoice No','Order Quantity','Net value'].agg(dic).rename(columns={'Invoice Date':'num_days','Invoice No':'num_freq'})"
   ]
  },
  {
   "cell_type": "code",
   "execution_count": 128,
   "metadata": {},
   "outputs": [],
   "source": [
    "invoice_group['avg_order_value']=invoice_group['Net value']/invoice_group['num_freq']"
   ]
  },
  {
   "cell_type": "code",
   "execution_count": 129,
   "metadata": {},
   "outputs": [],
   "source": [
    "repair_freq=sum(invoice_group['num_freq'])/invoice_group.shape[0]\n",
    "repeat_rate=invoice_group[invoice_group['num_freq']>1].shape[0]/invoice_group.shape[0]\n",
    "churn_rate=(1-repeat_rate)"
   ]
  },
  {
   "cell_type": "code",
   "execution_count": 130,
   "metadata": {},
   "outputs": [
    {
     "data": {
      "text/plain": [
       "(1.9421507166556857, 0.3753397851413782, 0.6246602148586218)"
      ]
     },
     "execution_count": 130,
     "metadata": {},
     "output_type": "execute_result"
    }
   ],
   "source": [
    "repair_freq,repeat_rate,churn_rate"
   ]
  },
  {
   "cell_type": "code",
   "execution_count": 133,
   "metadata": {},
   "outputs": [],
   "source": [
    "invoice_group['profit_margin']=invoice_group['Net value']*0.05"
   ]
  },
  {
   "cell_type": "code",
   "execution_count": 134,
   "metadata": {},
   "outputs": [],
   "source": [
    "invoice_group['CLV']=((invoice_group['avg_order_value']*repair_freq)/(churn_rate))"
   ]
  },
  {
   "cell_type": "code",
   "execution_count": 137,
   "metadata": {},
   "outputs": [],
   "source": [
    "invoice_group['customer_lifetime_val']=((invoice_group['CLV']*invoice_group['profit_margin']).astype(np.int64)).astype(float)"
   ]
  },
  {
   "cell_type": "code",
   "execution_count": 138,
   "metadata": {},
   "outputs": [
    {
     "data": {
      "text/plain": [
       "62.47"
      ]
     },
     "execution_count": 138,
     "metadata": {},
     "output_type": "execute_result"
    },
    {
     "data": {
      "image/png": "[encoded data removed]",
      "text/plain": [
       "<Figure size 432x288 with 1 Axes>"
      ]
     },
     "metadata": {
      "needs_background": "light"
     },
     "output_type": "display_data"
    }
   ],
   "source": [
    "invoice_group['num_freq'].plot(kind='hist',bins=10)\n",
    "\n",
    "one_time= round(((sum(invoice_group['num_freq']==1)/len(invoice_group))*(100)),2)\n",
    "one_time"
   ]
  },
  {
   "cell_type": "code",
   "execution_count": 139,
   "metadata": {},
   "outputs": [],
   "source": [
    "invoice_jtd_data=pd.get_dummies(invoice_jtd_data,columns=['Order Type','Item Category','Make','Service Category','Cust Type','CITY'])"
   ]
  },
  {
   "cell_type": "code",
   "execution_count": 141,
   "metadata": {},
   "outputs": [
    {
     "name": "stderr",
     "output_type": "stream",
     "text": [
      "c:\\users\\dazzabhi\\appdata\\local\\programs\\python\\python37\\lib\\site-packages\\ipykernel_launcher.py:1: FutureWarning: Indexing with multiple keys (implicitly converted to a tuple of keys) will be deprecated, use a list instead.\n",
      "  \"\"\"Entry point for launching an IPython kernel.\n"
     ]
    }
   ],
   "source": [
    "final_group=invoice_jtd_data.groupby('Customer No.')['Make_FORD', 'Make_GENERAL MOTORS', 'Make_HONDA', 'Make_HYUNDAI',\n",
    "       'Make_MAHINDRA &  MAHINDRA', 'Make_MARUTI SUZUKI', 'Make_TATA MOTORS',\n",
    "       'Make_TOYOTA', 'Make_others','Order Type_Accidental', 'Order Type_Paid Service',\n",
    "       'Order Type_Running Repairs', 'Order Type_SMC Value Package',\n",
    "       'Order Type_others', 'Item Category_P001', 'Item Category_P002, P001',\n",
    "       'Item Category_P002, P001, P011',\n",
    "        'Item Category_others','Service Category_Super_fast',\n",
    "       'Service Category_fast', 'Service Category_moderate',\n",
    "       'Service Category_others','Order Type_Accidental', 'Order Type_Paid Service',\n",
    "       'Order Type_Running Repairs', 'Order Type_SMC Value Package',\n",
    "       'Order Type_others','Cust Type_Corporate others',\n",
    "       'Cust Type_Corporate- M&M', 'Cust Type_Fleets', 'Cust Type_Franchise',\n",
    "       'Cust Type_Insurance', 'Cust Type_MFCWL', 'Cust Type_Retail','CITY_CHENNAI', 'CITY_HYDERABAD', 'CITY_NAGPUR', 'CITY_NASHIK',\n",
    "       'CITY_NASIK', 'CITY_PUNE', 'CITY_others'].max()"
   ]
  },
  {
   "cell_type": "code",
   "execution_count": 142,
   "metadata": {},
   "outputs": [],
   "source": [
    "dataset=pd.merge(invoice_group,final_group,on='Customer No.',how='inner')"
   ]
  },
  {
   "cell_type": "code",
   "execution_count": 143,
   "metadata": {},
   "outputs": [
    {
     "data": {
      "text/html": [
       "<div>\n",
       "<style scoped>\n",
       "    .dataframe tbody tr th:only-of-type {\n",
       "        vertical-align: middle;\n",
       "    }\n",
       "\n",
       "    .dataframe tbody tr th {\n",
       "        vertical-align: top;\n",
       "    }\n",
       "\n",
       "    .dataframe thead th {\n",
       "        text-align: right;\n",
       "    }\n",
       "</style>\n",
       "<table border=\"1\" class=\"dataframe\">\n",
       "  <thead>\n",
       "    <tr style=\"text-align: right;\">\n",
       "      <th></th>\n",
       "      <th>num_days</th>\n",
       "      <th>num_freq</th>\n",
       "      <th>Order Quantity</th>\n",
       "      <th>Net value</th>\n",
       "      <th>avg_order_value</th>\n",
       "      <th>profit_margin</th>\n",
       "      <th>CLV</th>\n",
       "      <th>customer_lifetime_val</th>\n",
       "      <th>Make_FORD</th>\n",
       "      <th>Make_GENERAL MOTORS</th>\n",
       "      <th>...</th>\n",
       "      <th>Cust Type_Insurance</th>\n",
       "      <th>Cust Type_MFCWL</th>\n",
       "      <th>Cust Type_Retail</th>\n",
       "      <th>CITY_CHENNAI</th>\n",
       "      <th>CITY_HYDERABAD</th>\n",
       "      <th>CITY_NAGPUR</th>\n",
       "      <th>CITY_NASHIK</th>\n",
       "      <th>CITY_NASIK</th>\n",
       "      <th>CITY_PUNE</th>\n",
       "      <th>CITY_others</th>\n",
       "    </tr>\n",
       "    <tr>\n",
       "      <th>Customer No.</th>\n",
       "      <th></th>\n",
       "      <th></th>\n",
       "      <th></th>\n",
       "      <th></th>\n",
       "      <th></th>\n",
       "      <th></th>\n",
       "      <th></th>\n",
       "      <th></th>\n",
       "      <th></th>\n",
       "      <th></th>\n",
       "      <th></th>\n",
       "      <th></th>\n",
       "      <th></th>\n",
       "      <th></th>\n",
       "      <th></th>\n",
       "      <th></th>\n",
       "      <th></th>\n",
       "      <th></th>\n",
       "      <th></th>\n",
       "      <th></th>\n",
       "      <th></th>\n",
       "    </tr>\n",
       "  </thead>\n",
       "  <tbody>\n",
       "    <tr>\n",
       "      <th>1</th>\n",
       "      <td>325</td>\n",
       "      <td>4</td>\n",
       "      <td>0.00</td>\n",
       "      <td>0.00</td>\n",
       "      <td>0.000000</td>\n",
       "      <td>0.0000</td>\n",
       "      <td>0.000000</td>\n",
       "      <td>0.0</td>\n",
       "      <td>0</td>\n",
       "      <td>0</td>\n",
       "      <td>...</td>\n",
       "      <td>0</td>\n",
       "      <td>0</td>\n",
       "      <td>1</td>\n",
       "      <td>0</td>\n",
       "      <td>0</td>\n",
       "      <td>0</td>\n",
       "      <td>0</td>\n",
       "      <td>0</td>\n",
       "      <td>1</td>\n",
       "      <td>0</td>\n",
       "    </tr>\n",
       "    <tr>\n",
       "      <th>10</th>\n",
       "      <td>439</td>\n",
       "      <td>5</td>\n",
       "      <td>377.40</td>\n",
       "      <td>11105.56</td>\n",
       "      <td>2221.112000</td>\n",
       "      <td>555.2780</td>\n",
       "      <td>6905.729163</td>\n",
       "      <td>3834599.0</td>\n",
       "      <td>0</td>\n",
       "      <td>1</td>\n",
       "      <td>...</td>\n",
       "      <td>0</td>\n",
       "      <td>0</td>\n",
       "      <td>1</td>\n",
       "      <td>0</td>\n",
       "      <td>0</td>\n",
       "      <td>0</td>\n",
       "      <td>0</td>\n",
       "      <td>0</td>\n",
       "      <td>0</td>\n",
       "      <td>1</td>\n",
       "    </tr>\n",
       "    <tr>\n",
       "      <th>100</th>\n",
       "      <td>156</td>\n",
       "      <td>2</td>\n",
       "      <td>9967.70</td>\n",
       "      <td>20799.74</td>\n",
       "      <td>10399.870000</td>\n",
       "      <td>1039.9870</td>\n",
       "      <td>32334.562844</td>\n",
       "      <td>33627525.0</td>\n",
       "      <td>0</td>\n",
       "      <td>0</td>\n",
       "      <td>...</td>\n",
       "      <td>0</td>\n",
       "      <td>0</td>\n",
       "      <td>1</td>\n",
       "      <td>0</td>\n",
       "      <td>0</td>\n",
       "      <td>0</td>\n",
       "      <td>0</td>\n",
       "      <td>0</td>\n",
       "      <td>0</td>\n",
       "      <td>1</td>\n",
       "    </tr>\n",
       "    <tr>\n",
       "      <th>1000</th>\n",
       "      <td>883</td>\n",
       "      <td>6</td>\n",
       "      <td>300.70</td>\n",
       "      <td>8813.44</td>\n",
       "      <td>1468.906667</td>\n",
       "      <td>440.6720</td>\n",
       "      <td>4567.023908</td>\n",
       "      <td>2012559.0</td>\n",
       "      <td>0</td>\n",
       "      <td>0</td>\n",
       "      <td>...</td>\n",
       "      <td>0</td>\n",
       "      <td>0</td>\n",
       "      <td>1</td>\n",
       "      <td>0</td>\n",
       "      <td>0</td>\n",
       "      <td>0</td>\n",
       "      <td>0</td>\n",
       "      <td>0</td>\n",
       "      <td>1</td>\n",
       "      <td>0</td>\n",
       "    </tr>\n",
       "    <tr>\n",
       "      <th>10000</th>\n",
       "      <td>922</td>\n",
       "      <td>7</td>\n",
       "      <td>455.12</td>\n",
       "      <td>1735.52</td>\n",
       "      <td>247.931429</td>\n",
       "      <td>86.7760</td>\n",
       "      <td>770.851401</td>\n",
       "      <td>66891.0</td>\n",
       "      <td>0</td>\n",
       "      <td>0</td>\n",
       "      <td>...</td>\n",
       "      <td>0</td>\n",
       "      <td>0</td>\n",
       "      <td>1</td>\n",
       "      <td>0</td>\n",
       "      <td>0</td>\n",
       "      <td>0</td>\n",
       "      <td>0</td>\n",
       "      <td>0</td>\n",
       "      <td>0</td>\n",
       "      <td>1</td>\n",
       "    </tr>\n",
       "    <tr>\n",
       "      <th>...</th>\n",
       "      <td>...</td>\n",
       "      <td>...</td>\n",
       "      <td>...</td>\n",
       "      <td>...</td>\n",
       "      <td>...</td>\n",
       "      <td>...</td>\n",
       "      <td>...</td>\n",
       "      <td>...</td>\n",
       "      <td>...</td>\n",
       "      <td>...</td>\n",
       "      <td>...</td>\n",
       "      <td>...</td>\n",
       "      <td>...</td>\n",
       "      <td>...</td>\n",
       "      <td>...</td>\n",
       "      <td>...</td>\n",
       "      <td>...</td>\n",
       "      <td>...</td>\n",
       "      <td>...</td>\n",
       "      <td>...</td>\n",
       "      <td>...</td>\n",
       "    </tr>\n",
       "    <tr>\n",
       "      <th>PLX241</th>\n",
       "      <td>0</td>\n",
       "      <td>1</td>\n",
       "      <td>2.00</td>\n",
       "      <td>3477.37</td>\n",
       "      <td>3477.370000</td>\n",
       "      <td>173.8685</td>\n",
       "      <td>10811.600414</td>\n",
       "      <td>1879796.0</td>\n",
       "      <td>0</td>\n",
       "      <td>0</td>\n",
       "      <td>...</td>\n",
       "      <td>0</td>\n",
       "      <td>0</td>\n",
       "      <td>0</td>\n",
       "      <td>0</td>\n",
       "      <td>0</td>\n",
       "      <td>0</td>\n",
       "      <td>0</td>\n",
       "      <td>0</td>\n",
       "      <td>0</td>\n",
       "      <td>1</td>\n",
       "    </tr>\n",
       "    <tr>\n",
       "      <th>PLX277</th>\n",
       "      <td>0</td>\n",
       "      <td>1</td>\n",
       "      <td>5.00</td>\n",
       "      <td>6870.95</td>\n",
       "      <td>6870.950000</td>\n",
       "      <td>343.5475</td>\n",
       "      <td>21362.686704</td>\n",
       "      <td>7339097.0</td>\n",
       "      <td>0</td>\n",
       "      <td>0</td>\n",
       "      <td>...</td>\n",
       "      <td>0</td>\n",
       "      <td>0</td>\n",
       "      <td>1</td>\n",
       "      <td>0</td>\n",
       "      <td>0</td>\n",
       "      <td>0</td>\n",
       "      <td>0</td>\n",
       "      <td>0</td>\n",
       "      <td>0</td>\n",
       "      <td>1</td>\n",
       "    </tr>\n",
       "    <tr>\n",
       "      <th>PLX312</th>\n",
       "      <td>0</td>\n",
       "      <td>1</td>\n",
       "      <td>32.00</td>\n",
       "      <td>567.80</td>\n",
       "      <td>567.800000</td>\n",
       "      <td>28.3900</td>\n",
       "      <td>1765.364835</td>\n",
       "      <td>50118.0</td>\n",
       "      <td>0</td>\n",
       "      <td>0</td>\n",
       "      <td>...</td>\n",
       "      <td>0</td>\n",
       "      <td>0</td>\n",
       "      <td>1</td>\n",
       "      <td>0</td>\n",
       "      <td>0</td>\n",
       "      <td>0</td>\n",
       "      <td>0</td>\n",
       "      <td>0</td>\n",
       "      <td>0</td>\n",
       "      <td>1</td>\n",
       "    </tr>\n",
       "    <tr>\n",
       "      <th>PLX380</th>\n",
       "      <td>0</td>\n",
       "      <td>1</td>\n",
       "      <td>2.00</td>\n",
       "      <td>4346.98</td>\n",
       "      <td>4346.980000</td>\n",
       "      <td>217.3490</td>\n",
       "      <td>13515.332210</td>\n",
       "      <td>2937543.0</td>\n",
       "      <td>0</td>\n",
       "      <td>0</td>\n",
       "      <td>...</td>\n",
       "      <td>0</td>\n",
       "      <td>0</td>\n",
       "      <td>1</td>\n",
       "      <td>0</td>\n",
       "      <td>0</td>\n",
       "      <td>0</td>\n",
       "      <td>0</td>\n",
       "      <td>0</td>\n",
       "      <td>0</td>\n",
       "      <td>1</td>\n",
       "    </tr>\n",
       "    <tr>\n",
       "      <th>PLX386</th>\n",
       "      <td>0</td>\n",
       "      <td>1</td>\n",
       "      <td>84.00</td>\n",
       "      <td>0.00</td>\n",
       "      <td>0.000000</td>\n",
       "      <td>0.0000</td>\n",
       "      <td>0.000000</td>\n",
       "      <td>0.0</td>\n",
       "      <td>0</td>\n",
       "      <td>0</td>\n",
       "      <td>...</td>\n",
       "      <td>0</td>\n",
       "      <td>0</td>\n",
       "      <td>0</td>\n",
       "      <td>0</td>\n",
       "      <td>0</td>\n",
       "      <td>0</td>\n",
       "      <td>0</td>\n",
       "      <td>0</td>\n",
       "      <td>0</td>\n",
       "      <td>1</td>\n",
       "    </tr>\n",
       "  </tbody>\n",
       "</table>\n",
       "<p>253469 rows × 49 columns</p>\n",
       "</div>"
      ],
      "text/plain": [
       "              num_days  num_freq  Order Quantity  Net value  avg_order_value  \\\n",
       "Customer No.                                                                   \n",
       "1                  325         4            0.00       0.00         0.000000   \n",
       "10                 439         5          377.40   11105.56      2221.112000   \n",
       "100                156         2         9967.70   20799.74     10399.870000   \n",
       "1000               883         6          300.70    8813.44      1468.906667   \n",
       "10000              922         7          455.12    1735.52       247.931429   \n",
       "...                ...       ...             ...        ...              ...   \n",
       "PLX241               0         1            2.00    3477.37      3477.370000   \n",
       "PLX277               0         1            5.00    6870.95      6870.950000   \n",
       "PLX312               0         1           32.00     567.80       567.800000   \n",
       "PLX380               0         1            2.00    4346.98      4346.980000   \n",
       "PLX386               0         1           84.00       0.00         0.000000   \n",
       "\n",
       "              profit_margin           CLV  customer_lifetime_val  Make_FORD  \\\n",
       "Customer No.                                                                  \n",
       "1                    0.0000      0.000000                    0.0          0   \n",
       "10                 555.2780   6905.729163              3834599.0          0   \n",
       "100               1039.9870  32334.562844             33627525.0          0   \n",
       "1000               440.6720   4567.023908              2012559.0          0   \n",
       "10000               86.7760    770.851401                66891.0          0   \n",
       "...                     ...           ...                    ...        ...   \n",
       "PLX241             173.8685  10811.600414              1879796.0          0   \n",
       "PLX277             343.5475  21362.686704              7339097.0          0   \n",
       "PLX312              28.3900   1765.364835                50118.0          0   \n",
       "PLX380             217.3490  13515.332210              2937543.0          0   \n",
       "PLX386               0.0000      0.000000                    0.0          0   \n",
       "\n",
       "              Make_GENERAL MOTORS  ...  Cust Type_Insurance  Cust Type_MFCWL  \\\n",
       "Customer No.                       ...                                         \n",
       "1                               0  ...                    0                0   \n",
       "10                              1  ...                    0                0   \n",
       "100                             0  ...                    0                0   \n",
       "1000                            0  ...                    0                0   \n",
       "10000                           0  ...                    0                0   \n",
       "...                           ...  ...                  ...              ...   \n",
       "PLX241                          0  ...                    0                0   \n",
       "PLX277                          0  ...                    0                0   \n",
       "PLX312                          0  ...                    0                0   \n",
       "PLX380                          0  ...                    0                0   \n",
       "PLX386                          0  ...                    0                0   \n",
       "\n",
       "              Cust Type_Retail  CITY_CHENNAI  CITY_HYDERABAD  CITY_NAGPUR  \\\n",
       "Customer No.                                                                \n",
       "1                            1             0               0            0   \n",
       "10                           1             0               0            0   \n",
       "100                          1             0               0            0   \n",
       "1000                         1             0               0            0   \n",
       "10000                        1             0               0            0   \n",
       "...                        ...           ...             ...          ...   \n",
       "PLX241                       0             0               0            0   \n",
       "PLX277                       1             0               0            0   \n",
       "PLX312                       1             0               0            0   \n",
       "PLX380                       1             0               0            0   \n",
       "PLX386                       0             0               0            0   \n",
       "\n",
       "              CITY_NASHIK  CITY_NASIK  CITY_PUNE  CITY_others  \n",
       "Customer No.                                                   \n",
       "1                       0           0          1            0  \n",
       "10                      0           0          0            1  \n",
       "100                     0           0          0            1  \n",
       "1000                    0           0          1            0  \n",
       "10000                   0           0          0            1  \n",
       "...                   ...         ...        ...          ...  \n",
       "PLX241                  0           0          0            1  \n",
       "PLX277                  0           0          0            1  \n",
       "PLX312                  0           0          0            1  \n",
       "PLX380                  0           0          0            1  \n",
       "PLX386                  0           0          0            1  \n",
       "\n",
       "[253469 rows x 49 columns]"
      ]
     },
     "execution_count": 143,
     "metadata": {},
     "output_type": "execute_result"
    }
   ],
   "source": [
    "dataset"
   ]
  },
  {
   "cell_type": "code",
   "execution_count": 144,
   "metadata": {},
   "outputs": [],
   "source": [
    "invoice_group=invoice_group.reset_index()"
   ]
  },
  {
   "cell_type": "code",
   "execution_count": 146,
   "metadata": {},
   "outputs": [],
   "source": [
    "dataset=invoice_group.to_csv(\"preprocess4.csv\")"
   ]
  },
  {
   "cell_type": "code",
   "execution_count": 838,
   "metadata": {},
   "outputs": [],
   "source": [
    "invoice_group=invoice_group.drop(columns=['index','customer_lifetime_val', 'repair_freq', 'repeat_rate', 'CLV',\n",
    "       'profit_margin1','avg'])"
   ]
  },
  {
   "cell_type": "code",
   "execution_count": 147,
   "metadata": {},
   "outputs": [],
   "source": [
    "invoice_jtd_data['YEAR'] = invoice_jtd_data['Invoice Date'].apply(lambda x: x.strftime('%Y'))"
   ]
  },
  {
   "cell_type": "code",
   "execution_count": 148,
   "metadata": {},
   "outputs": [],
   "source": [
    "sale=invoice_jtd_data.pivot_table(index=['Customer No.'],columns=['YEAR'],values='Total Amt Wtd Tax.',aggfunc='sum',fill_value=0).reset_index()"
   ]
  },
  {
   "cell_type": "code",
   "execution_count": 149,
   "metadata": {},
   "outputs": [
    {
     "data": {
      "text/html": [
       "<div>\n",
       "<style scoped>\n",
       "    .dataframe tbody tr th:only-of-type {\n",
       "        vertical-align: middle;\n",
       "    }\n",
       "\n",
       "    .dataframe tbody tr th {\n",
       "        vertical-align: top;\n",
       "    }\n",
       "\n",
       "    .dataframe thead th {\n",
       "        text-align: right;\n",
       "    }\n",
       "</style>\n",
       "<table border=\"1\" class=\"dataframe\">\n",
       "  <thead>\n",
       "    <tr style=\"text-align: right;\">\n",
       "      <th>YEAR</th>\n",
       "      <th>Customer No.</th>\n",
       "      <th>2012</th>\n",
       "      <th>2013</th>\n",
       "      <th>2014</th>\n",
       "      <th>2015</th>\n",
       "      <th>2016</th>\n",
       "    </tr>\n",
       "  </thead>\n",
       "  <tbody>\n",
       "    <tr>\n",
       "      <th>0</th>\n",
       "      <td>1</td>\n",
       "      <td>0.00</td>\n",
       "      <td>0.00</td>\n",
       "      <td>0.00</td>\n",
       "      <td>0.00</td>\n",
       "      <td>0.0</td>\n",
       "    </tr>\n",
       "    <tr>\n",
       "      <th>1</th>\n",
       "      <td>10</td>\n",
       "      <td>6161.89</td>\n",
       "      <td>4943.67</td>\n",
       "      <td>0.00</td>\n",
       "      <td>0.00</td>\n",
       "      <td>0.0</td>\n",
       "    </tr>\n",
       "    <tr>\n",
       "      <th>2</th>\n",
       "      <td>100</td>\n",
       "      <td>20799.74</td>\n",
       "      <td>0.00</td>\n",
       "      <td>0.00</td>\n",
       "      <td>0.00</td>\n",
       "      <td>0.0</td>\n",
       "    </tr>\n",
       "    <tr>\n",
       "      <th>3</th>\n",
       "      <td>1000</td>\n",
       "      <td>2817.57</td>\n",
       "      <td>2730.26</td>\n",
       "      <td>3265.61</td>\n",
       "      <td>0.00</td>\n",
       "      <td>0.0</td>\n",
       "    </tr>\n",
       "    <tr>\n",
       "      <th>4</th>\n",
       "      <td>10000</td>\n",
       "      <td>0.00</td>\n",
       "      <td>548.27</td>\n",
       "      <td>1001.29</td>\n",
       "      <td>185.96</td>\n",
       "      <td>0.0</td>\n",
       "    </tr>\n",
       "  </tbody>\n",
       "</table>\n",
       "</div>"
      ],
      "text/plain": [
       "YEAR Customer No.      2012     2013     2014    2015  2016\n",
       "0               1      0.00     0.00     0.00    0.00   0.0\n",
       "1              10   6161.89  4943.67     0.00    0.00   0.0\n",
       "2             100  20799.74     0.00     0.00    0.00   0.0\n",
       "3            1000   2817.57  2730.26  3265.61    0.00   0.0\n",
       "4           10000      0.00   548.27  1001.29  185.96   0.0"
      ]
     },
     "execution_count": 149,
     "metadata": {},
     "output_type": "execute_result"
    }
   ],
   "source": [
    "sale.head()"
   ]
  },
  {
   "cell_type": "code",
   "execution_count": 150,
   "metadata": {},
   "outputs": [],
   "source": [
    "vec=invoice_group[['Customer No.','CLV']]"
   ]
  },
  {
   "cell_type": "code",
   "execution_count": 151,
   "metadata": {},
   "outputs": [],
   "source": [
    "final_sale=pd.merge(sale,vec,how='inner',on='Customer No.')"
   ]
  },
  {
   "cell_type": "code",
   "execution_count": 152,
   "metadata": {},
   "outputs": [
    {
     "data": {
      "text/plain": [
       "<bound method NDFrame.head of        Customer No.      2012     2013     2014    2015     2016           CLV\n",
       "0                 1      0.00     0.00     0.00    0.00     0.00      0.000000\n",
       "1                10   6161.89  4943.67     0.00    0.00     0.00   6905.729163\n",
       "2               100  20799.74     0.00     0.00    0.00     0.00  32334.562844\n",
       "3              1000   2817.57  2730.26  3265.61    0.00     0.00   4567.023908\n",
       "4             10000      0.00   548.27  1001.29  185.96     0.00    770.851401\n",
       "...             ...       ...      ...      ...     ...      ...           ...\n",
       "253464       PLX241      0.00     0.00     0.00    0.00  3477.37  10811.600414\n",
       "253465       PLX277      0.00     0.00     0.00    0.00  6870.95  21362.686704\n",
       "253466       PLX312      0.00     0.00     0.00    0.00   567.80   1765.364835\n",
       "253467       PLX380      0.00     0.00     0.00    0.00  4346.98  13515.332210\n",
       "253468       PLX386      0.00     0.00     0.00    0.00     0.00      0.000000\n",
       "\n",
       "[253469 rows x 7 columns]>"
      ]
     },
     "execution_count": 152,
     "metadata": {},
     "output_type": "execute_result"
    }
   ],
   "source": [
    "final_sale.head"
   ]
  },
  {
   "cell_type": "code",
   "execution_count": 156,
   "metadata": {},
   "outputs": [],
   "source": [
    "final_sale['CLV']=final_sale.iloc[:,2:].sum(axis=1)\n",
    "\n",
    "X=final_sale[['2012','2013','2014','2015','2016']]\n",
    "y=final_sale[['CLV']]"
   ]
  },
  {
   "cell_type": "code",
   "execution_count": 215,
   "metadata": {},
   "outputs": [],
   "source": [
    "X_train, X_test, y_train, y_test = train_test_split(X, y,random_state=0,test_size=0.2)\n",
    "\n",
    "# instantiate linearreg \n",
    "linreg = LinearRegression()\n",
    "\n",
    "# fit the model to the training data \n",
    "linreg.fit(X_train, y_train)\n",
    "\n",
    "# make predictions \n",
    "y_pred = linreg.predict(X_test)"
   ]
  },
  {
   "cell_type": "code",
   "execution_count": 216,
   "metadata": {},
   "outputs": [
    {
     "data": {
      "image/png": "[encoded data removed]",
      "text/plain": [
       "<Figure size 1152x720 with 1 Axes>"
      ]
     },
     "metadata": {
      "needs_background": "light"
     },
     "output_type": "display_data"
    }
   ],
   "source": [
    "df1 = final_sale.head(10)\n",
    "df1.plot(kind='bar',figsize=(16,10))\n",
    "plt.grid(which='major', linestyle='-', linewidth='0.5', color='green')\n",
    "plt.grid(which='minor', linestyle=':', linewidth='0.5', color='black')\n",
    "plt.title('Bar graph showing the comparison of Actual and Predicted values.')\n",
    "plt.show()"
   ]
  },
  {
   "cell_type": "code",
   "execution_count": 217,
   "metadata": {},
   "outputs": [
    {
     "data": {
      "text/plain": [
       "array([[ 9888.69286651],\n",
       "       [11743.10941476],\n",
       "       [ 6842.38114687],\n",
       "       ...,\n",
       "       [ 7724.76173722],\n",
       "       [55245.83941097],\n",
       "       [16875.52104726]])"
      ]
     },
     "execution_count": 217,
     "metadata": {},
     "output_type": "execute_result"
    }
   ],
   "source": [
    "y_pred = linreg.predict(X_test)\n",
    "y_pred"
   ]
  },
  {
   "cell_type": "code",
   "execution_count": 218,
   "metadata": {},
   "outputs": [
    {
     "name": "stdout",
     "output_type": "stream",
     "text": [
      "Training score: 0.8733613725442733\n",
      "Test score: 0.875118702588844\n"
     ]
    }
   ],
   "source": [
    "print(\"Training score: \"+str(linreg.score(X_train, y_train)))\n",
    "print(\"Test score: \"+str(linreg.score(X_test, y_test)))"
   ]
  },
  {
   "cell_type": "code",
   "execution_count": 219,
   "metadata": {},
   "outputs": [
    {
     "name": "stdout",
     "output_type": "stream",
     "text": [
      "0.875118702588844\n",
      "734081811.9827247\n",
      "27093.944193910284\n"
     ]
    }
   ],
   "source": [
    "print(metrics.r2_score(y_test, y_pred))\n",
    "print(metrics.mean_squared_error(y_test, y_pred))\n",
    "print(np.sqrt(metrics.mean_squared_error(y_test, y_pred)))"
   ]
  },
  {
   "cell_type": "code",
   "execution_count": 167,
   "metadata": {},
   "outputs": [],
   "source": [
    "regressor=XGBRegressor(base_score=1, booster='gbtree', colsample_bylevel=0.5,\n",
    "             colsample_bynode=1, colsample_bytree=1, gamma=0, gpu_id=-1,\n",
    "             importance_type='gain', interaction_constraints=None,\n",
    "             learning_rate=0.05, max_delta_step=0, max_depth=10,\n",
    "             min_child_weight=4, monotone_constraints=None,\n",
    "             n_estimators=200, n_jobs=0, num_parallel_tree=1,\n",
    "             objective='reg:squarederror', random_state=0, reg_alpha=0,\n",
    "             reg_lambda=1, scale_pos_weight=1, subsample=1, tree_method=None,\n",
    "             validate_parameters=False, verbosity=None)"
   ]
  },
  {
   "cell_type": "code",
   "execution_count": 168,
   "metadata": {},
   "outputs": [],
   "source": [
    "#Hyperparameter optimization\n",
    "n_estimators=[10,100,200,300]\n",
    "max_depth=[2,3,5,10,15]\n",
    "booster=['gbtree','gblinear']\n",
    "learning_rate=[0.05,0.1,0.15,0.20]\n",
    "min_child_weight=[1,2,3,4]\n",
    "colsample_bytree=[0.25,0.50,1]\n",
    "colsample_bylevel=[0.25,0.50,1]\n",
    "base_score=[0.25,0.5,0.75,1]\n",
    "\n",
    "#Define the grid-hyperparameters to search\n",
    "hyperparameter_grid={\n",
    "        'n_estimators':n_estimators,\n",
    "        'max_depth':max_depth,\n",
    "        'booster':booster,\n",
    "        'learning_rate':learning_rate,\n",
    "        'min_child_weight':min_child_weight,\n",
    "        'colsample_bytree':colsample_bytree,\n",
    "        'colsample_bylevel':colsample_bylevel,\n",
    "        'base_score':base_score\n",
    "         }"
   ]
  },
  {
   "cell_type": "code",
   "execution_count": 169,
   "metadata": {},
   "outputs": [],
   "source": [
    "#cv = RepeatedStratifiedKFold(n_splits=5, n_repeats=3, random_state=1)\n",
    "cv=KFold(n_splits=5, random_state=None, shuffle=False)\n"
   ]
  },
  {
   "cell_type": "code",
   "execution_count": 170,
   "metadata": {},
   "outputs": [],
   "source": [
    "random_cv=RandomizedSearchCV(estimator=regressor,\n",
    "                            param_distributions=hyperparameter_grid,\n",
    "                            cv=5,n_iter=50,scoring='r2',n_jobs=4,\n",
    "                            verbose=5,return_train_score=True,\n",
    "                             random_state=42)"
   ]
  },
  {
   "cell_type": "code",
   "execution_count": 171,
   "metadata": {},
   "outputs": [
    {
     "name": "stdout",
     "output_type": "stream",
     "text": [
      "Fitting 5 folds for each of 50 candidates, totalling 250 fits\n"
     ]
    },
    {
     "name": "stderr",
     "output_type": "stream",
     "text": [
      "[Parallel(n_jobs=4)]: Using backend LokyBackend with 4 concurrent workers.\n",
      "[Parallel(n_jobs=4)]: Done  10 tasks      | elapsed:  1.4min\n",
      "[Parallel(n_jobs=4)]: Done  64 tasks      | elapsed:  7.5min\n",
      "[Parallel(n_jobs=4)]: Done 154 tasks      | elapsed: 19.7min\n",
      "[Parallel(n_jobs=4)]: Done 250 out of 250 | elapsed: 30.3min finished\n"
     ]
    },
    {
     "data": {
      "text/plain": [
       "RandomizedSearchCV(cv=5, error_score=nan,\n",
       "                   estimator=XGBRegressor(base_score=1, booster='gbtree',\n",
       "                                          colsample_bylevel=0.5,\n",
       "                                          colsample_bynode=1,\n",
       "                                          colsample_bytree=1, gamma=0,\n",
       "                                          gpu_id=-1, importance_type='gain',\n",
       "                                          interaction_constraints=None,\n",
       "                                          learning_rate=0.05, max_delta_step=0,\n",
       "                                          max_depth=10, min_child_weight=4,\n",
       "                                          missing=nan,\n",
       "                                          monotone_constraints=None,\n",
       "                                          n_estimators=200, n_jo...\n",
       "                   param_distributions={'base_score': [0.25, 0.5, 0.75, 1],\n",
       "                                        'booster': ['gbtree', 'gblinear'],\n",
       "                                        'colsample_bylevel': [0.25, 0.5, 1],\n",
       "                                        'colsample_bytree': [0.25, 0.5, 1],\n",
       "                                        'learning_rate': [0.05, 0.1, 0.15, 0.2],\n",
       "                                        'max_depth': [2, 3, 5, 10, 15],\n",
       "                                        'min_child_weight': [1, 2, 3, 4],\n",
       "                                        'n_estimators': [10, 100, 200, 300]},\n",
       "                   pre_dispatch='2*n_jobs', random_state=42, refit=True,\n",
       "                   return_train_score=True, scoring='r2', verbose=5)"
      ]
     },
     "execution_count": 171,
     "metadata": {},
     "output_type": "execute_result"
    }
   ],
   "source": [
    "random_cv.fit(X_train,y_train)"
   ]
  },
  {
   "cell_type": "code",
   "execution_count": 172,
   "metadata": {},
   "outputs": [
    {
     "data": {
      "text/plain": [
       "XGBRegressor(base_score=1, booster='gbtree', colsample_bylevel=0.5,\n",
       "             colsample_bynode=1, colsample_bytree=1, gamma=0, gpu_id=-1,\n",
       "             importance_type='gain', interaction_constraints=None,\n",
       "             learning_rate=0.05, max_delta_step=0, max_depth=10,\n",
       "             min_child_weight=4, missing=nan, monotone_constraints=None,\n",
       "             n_estimators=200, n_jobs=0, num_parallel_tree=1,\n",
       "             objective='reg:squarederror', random_state=0, reg_alpha=0,\n",
       "             reg_lambda=1, scale_pos_weight=1, subsample=1, tree_method=None,\n",
       "             validate_parameters=False, verbosity=None)"
      ]
     },
     "execution_count": 172,
     "metadata": {},
     "output_type": "execute_result"
    }
   ],
   "source": [
    "random_cv.best_estimator_"
   ]
  },
  {
   "cell_type": "code",
   "execution_count": 220,
   "metadata": {},
   "outputs": [
    {
     "data": {
      "text/plain": [
       "XGBRegressor(base_score=1, booster='gbtree', colsample_bylevel=0.5,\n",
       "             colsample_bynode=1, colsample_bytree=1, gamma=0, gpu_id=-1,\n",
       "             importance_type='gain', interaction_constraints=None,\n",
       "             learning_rate=0.05, max_delta_step=0, max_depth=10,\n",
       "             min_child_weight=4, missing=nan, monotone_constraints=None,\n",
       "             n_estimators=200, n_jobs=0, num_parallel_tree=1,\n",
       "             objective='reg:squarederror', random_state=0, reg_alpha=0,\n",
       "             reg_lambda=1, scale_pos_weight=1, subsample=1, tree_method=None,\n",
       "             validate_parameters=False, verbosity=None)"
      ]
     },
     "execution_count": 220,
     "metadata": {},
     "output_type": "execute_result"
    }
   ],
   "source": [
    "regressor.fit(X_train,y_train)"
   ]
  },
  {
   "cell_type": "code",
   "execution_count": 221,
   "metadata": {},
   "outputs": [],
   "source": [
    "y_pred1=regressor.predict(X_test)"
   ]
  },
  {
   "cell_type": "code",
   "execution_count": 222,
   "metadata": {},
   "outputs": [
    {
     "name": "stdout",
     "output_type": "stream",
     "text": [
      "Training score: 0.9522642189746378\n",
      "Test score: 0.9249793923556172\n"
     ]
    }
   ],
   "source": [
    "print(\"Training score: \"+str(regressor.score(X_train, y_train)))\n",
    "print(\"Test score: \"+str(regressor.score(X_test, y_test)))"
   ]
  },
  {
   "cell_type": "code",
   "execution_count": 223,
   "metadata": {},
   "outputs": [
    {
     "name": "stdout",
     "output_type": "stream",
     "text": [
      "0.9249793923556172\n",
      "440988880.9396201\n",
      "20999.735258798384\n"
     ]
    }
   ],
   "source": [
    "print(metrics.r2_score(y_test, y_pred1))\n",
    "print(metrics.mean_squared_error(y_test, y_pred1))\n",
    "print(np.sqrt(metrics.mean_squared_error(y_test, y_pred1)))"
   ]
  },
  {
   "cell_type": "code",
   "execution_count": 196,
   "metadata": {},
   "outputs": [],
   "source": [
    "y_pred1=pd.DataFrame(data=y_pred1)"
   ]
  },
  {
   "cell_type": "code",
   "execution_count": 208,
   "metadata": {},
   "outputs": [],
   "source": [
    "prediction=pd.concat([y_test.reset_index(),y_pred1.reset_index()],axis=1)"
   ]
  },
  {
   "cell_type": "code",
   "execution_count": 213,
   "metadata": {},
   "outputs": [
    {
     "data": {
      "text/plain": [
       "<matplotlib.axes._subplots.AxesSubplot at 0x20401dea448>"
      ]
     },
     "execution_count": 213,
     "metadata": {},
     "output_type": "execute_result"
    },
    {
     "data": {
      "image/png": "[encoded data removed]",
      "text/plain": [
       "<Figure size 432x288 with 1 Axes>"
      ]
     },
     "metadata": {
      "needs_background": "light"
     },
     "output_type": "display_data"
    }
   ],
   "source": [
    "prediction[['CLV',0]].plot()"
   ]
  },
  {
   "cell_type": "code",
   "execution_count": 183,
   "metadata": {},
   "outputs": [],
   "source": [
    "y_pred1=y_pred1.reshape(-1,1)"
   ]
  },
  {
   "cell_type": "code",
   "execution_count": null,
   "metadata": {},
   "outputs": [],
   "source": []
  }
 ],
 "metadata": {
  "kernelspec": {
   "display_name": "Python 3",
   "language": "python",
   "name": "python3"
  },
  "language_info": {
   "codemirror_mode": {
    "name": "ipython",
    "version": 3
   },
   "file_extension": ".py",
   "mimetype": "text/x-python",
   "name": "python",
   "nbconvert_exporter": "python",
   "pygments_lexer": "ipython3",
   "version": "3.8.3"
  }
 },
 "nbformat": 4,
 "nbformat_minor": 4
}
