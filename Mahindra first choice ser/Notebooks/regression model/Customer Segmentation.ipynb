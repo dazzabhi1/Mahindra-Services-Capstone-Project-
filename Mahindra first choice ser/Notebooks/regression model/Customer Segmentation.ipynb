{
 "cells": [
  {
   "cell_type": "code",
   "execution_count": 5,
   "metadata": {},
   "outputs": [],
   "source": [
    "import pandas as pd\n",
    "import numpy as np\n",
    "import warnings\n",
    "warnings.filterwarnings('ignore')\n",
    "import matplotlib.pyplot as plt\n",
    "import seaborn as sns"
   ]
  },
  {
   "cell_type": "code",
   "execution_count": 68,
   "metadata": {},
   "outputs": [
    {
     "data": {
      "text/html": [
       "<div>\n",
       "<style scoped>\n",
       "    .dataframe tbody tr th:only-of-type {\n",
       "        vertical-align: middle;\n",
       "    }\n",
       "\n",
       "    .dataframe tbody tr th {\n",
       "        vertical-align: top;\n",
       "    }\n",
       "\n",
       "    .dataframe thead th {\n",
       "        text-align: right;\n",
       "    }\n",
       "</style>\n",
       "<table border=\"1\" class=\"dataframe\">\n",
       "  <thead>\n",
       "    <tr style=\"text-align: right;\">\n",
       "      <th></th>\n",
       "      <th>Business Partner</th>\n",
       "      <th>Customer No.</th>\n",
       "      <th>Partner Type</th>\n",
       "      <th>Data Origin</th>\n",
       "      <th>Title</th>\n",
       "      <th>Marital Status</th>\n",
       "      <th>Occupation</th>\n",
       "      <th>Date of Birth</th>\n",
       "      <th>Death date</th>\n",
       "      <th>Area / Locality</th>\n",
       "      <th>...</th>\n",
       "      <th>Total Amt Wtd Tax.</th>\n",
       "      <th>Total Value</th>\n",
       "      <th>User ID</th>\n",
       "      <th>Invoice Day</th>\n",
       "      <th>Invoice Month</th>\n",
       "      <th>Invoice Year</th>\n",
       "      <th>Day of the week</th>\n",
       "      <th>Has Insurance</th>\n",
       "      <th>Is Dead</th>\n",
       "      <th>cluster</th>\n",
       "    </tr>\n",
       "  </thead>\n",
       "  <tbody>\n",
       "    <tr>\n",
       "      <th>0</th>\n",
       "      <td>31</td>\n",
       "      <td>1</td>\n",
       "      <td>Retail</td>\n",
       "      <td>Camp-Outdoor</td>\n",
       "      <td>Unknown</td>\n",
       "      <td>Unknown</td>\n",
       "      <td>Unknown</td>\n",
       "      <td>NaN</td>\n",
       "      <td>NaN</td>\n",
       "      <td>NaN</td>\n",
       "      <td>...</td>\n",
       "      <td>NaN</td>\n",
       "      <td>NaN</td>\n",
       "      <td>NaN</td>\n",
       "      <td>NaN</td>\n",
       "      <td>NaN</td>\n",
       "      <td>NaN</td>\n",
       "      <td>NaN</td>\n",
       "      <td>0</td>\n",
       "      <td>0</td>\n",
       "      <td>3</td>\n",
       "    </tr>\n",
       "    <tr>\n",
       "      <th>1</th>\n",
       "      <td>32</td>\n",
       "      <td>2</td>\n",
       "      <td>Retail</td>\n",
       "      <td>Reference-Customer</td>\n",
       "      <td>Unknown</td>\n",
       "      <td>Unknown</td>\n",
       "      <td>Unknown</td>\n",
       "      <td>NaN</td>\n",
       "      <td>NaN</td>\n",
       "      <td>NaN</td>\n",
       "      <td>...</td>\n",
       "      <td>NaN</td>\n",
       "      <td>NaN</td>\n",
       "      <td>NaN</td>\n",
       "      <td>NaN</td>\n",
       "      <td>NaN</td>\n",
       "      <td>NaN</td>\n",
       "      <td>NaN</td>\n",
       "      <td>0</td>\n",
       "      <td>0</td>\n",
       "      <td>1</td>\n",
       "    </tr>\n",
       "    <tr>\n",
       "      <th>2</th>\n",
       "      <td>34</td>\n",
       "      <td>4</td>\n",
       "      <td>Retail</td>\n",
       "      <td>Reference-Customer</td>\n",
       "      <td>Unknown</td>\n",
       "      <td>Married</td>\n",
       "      <td>Unknown</td>\n",
       "      <td>NaN</td>\n",
       "      <td>NaN</td>\n",
       "      <td>NaN</td>\n",
       "      <td>...</td>\n",
       "      <td>NaN</td>\n",
       "      <td>NaN</td>\n",
       "      <td>NaN</td>\n",
       "      <td>NaN</td>\n",
       "      <td>NaN</td>\n",
       "      <td>NaN</td>\n",
       "      <td>NaN</td>\n",
       "      <td>0</td>\n",
       "      <td>0</td>\n",
       "      <td>1</td>\n",
       "    </tr>\n",
       "    <tr>\n",
       "      <th>3</th>\n",
       "      <td>35</td>\n",
       "      <td>5</td>\n",
       "      <td>Retail</td>\n",
       "      <td>Reference-Customer</td>\n",
       "      <td>Unknown</td>\n",
       "      <td>Unknown</td>\n",
       "      <td>Unknown</td>\n",
       "      <td>NaN</td>\n",
       "      <td>NaN</td>\n",
       "      <td>NaN</td>\n",
       "      <td>...</td>\n",
       "      <td>NaN</td>\n",
       "      <td>NaN</td>\n",
       "      <td>NaN</td>\n",
       "      <td>NaN</td>\n",
       "      <td>NaN</td>\n",
       "      <td>NaN</td>\n",
       "      <td>NaN</td>\n",
       "      <td>0</td>\n",
       "      <td>0</td>\n",
       "      <td>1</td>\n",
       "    </tr>\n",
       "    <tr>\n",
       "      <th>4</th>\n",
       "      <td>42</td>\n",
       "      <td>7</td>\n",
       "      <td>Retail</td>\n",
       "      <td>Just Dial/Other helpline</td>\n",
       "      <td>Unknown</td>\n",
       "      <td>Unknown</td>\n",
       "      <td>Unknown</td>\n",
       "      <td>NaN</td>\n",
       "      <td>NaN</td>\n",
       "      <td>NaN</td>\n",
       "      <td>...</td>\n",
       "      <td>NaN</td>\n",
       "      <td>NaN</td>\n",
       "      <td>NaN</td>\n",
       "      <td>NaN</td>\n",
       "      <td>NaN</td>\n",
       "      <td>NaN</td>\n",
       "      <td>NaN</td>\n",
       "      <td>0</td>\n",
       "      <td>0</td>\n",
       "      <td>3</td>\n",
       "    </tr>\n",
       "  </tbody>\n",
       "</table>\n",
       "<p>5 rows × 53 columns</p>\n",
       "</div>"
      ],
      "text/plain": [
       "  Business Partner Customer No. Partner Type               Data Origin  \\\n",
       "0               31            1       Retail              Camp-Outdoor   \n",
       "1               32            2       Retail        Reference-Customer   \n",
       "2               34            4       Retail        Reference-Customer   \n",
       "3               35            5       Retail        Reference-Customer   \n",
       "4               42            7       Retail  Just Dial/Other helpline   \n",
       "\n",
       "     Title Marital Status Occupation Date of Birth Death date Area / Locality  \\\n",
       "0  Unknown        Unknown    Unknown           NaN        NaN             NaN   \n",
       "1  Unknown        Unknown    Unknown           NaN        NaN             NaN   \n",
       "2  Unknown        Married    Unknown           NaN        NaN             NaN   \n",
       "3  Unknown        Unknown    Unknown           NaN        NaN             NaN   \n",
       "4  Unknown        Unknown    Unknown           NaN        NaN             NaN   \n",
       "\n",
       "   ... Total Amt Wtd Tax. Total Value User ID Invoice Day Invoice Month  \\\n",
       "0  ...                NaN         NaN     NaN         NaN           NaN   \n",
       "1  ...                NaN         NaN     NaN         NaN           NaN   \n",
       "2  ...                NaN         NaN     NaN         NaN           NaN   \n",
       "3  ...                NaN         NaN     NaN         NaN           NaN   \n",
       "4  ...                NaN         NaN     NaN         NaN           NaN   \n",
       "\n",
       "  Invoice Year Day of the week Has Insurance Is Dead cluster  \n",
       "0          NaN             NaN             0       0       3  \n",
       "1          NaN             NaN             0       0       1  \n",
       "2          NaN             NaN             0       0       1  \n",
       "3          NaN             NaN             0       0       1  \n",
       "4          NaN             NaN             0       0       3  \n",
       "\n",
       "[5 rows x 53 columns]"
      ]
     },
     "execution_count": 68,
     "metadata": {},
     "output_type": "execute_result"
    }
   ],
   "source": [
    "customer_invoice = pd.read_csv('../data/customer_invoice.csv')\n",
    "customer_invoice.head()"
   ]
  },
  {
   "cell_type": "code",
   "execution_count": 30,
   "metadata": {},
   "outputs": [],
   "source": [
    "plt.rcParams.update({'font.size': 15})"
   ]
  },
  {
   "cell_type": "code",
   "execution_count": 3,
   "metadata": {},
   "outputs": [
    {
     "data": {
      "text/plain": [
       "Index(['Business Partner', 'Customer No.', 'Partner Type', 'Data Origin',\n",
       "       'Title', 'Marital Status', 'Occupation', 'Date of Birth', 'Death date',\n",
       "       'Area / Locality', 'CITY', 'Cash /Cashless Type', 'Claim No.',\n",
       "       'Cust Type', 'District', 'Expiry Date', 'Gate Pass Date',\n",
       "       'Gate Pass Time', 'Insurance Company', 'Invoice Date', 'Invoice No',\n",
       "       'Invoice Time', 'Job Card No', 'JobCard Date', 'JobCard Time',\n",
       "       'KMs Reading', 'Labour Total', 'Make', 'Misc Total', 'Model', 'ODN No.',\n",
       "       'OSL Total', 'Order Type', 'Parts Total', 'Pin code', 'Plant',\n",
       "       'Plant Name1', 'Policy no.', 'Print Status', 'Recovrbl Exp', 'Regn No',\n",
       "       'Service Advisor Name', 'Technician Name', 'Total Amt Wtd Tax.',\n",
       "       'Total Value', 'User ID', 'Invoice Day', 'Invoice Month',\n",
       "       'Invoice Year', 'Day of the week', 'Has Insurance', 'Is Dead',\n",
       "       'cluster'],\n",
       "      dtype='object')"
      ]
     },
     "execution_count": 3,
     "metadata": {},
     "output_type": "execute_result"
    }
   ],
   "source": [
    "customer_invoice.columns"
   ]
  },
  {
   "cell_type": "code",
   "execution_count": 34,
   "metadata": {},
   "outputs": [
    {
     "data": {
      "text/plain": [
       "Text(0.5, 0, 'Customer Age')"
      ]
     },
     "execution_count": 34,
     "metadata": {},
     "output_type": "execute_result"
    },
    {
     "data": {
      "image/png": "[encoded data removed]",
      "text/plain": [
       "<Figure size 1080x648 with 1 Axes>"
      ]
     },
     "metadata": {
      "needs_background": "light"
     },
     "output_type": "display_data"
    }
   ],
   "source": [
    "#get customers age distribution\n",
    "\n",
    "now = pd.Timestamp('now')\n",
    "\n",
    "customer_invoice['Date of Birth'] = pd.to_datetime(customer_invoice['Date of Birth'], errors = 'coerce')\n",
    "\n",
    "customer_invoice['Date of Birth'] = customer_invoice['Date of Birth'].where(customer_invoice['Date of Birth'] < now, customer_invoice['Date of Birth'] -  np.timedelta64(100, 'Y')) \n",
    "\n",
    "customer_invoice['age'] = (now - customer_invoice['Date of Birth'] ).astype('<m8[Y]') \n",
    "\n",
    "customer_age = customer_invoice[customer_invoice['age'] >=18.0]['age']\n",
    "customer_age = customer_age[customer_age <=80]\n",
    "\n",
    "plt.figure(figsize=(15,9))\n",
    "plt.title('Distribution of Customers Age')\n",
    "customer_age.hist()\n",
    "plt.ylabel('Frequency')\n",
    "plt.xlabel('Customer Age')"
   ]
  },
  {
   "cell_type": "code",
   "execution_count": 39,
   "metadata": {},
   "outputs": [],
   "source": [
    "customer_age = customer_invoice[customer_invoice['age'].notnull()]\n",
    "customer_age = customer_age[customer_age['age']>=18]\n",
    "customer_age = customer_age[customer_age['age']<=80]"
   ]
  },
  {
   "cell_type": "code",
   "execution_count": 40,
   "metadata": {},
   "outputs": [
    {
     "data": {
      "text/plain": [
       "(12712, 54)"
      ]
     },
     "execution_count": 40,
     "metadata": {},
     "output_type": "execute_result"
    }
   ],
   "source": [
    "customer_age.shape"
   ]
  },
  {
   "cell_type": "code",
   "execution_count": 60,
   "metadata": {},
   "outputs": [],
   "source": [
    "customer_age['age_group'] = pd.cut(customer_age.age,[18.0,25.0,35.0,50.0,60.0,70.0,80.0])"
   ]
  },
  {
   "cell_type": "code",
   "execution_count": 61,
   "metadata": {},
   "outputs": [
    {
     "data": {
      "text/plain": [
       "age_group\n",
       "(18.0, 25.0]    0.0\n",
       "(25.0, 35.0]    0.0\n",
       "(35.0, 50.0]    0.0\n",
       "(50.0, 60.0]    0.0\n",
       "(60.0, 70.0]    0.0\n",
       "(70.0, 80.0]    0.0\n",
       "Name: Total Amt Wtd Tax., dtype: float64"
      ]
     },
     "execution_count": 61,
     "metadata": {},
     "output_type": "execute_result"
    }
   ],
   "source": [
    "customer_age.groupby('age_group')['Total Amt Wtd Tax.'].sum()"
   ]
  },
  {
   "cell_type": "code",
   "execution_count": 59,
   "metadata": {},
   "outputs": [
    {
     "data": {
      "text/plain": [
       "19727"
      ]
     },
     "execution_count": 59,
     "metadata": {},
     "output_type": "execute_result"
    }
   ],
   "source": [
    "customer_invoice['Total Amt Wtd Tax.'].notnull().sum()"
   ]
  },
  {
   "cell_type": "code",
   "execution_count": 64,
   "metadata": {},
   "outputs": [],
   "source": [
    "customer_data = pd.read_csv('../data/customer_data.csv')\n",
    "invoice_data = pd.read_csv('../data/invoice_data.csv')"
   ]
  },
  {
   "cell_type": "code",
   "execution_count": 69,
   "metadata": {},
   "outputs": [],
   "source": [
    "customer_invoice_with_indicator = customer_data.merge(invoice_data, on='Customer No.', how='left', sort=False, indicator=True)"
   ]
  },
  {
   "cell_type": "code",
   "execution_count": 72,
   "metadata": {},
   "outputs": [
    {
     "data": {
      "text/plain": [
       "left_only     551689\n",
       "both           19727\n",
       "right_only         0\n",
       "Name: _merge, dtype: int64"
      ]
     },
     "execution_count": 72,
     "metadata": {},
     "output_type": "execute_result"
    }
   ],
   "source": [
    "customer_invoice_with_indicator['_merge'].value_counts()"
   ]
  },
  {
   "cell_type": "code",
   "execution_count": null,
   "metadata": {},
   "outputs": [],
   "source": []
  }
 ],
 "metadata": {
  "kernelspec": {
   "display_name": "Python 3",
   "language": "python",
   "name": "python3"
  },
  "language_info": {
   "codemirror_mode": {
    "name": "ipython",
    "version": 3
   },
   "file_extension": ".py",
   "mimetype": "text/x-python",
   "name": "python",
   "nbconvert_exporter": "python",
   "pygments_lexer": "ipython3",
   "version": "3.7.3"
  }
 },
 "nbformat": 4,
 "nbformat_minor": 2
}
