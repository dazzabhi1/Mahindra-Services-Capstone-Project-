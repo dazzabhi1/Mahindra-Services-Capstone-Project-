{
 "cells": [
  {
   "cell_type": "code",
   "execution_count": 73,
   "metadata": {},
   "outputs": [],
   "source": [
    "import pandas as pd\n",
    "import numpy as np\n",
    "import warnings\n",
    "warnings.filterwarnings('ignore')\n",
    "import matplotlib.pyplot as plt\n",
    "import matplotlib\n",
    "import seaborn as sns\n",
    "from sklearn import preprocessing\n",
    "import pickle\n",
    "from sklearn.linear_model import LogisticRegression\n",
    "from sklearn.linear_model import SGDClassifier\n",
    "import scipy\n",
    "from sklearn.metrics import classification_report, f1_score\n",
    "from sklearn.model_selection import train_test_split\n",
    "from imblearn.over_sampling import ADASYN, SMOTE, RandomOverSampler\n",
    "from sklearn.tree import DecisionTreeClassifier\n",
    "from sklearn.ensemble import RandomForestClassifier"
   ]
  },
  {
   "cell_type": "code",
   "execution_count": 129,
   "metadata": {},
   "outputs": [],
   "source": [
    "customer_model_data = pd.read_csv('../data/customer_model_data.csv')"
   ]
  },
  {
   "cell_type": "code",
   "execution_count": 15,
   "metadata": {},
   "outputs": [
    {
     "data": {
      "text/plain": [
       "Index(['Data Origin', 'Cust Type', 'KMs Reading', 'Make', 'Model',\n",
       "       'Order Type', 'Plant Name1', 'Total Amt Wtd Tax.', 'District', 'State',\n",
       "       'has_policy', 'Segment'],\n",
       "      dtype='object')"
      ]
     },
     "execution_count": 15,
     "metadata": {},
     "output_type": "execute_result"
    }
   ],
   "source": [
    "customer_model_data.columns"
   ]
  },
  {
   "cell_type": "code",
   "execution_count": 16,
   "metadata": {},
   "outputs": [],
   "source": [
    "customer_model_data.drop(['Data Origin', 'Plant Name1'], axis=1, inplace=True)"
   ]
  },
  {
   "cell_type": "code",
   "execution_count": 53,
   "metadata": {},
   "outputs": [
    {
     "data": {
      "text/plain": [
       "False"
      ]
     },
     "execution_count": 53,
     "metadata": {},
     "output_type": "execute_result"
    }
   ],
   "source": []
  },
  {
   "cell_type": "code",
   "execution_count": 17,
   "metadata": {},
   "outputs": [
    {
     "data": {
      "text/plain": [
       "3571"
      ]
     },
     "execution_count": 17,
     "metadata": {},
     "output_type": "execute_result"
    }
   ],
   "source": [
    "customer_model_data['District'].nunique()"
   ]
  },
  {
   "cell_type": "code",
   "execution_count": 18,
   "metadata": {},
   "outputs": [],
   "source": [
    "cities = customer_model_data['District'].value_counts().reset_index().sort_values(by='District', ascending=False)\n",
    "cities.columns = ['District', 'city_count']"
   ]
  },
  {
   "cell_type": "code",
   "execution_count": 94,
   "metadata": {},
   "outputs": [],
   "source": [
    "customer_model_data = customer_model_data.merge(cities, on='District', how='left')"
   ]
  },
  {
   "cell_type": "code",
   "execution_count": 95,
   "metadata": {},
   "outputs": [
    {
     "data": {
      "text/plain": [
       "(492314, 11)"
      ]
     },
     "execution_count": 95,
     "metadata": {},
     "output_type": "execute_result"
    }
   ],
   "source": [
    "customer_model_data.shape"
   ]
  },
  {
   "cell_type": "code",
   "execution_count": 96,
   "metadata": {},
   "outputs": [],
   "source": [
    "customer_model_data.loc[customer_model_data['city_count'] <= 500, 'District'] = 'Others'"
   ]
  },
  {
   "cell_type": "code",
   "execution_count": 98,
   "metadata": {},
   "outputs": [
    {
     "data": {
      "text/plain": [
       "118"
      ]
     },
     "execution_count": 98,
     "metadata": {},
     "output_type": "execute_result"
    }
   ],
   "source": [
    "customer_model_data['District'].nunique()"
   ]
  },
  {
   "cell_type": "code",
   "execution_count": 23,
   "metadata": {},
   "outputs": [
    {
     "data": {
      "text/plain": [
       "246"
      ]
     },
     "execution_count": 23,
     "metadata": {},
     "output_type": "execute_result"
    }
   ],
   "source": [
    "customer_model_data['Model'].nunique()"
   ]
  },
  {
   "cell_type": "code",
   "execution_count": 27,
   "metadata": {},
   "outputs": [
    {
     "data": {
      "text/html": [
       "<div>\n",
       "<style scoped>\n",
       "    .dataframe tbody tr th:only-of-type {\n",
       "        vertical-align: middle;\n",
       "    }\n",
       "\n",
       "    .dataframe tbody tr th {\n",
       "        vertical-align: top;\n",
       "    }\n",
       "\n",
       "    .dataframe thead th {\n",
       "        text-align: right;\n",
       "    }\n",
       "</style>\n",
       "<table border=\"1\" class=\"dataframe\">\n",
       "  <thead>\n",
       "    <tr style=\"text-align: right;\">\n",
       "      <th></th>\n",
       "      <th>Model</th>\n",
       "      <th>model_count</th>\n",
       "    </tr>\n",
       "  </thead>\n",
       "  <tbody>\n",
       "    <tr>\n",
       "      <th>0</th>\n",
       "      <td>SWIFT</td>\n",
       "      <td>31899</td>\n",
       "    </tr>\n",
       "    <tr>\n",
       "      <th>1</th>\n",
       "      <td>ALTO</td>\n",
       "      <td>28569</td>\n",
       "    </tr>\n",
       "    <tr>\n",
       "      <th>2</th>\n",
       "      <td>SANTRO</td>\n",
       "      <td>24536</td>\n",
       "    </tr>\n",
       "    <tr>\n",
       "      <th>3</th>\n",
       "      <td>SCORPIO CRDE</td>\n",
       "      <td>23771</td>\n",
       "    </tr>\n",
       "    <tr>\n",
       "      <th>4</th>\n",
       "      <td>WAGONR</td>\n",
       "      <td>22864</td>\n",
       "    </tr>\n",
       "  </tbody>\n",
       "</table>\n",
       "</div>"
      ],
      "text/plain": [
       "          Model  model_count\n",
       "0         SWIFT        31899\n",
       "1          ALTO        28569\n",
       "2        SANTRO        24536\n",
       "3  SCORPIO CRDE        23771\n",
       "4        WAGONR        22864"
      ]
     },
     "execution_count": 27,
     "metadata": {},
     "output_type": "execute_result"
    }
   ],
   "source": [
    "model = customer_model_data['Model'].value_counts().reset_index().sort_values(by='Model', ascending=False)\n",
    "model.columns = ['Model', 'model_count']\n",
    "model.head()"
   ]
  },
  {
   "cell_type": "code",
   "execution_count": 99,
   "metadata": {},
   "outputs": [
    {
     "data": {
      "text/plain": [
       "162"
      ]
     },
     "execution_count": 99,
     "metadata": {},
     "output_type": "execute_result"
    }
   ],
   "source": [
    "model[model['model_count']<=500]['Model'].count()"
   ]
  },
  {
   "cell_type": "code",
   "execution_count": 100,
   "metadata": {},
   "outputs": [],
   "source": [
    "customer_model_data = customer_model_data.merge(model, on='Model', how='left')"
   ]
  },
  {
   "cell_type": "code",
   "execution_count": 101,
   "metadata": {},
   "outputs": [],
   "source": [
    "customer_model_data.loc[customer_model_data['model_count'] <= 500, 'Model'] = 'Others'"
   ]
  },
  {
   "cell_type": "code",
   "execution_count": 104,
   "metadata": {},
   "outputs": [
    {
     "data": {
      "text/plain": [
       "85"
      ]
     },
     "execution_count": 104,
     "metadata": {},
     "output_type": "execute_result"
    }
   ],
   "source": [
    "customer_model_data['Model'].nunique()"
   ]
  },
  {
   "cell_type": "code",
   "execution_count": 32,
   "metadata": {},
   "outputs": [],
   "source": [
    "customer_model_data.drop(['city_count', 'model_count'], axis=1, inplace=True)"
   ]
  },
  {
   "cell_type": "code",
   "execution_count": 33,
   "metadata": {},
   "outputs": [
    {
     "data": {
      "text/plain": [
       "Index(['Cust Type', 'KMs Reading', 'Make', 'Model', 'Order Type',\n",
       "       'Total Amt Wtd Tax.', 'District', 'State', 'has_policy', 'Segment'],\n",
       "      dtype='object')"
      ]
     },
     "execution_count": 33,
     "metadata": {},
     "output_type": "execute_result"
    }
   ],
   "source": [
    "customer_model_data.columns"
   ]
  },
  {
   "cell_type": "code",
   "execution_count": 34,
   "metadata": {},
   "outputs": [
    {
     "data": {
      "text/plain": [
       "Cust Type                  7\n",
       "KMs Reading           159473\n",
       "Make                      28\n",
       "Model                     85\n",
       "Order Type                 9\n",
       "Total Amt Wtd Tax.    258071\n",
       "District                 118\n",
       "State                     35\n",
       "has_policy                 2\n",
       "Segment                    3\n",
       "dtype: int64"
      ]
     },
     "execution_count": 34,
     "metadata": {},
     "output_type": "execute_result"
    }
   ],
   "source": [
    "customer_model_data.nunique()"
   ]
  },
  {
   "cell_type": "code",
   "execution_count": 35,
   "metadata": {},
   "outputs": [],
   "source": [
    "cust_type_enc = pd.get_dummies(customer_model_data['Cust Type'],prefix = 'cust_type_')\n",
    "\n",
    "make_enc = pd.get_dummies(customer_model_data['Make'],prefix = 'make_')\n",
    "\n",
    "model_enc =  pd.get_dummies(customer_model_data['Model'],prefix = 'model_')\n",
    "\n",
    "ot_enc =  pd.get_dummies(customer_model_data['Order Type'],prefix = 'ot_')\n",
    "\n",
    "state_enc =  pd.get_dummies(customer_model_data['State'],prefix = 'state_')\n",
    "\n",
    "district_enc =  pd.get_dummies(customer_model_data['District'],prefix = 'district_').astype(np.int8)\n",
    "\n",
    "data_encoded = pd.concat([cust_type_enc, make_enc, model_enc, ot_enc, state_enc, district_enc],\n",
    "                         axis=1)\n",
    "\n",
    "data_encoded = pd.concat([data_encoded, customer_model_data['KMs Reading'], customer_model_data['Total Amt Wtd Tax.'],\n",
    "                         customer_model_data['has_policy'], customer_model_data['Segment']], axis=1)"
   ]
  },
  {
   "cell_type": "code",
   "execution_count": 36,
   "metadata": {},
   "outputs": [
    {
     "data": {
      "text/plain": [
       "(492314, 286)"
      ]
     },
     "execution_count": 36,
     "metadata": {},
     "output_type": "execute_result"
    }
   ],
   "source": [
    "data_encoded.shape"
   ]
  },
  {
   "cell_type": "code",
   "execution_count": 37,
   "metadata": {},
   "outputs": [
    {
     "data": {
      "text/html": [
       "<div>\n",
       "<style scoped>\n",
       "    .dataframe tbody tr th:only-of-type {\n",
       "        vertical-align: middle;\n",
       "    }\n",
       "\n",
       "    .dataframe tbody tr th {\n",
       "        vertical-align: top;\n",
       "    }\n",
       "\n",
       "    .dataframe thead th {\n",
       "        text-align: right;\n",
       "    }\n",
       "</style>\n",
       "<table border=\"1\" class=\"dataframe\">\n",
       "  <thead>\n",
       "    <tr style=\"text-align: right;\">\n",
       "      <th></th>\n",
       "      <th>KMs Reading</th>\n",
       "      <th>Total Amt Wtd Tax.</th>\n",
       "    </tr>\n",
       "  </thead>\n",
       "  <tbody>\n",
       "    <tr>\n",
       "      <th>0</th>\n",
       "      <td>0.000300</td>\n",
       "      <td>0.000288</td>\n",
       "    </tr>\n",
       "    <tr>\n",
       "      <th>1</th>\n",
       "      <td>0.017298</td>\n",
       "      <td>0.001883</td>\n",
       "    </tr>\n",
       "    <tr>\n",
       "      <th>2</th>\n",
       "      <td>0.004241</td>\n",
       "      <td>0.001756</td>\n",
       "    </tr>\n",
       "    <tr>\n",
       "      <th>3</th>\n",
       "      <td>0.004241</td>\n",
       "      <td>0.000211</td>\n",
       "    </tr>\n",
       "    <tr>\n",
       "      <th>4</th>\n",
       "      <td>0.007904</td>\n",
       "      <td>0.001422</td>\n",
       "    </tr>\n",
       "  </tbody>\n",
       "</table>\n",
       "</div>"
      ],
      "text/plain": [
       "   KMs Reading  Total Amt Wtd Tax.\n",
       "0     0.000300            0.000288\n",
       "1     0.017298            0.001883\n",
       "2     0.004241            0.001756\n",
       "3     0.004241            0.000211\n",
       "4     0.007904            0.001422"
      ]
     },
     "execution_count": 37,
     "metadata": {},
     "output_type": "execute_result"
    }
   ],
   "source": [
    "#normalize numerical features\n",
    "numerica_df = data_encoded[['KMs Reading', 'Total Amt Wtd Tax.']]\n",
    "\n",
    "min_max_scaler = preprocessing.MinMaxScaler()\n",
    "np_scaled = min_max_scaler.fit_transform(numerica_df)\n",
    "df_normalized = pd.DataFrame(np_scaled, columns = ['KMs Reading', 'Total Amt Wtd Tax.'])\n",
    "data_encoded[['KMs Reading', 'Total Amt Wtd Tax.']] = df_normalized[['KMs Reading', 'Total Amt Wtd Tax.']]\n",
    "data_encoded[['KMs Reading', 'Total Amt Wtd Tax.']].head()"
   ]
  },
  {
   "cell_type": "code",
   "execution_count": 38,
   "metadata": {},
   "outputs": [],
   "source": [
    "lr_model = LogisticRegression(random_state=0)"
   ]
  },
  {
   "cell_type": "code",
   "execution_count": 39,
   "metadata": {},
   "outputs": [],
   "source": [
    "X = data_encoded.iloc[:,:-1]\n",
    "y= data_encoded['Segment']"
   ]
  },
  {
   "cell_type": "code",
   "execution_count": 40,
   "metadata": {},
   "outputs": [
    {
     "data": {
      "text/plain": [
       "LogisticRegression(C=1.0, class_weight=None, dual=False, fit_intercept=True,\n",
       "                   intercept_scaling=1, l1_ratio=None, max_iter=100,\n",
       "                   multi_class='auto', n_jobs=None, penalty='l2',\n",
       "                   random_state=0, solver='lbfgs', tol=0.0001, verbose=0,\n",
       "                   warm_start=False)"
      ]
     },
     "execution_count": 40,
     "metadata": {},
     "output_type": "execute_result"
    }
   ],
   "source": [
    "lr_model.fit(X, y)"
   ]
  },
  {
   "cell_type": "code",
   "execution_count": 41,
   "metadata": {},
   "outputs": [],
   "source": [
    "input_data = ['Retail', 3000, 'HONDA', 'MOBILIO', 'Mechanical', 500, 'hyderabad', 'telangana', \n",
    "              '0']\n",
    "input_df = pd.DataFrame({\n",
    "    'Cust Type': input_data[0],\n",
    "    'KMs Reading': input_data[1], \n",
    "    'Make': input_data[2], \n",
    "    'Model': input_data[3],\n",
    "    'Order Type': input_data[4], \n",
    "    'Total Amt Wtd Tax.': input_data[5], \n",
    "    'District': input_data[6], \n",
    "    'State': input_data[7],\n",
    "    'has_policy': input_data[8]\n",
    "}, index=[0])\n",
    "categorical_cols = ['Cust Type', 'Make', 'Model', 'Order Type', 'District', 'State']\n",
    "input_data_encoded = pd.get_dummies(input_df[categorical_cols])\n",
    "input_data_encoded[['KMs Reading', 'Total Amt Wtd Tax.', 'has_policy']] = input_df[['KMs Reading', 'Total Amt Wtd Tax.', 'has_policy']]\n",
    "# Get missing columns in the training test\n",
    "missing_cols = set( data_encoded.columns ) - set( input_data_encoded.columns )\n",
    "# Add a missing column in test set with default value equal to 0\n",
    "for c in missing_cols:\n",
    "    input_data_encoded[c] = 0\n",
    "# Ensure the order of column in the test set is in the same order than in train set\n",
    "input_data_encoded = input_data_encoded[X.columns]"
   ]
  },
  {
   "cell_type": "code",
   "execution_count": 42,
   "metadata": {},
   "outputs": [
    {
     "data": {
      "text/plain": [
       "(1, 285)"
      ]
     },
     "execution_count": 42,
     "metadata": {},
     "output_type": "execute_result"
    }
   ],
   "source": [
    "input_data_encoded.shape"
   ]
  },
  {
   "cell_type": "code",
   "execution_count": 43,
   "metadata": {},
   "outputs": [],
   "source": [
    "lr_pred = lr_model.predict(input_data_encoded)"
   ]
  },
  {
   "cell_type": "code",
   "execution_count": 44,
   "metadata": {},
   "outputs": [
    {
     "data": {
      "text/plain": [
       "array([1], dtype=int64)"
      ]
     },
     "execution_count": 44,
     "metadata": {},
     "output_type": "execute_result"
    }
   ],
   "source": [
    "lr_pred"
   ]
  },
  {
   "cell_type": "code",
   "execution_count": 45,
   "metadata": {},
   "outputs": [],
   "source": [
    "def perform_cv(model, X, y):\n",
    "    f1_scores = []\n",
    "    for i in range(0,5):\n",
    "        X_t, X_test, y_train, y_test = train_test_split(X, y, test_size=0.33)\n",
    "        model.fit(X_t, y_train)\n",
    "        model_pred = model.predict(X_test)\n",
    "        print(classification_report(y_test, model_pred))\n",
    "        f1 = f1_score(y_test, model_pred,average=\"weighted\")\n",
    "        print(\"F1 score: \"+str(f1))\n",
    "        f1_scores.append(f1)\n",
    "    return f1_scores"
   ]
  },
  {
   "cell_type": "code",
   "execution_count": 46,
   "metadata": {},
   "outputs": [
    {
     "name": "stdout",
     "output_type": "stream",
     "text": [
      "              precision    recall  f1-score   support\n",
      "\n",
      "           0       0.64      0.72      0.67     65117\n",
      "           1       0.79      0.72      0.75     95411\n",
      "           2       0.74      0.57      0.64      1936\n",
      "\n",
      "    accuracy                           0.72    162464\n",
      "   macro avg       0.72      0.67      0.69    162464\n",
      "weighted avg       0.73      0.72      0.72    162464\n",
      "\n",
      "F1 score: 0.7198566256728364\n",
      "              precision    recall  f1-score   support\n",
      "\n",
      "           0       0.64      0.72      0.67     64886\n",
      "           1       0.79      0.72      0.75     95712\n",
      "           2       0.76      0.58      0.66      1866\n",
      "\n",
      "    accuracy                           0.72    162464\n",
      "   macro avg       0.73      0.67      0.70    162464\n",
      "weighted avg       0.73      0.72      0.72    162464\n",
      "\n",
      "F1 score: 0.7211446904046404\n",
      "              precision    recall  f1-score   support\n",
      "\n",
      "           0       0.64      0.72      0.68     65552\n",
      "           1       0.78      0.72      0.75     95087\n",
      "           2       0.71      0.56      0.63      1825\n",
      "\n",
      "    accuracy                           0.72    162464\n",
      "   macro avg       0.71      0.67      0.69    162464\n",
      "weighted avg       0.73      0.72      0.72    162464\n",
      "\n",
      "F1 score: 0.720848278664614\n",
      "              precision    recall  f1-score   support\n",
      "\n",
      "           0       0.63      0.72      0.67     65012\n",
      "           1       0.79      0.72      0.75     95608\n",
      "           2       0.74      0.58      0.65      1844\n",
      "\n",
      "    accuracy                           0.72    162464\n",
      "   macro avg       0.72      0.67      0.69    162464\n",
      "weighted avg       0.73      0.72      0.72    162464\n",
      "\n",
      "F1 score: 0.7199377114163329\n",
      "              precision    recall  f1-score   support\n",
      "\n",
      "           0       0.63      0.72      0.67     64799\n",
      "           1       0.79      0.72      0.75     95819\n",
      "           2       0.73      0.58      0.64      1846\n",
      "\n",
      "    accuracy                           0.72    162464\n",
      "   macro avg       0.72      0.67      0.69    162464\n",
      "weighted avg       0.73      0.72      0.72    162464\n",
      "\n",
      "F1 score: 0.7204347904497247\n"
     ]
    }
   ],
   "source": [
    "f1 = perform_cv(lr_model, X, y)"
   ]
  },
  {
   "cell_type": "code",
   "execution_count": 47,
   "metadata": {},
   "outputs": [
    {
     "data": {
      "text/plain": [
       "0.7204444193216296"
      ]
     },
     "execution_count": 47,
     "metadata": {},
     "output_type": "execute_result"
    }
   ],
   "source": [
    "np.mean(f1)"
   ]
  },
  {
   "cell_type": "code",
   "execution_count": null,
   "metadata": {},
   "outputs": [],
   "source": []
  },
  {
   "cell_type": "markdown",
   "metadata": {},
   "source": [
    "#### We are getting average accuracy of 72% and f1 score of 0.72 with logistic"
   ]
  },
  {
   "cell_type": "code",
   "execution_count": 65,
   "metadata": {},
   "outputs": [
    {
     "name": "stdout",
     "output_type": "stream",
     "text": [
      "Removed column: Cust Type\n",
      "Fitting the model...\n",
      "Predicting...\n",
      "              precision    recall  f1-score   support\n",
      "\n",
      "           0       0.00      0.00      0.00     65199\n",
      "           1       0.59      1.00      0.74     95372\n",
      "           2       0.00      0.00      0.00      1893\n",
      "\n",
      "    accuracy                           0.59    162464\n",
      "   macro avg       0.20      0.33      0.25    162464\n",
      "weighted avg       0.34      0.59      0.43    162464\n",
      "\n",
      "F1 score: 0.434281249935926\n",
      "Removed column: KMs Reading\n",
      "Fitting the model...\n",
      "Predicting...\n",
      "              precision    recall  f1-score   support\n",
      "\n",
      "           0       0.62      0.39      0.48     64888\n",
      "           1       0.67      0.85      0.75     95735\n",
      "           2       0.00      0.00      0.00      1841\n",
      "\n",
      "    accuracy                           0.66    162464\n",
      "   macro avg       0.43      0.41      0.41    162464\n",
      "weighted avg       0.64      0.66      0.63    162464\n",
      "\n",
      "F1 score: 0.6339519519208323\n",
      "Removed column: Make\n",
      "Fitting the model...\n",
      "Predicting...\n",
      "              precision    recall  f1-score   support\n",
      "\n",
      "           0       0.00      0.00      0.00     65078\n",
      "           1       0.59      1.00      0.74     95487\n",
      "           2       0.00      0.00      0.00      1899\n",
      "\n",
      "    accuracy                           0.59    162464\n",
      "   macro avg       0.20      0.33      0.25    162464\n",
      "weighted avg       0.35      0.59      0.44    162464\n",
      "\n",
      "F1 score: 0.4351351191125558\n",
      "Removed column: Model\n",
      "Fitting the model...\n",
      "Predicting...\n",
      "              precision    recall  f1-score   support\n",
      "\n",
      "           0       0.00      0.00      0.00     65003\n",
      "           1       0.59      1.00      0.74     95614\n",
      "           2       0.00      0.00      0.00      1847\n",
      "\n",
      "    accuracy                           0.59    162464\n",
      "   macro avg       0.20      0.33      0.25    162464\n",
      "weighted avg       0.35      0.59      0.44    162464\n",
      "\n",
      "F1 score: 0.43607866948253704\n",
      "Removed column: Order Type\n",
      "Fitting the model...\n",
      "Predicting...\n",
      "              precision    recall  f1-score   support\n",
      "\n",
      "           0       0.00      0.00      0.00     65330\n",
      "           1       0.59      1.00      0.74     95265\n",
      "           2       0.00      0.00      0.00      1869\n",
      "\n",
      "    accuracy                           0.59    162464\n",
      "   macro avg       0.20      0.33      0.25    162464\n",
      "weighted avg       0.34      0.59      0.43    162464\n",
      "\n",
      "F1 score: 0.4334872306312607\n",
      "Removed column: Total Amt Wtd Tax.\n",
      "Fitting the model...\n",
      "Predicting...\n",
      "              precision    recall  f1-score   support\n",
      "\n",
      "           0       0.00      0.00      0.00     65122\n",
      "           1       0.59      1.00      0.74     95411\n",
      "           2       0.00      0.00      0.00      1931\n",
      "\n",
      "    accuracy                           0.59    162464\n",
      "   macro avg       0.20      0.33      0.25    162464\n",
      "weighted avg       0.34      0.59      0.43    162464\n",
      "\n",
      "F1 score: 0.43457076680773865\n",
      "Removed column: District\n",
      "Fitting the model...\n",
      "Predicting...\n",
      "              precision    recall  f1-score   support\n",
      "\n",
      "           0       0.00      0.00      0.00     65275\n",
      "           1       0.59      1.00      0.74     95317\n",
      "           2       0.00      0.00      0.00      1872\n",
      "\n",
      "    accuracy                           0.59    162464\n",
      "   macro avg       0.20      0.33      0.25    162464\n",
      "weighted avg       0.34      0.59      0.43    162464\n",
      "\n",
      "F1 score: 0.43387305492238537\n",
      "Removed column: State\n",
      "Fitting the model...\n",
      "Predicting...\n",
      "              precision    recall  f1-score   support\n",
      "\n",
      "           0       0.00      0.00      0.00     65183\n",
      "           1       0.59      1.00      0.74     95427\n",
      "           2       0.00      0.00      0.00      1854\n",
      "\n",
      "    accuracy                           0.59    162464\n",
      "   macro avg       0.20      0.33      0.25    162464\n",
      "weighted avg       0.35      0.59      0.43    162464\n",
      "\n",
      "F1 score: 0.4346895596358525\n",
      "Removed column: has_policy\n",
      "Fitting the model...\n",
      "Predicting...\n",
      "              precision    recall  f1-score   support\n",
      "\n",
      "           0       0.00      0.00      0.00     65105\n",
      "           1       0.59      1.00      0.74     95477\n",
      "           2       0.00      0.00      0.00      1882\n",
      "\n",
      "    accuracy                           0.59    162464\n",
      "   macro avg       0.20      0.33      0.25    162464\n",
      "weighted avg       0.35      0.59      0.44    162464\n",
      "\n",
      "F1 score: 0.4350608497316605\n"
     ]
    }
   ],
   "source": [
    "#for feature engineering, removing one feature at a time and checking model performance\n",
    "col_list = ['Cust Type', 'KMs Reading', 'Make', 'Model', 'Order Type', 'Total Amt Wtd Tax.', 'District', 'State', 'has_policy']\n",
    "f1_scores = []\n",
    "for col in col_list:\n",
    "    \n",
    "    #removing one feature at a time\n",
    "    data = pd.read_csv('../data/customer_model_data.csv')\n",
    "    data.drop(col, axis=1, inplace=True)\n",
    "    print(\"Removed column: \"+col)\n",
    "    \n",
    "    #irrelevant features\n",
    "    data.drop(['Data Origin', 'Plant Name1'], axis=1, inplace=True)\n",
    "\n",
    "    if 'District' in data.columns:\n",
    "        cities = data['District'].value_counts().reset_index().sort_values(by='District', ascending=False)\n",
    "        cities.columns = ['District', 'city_count']\n",
    "        data = data.merge(cities, on='District', how='left')\n",
    "        data.loc[data['city_count'] <= 500, 'District'] = 'Others'\n",
    "\n",
    "    if 'Model' in data.columns:\n",
    "        model = data['Model'].value_counts().reset_index().sort_values(by='Model', ascending=False)\n",
    "        model.columns = ['Model', 'model_count']\n",
    "        data = data.merge(model, on='Model', how='left')\n",
    "        data.loc[data['model_count'] <= 500, 'Model'] = 'Others'\n",
    "    \n",
    "    if 'city_count' in data.columns:\n",
    "        data.drop('city_count', axis=1, inplace=True)\n",
    "    \n",
    "    if 'model_count' in data.columns:\n",
    "        data.drop('model_count', axis=1, inplace=True)\n",
    "    \n",
    "    data_encoded = pd.DataFrame()\n",
    "    for numeric_col in ['KMs Reading', 'Total Amt Wtd Tax.', 'has_policy']:\n",
    "        if numeric_col in data.columns:\n",
    "            data_encoded = pd.concat([data_encoded, data[numeric_col]], axis=1)\n",
    "\n",
    "\n",
    "    current_cols = data.columns\n",
    "    for curr_col in current_cols:\n",
    "        if data[curr_col].dtype == 'object':\n",
    "            col_enc = pd.get_dummies(data[curr_col])\n",
    "            data_encoded = pd.concat([data_encoded, col_enc], axis=1)\n",
    "\n",
    "            \n",
    "    X = data_encoded.iloc[:,:-1]\n",
    "    y= data['Segment']\n",
    "    \n",
    "    X_t, X_test, y_train, y_test = train_test_split(X, y, test_size=0.33)\n",
    "    print(\"Fitting the model...\")\n",
    "    lr_model.fit(X_t, y_train)\n",
    "    print(\"Predicting...\")\n",
    "    model_pred = lr_model.predict(X_test)\n",
    "    print(classification_report(y_test, model_pred))\n",
    "    f1 = f1_score(y_test, model_pred,average=\"weighted\")\n",
    "    print(\"F1 score: \"+str(f1))\n",
    "    f1_scores.append(f1)"
   ]
  },
  {
   "cell_type": "code",
   "execution_count": 86,
   "metadata": {},
   "outputs": [],
   "source": [
    "matplotlib.rcParams.update({'font.size': 12})"
   ]
  },
  {
   "cell_type": "code",
   "execution_count": 87,
   "metadata": {},
   "outputs": [
    {
     "data": {
      "text/plain": [
       "Text(0, 0.5, 'f1 score')"
      ]
     },
     "execution_count": 87,
     "metadata": {},
     "output_type": "execute_result"
    },
    {
     "data": {
      "image/png": "[encoded data removed]",
      "text/plain": [
       "<Figure size 1080x648 with 1 Axes>"
      ]
     },
     "metadata": {
      "needs_background": "light"
     },
     "output_type": "display_data"
    }
   ],
   "source": [
    "plt.figure(figsize=(15,9))\n",
    "plt.plot(col_list, f1_scores)\n",
    "plt.title('Feature Importance')\n",
    "plt.xlabel('Features')\n",
    "plt.ylabel('f1 score')"
   ]
  },
  {
   "cell_type": "code",
   "execution_count": 190,
   "metadata": {},
   "outputs": [],
   "source": [
    "#upsampling low and high segments\n",
    "\n",
    "ros = RandomOverSampler(random_state=3)\n",
    "data_res, label_res = ros.fit_sample(X, y)"
   ]
  },
  {
   "cell_type": "code",
   "execution_count": 193,
   "metadata": {},
   "outputs": [
    {
     "data": {
      "text/plain": [
       "2    289210\n",
       "1    289210\n",
       "0    289210\n",
       "Name: Segment, dtype: int64"
      ]
     },
     "execution_count": 193,
     "metadata": {},
     "output_type": "execute_result"
    }
   ],
   "source": [
    "label_res.value_counts()"
   ]
  },
  {
   "cell_type": "code",
   "execution_count": 194,
   "metadata": {},
   "outputs": [
    {
     "name": "stdout",
     "output_type": "stream",
     "text": [
      "              precision    recall  f1-score   support\n",
      "\n",
      "           0       0.66      0.81      0.73     95218\n",
      "           1       0.81      0.60      0.69     95557\n",
      "           2       0.91      0.95      0.93     95543\n",
      "\n",
      "    accuracy                           0.79    286318\n",
      "   macro avg       0.80      0.79      0.78    286318\n",
      "weighted avg       0.80      0.79      0.78    286318\n",
      "\n",
      "F1 score: 0.7824816237596645\n",
      "              precision    recall  f1-score   support\n",
      "\n",
      "           0       0.66      0.81      0.73     95414\n",
      "           1       0.81      0.59      0.69     95340\n",
      "           2       0.91      0.95      0.93     95564\n",
      "\n",
      "    accuracy                           0.79    286318\n",
      "   macro avg       0.79      0.78      0.78    286318\n",
      "weighted avg       0.79      0.79      0.78    286318\n",
      "\n",
      "F1 score: 0.7817903894635123\n",
      "              precision    recall  f1-score   support\n",
      "\n",
      "           0       0.67      0.81      0.73     95646\n",
      "           1       0.81      0.60      0.69     95066\n",
      "           2       0.91      0.95      0.93     95606\n",
      "\n",
      "    accuracy                           0.79    286318\n",
      "   macro avg       0.80      0.79      0.78    286318\n",
      "weighted avg       0.80      0.79      0.78    286318\n",
      "\n",
      "F1 score: 0.7833711631827728\n",
      "              precision    recall  f1-score   support\n",
      "\n",
      "           0       0.66      0.81      0.73     95673\n",
      "           1       0.81      0.59      0.69     95082\n",
      "           2       0.91      0.95      0.93     95563\n",
      "\n",
      "    accuracy                           0.79    286318\n",
      "   macro avg       0.80      0.79      0.78    286318\n",
      "weighted avg       0.80      0.79      0.78    286318\n",
      "\n",
      "F1 score: 0.7821989319745847\n",
      "              precision    recall  f1-score   support\n",
      "\n",
      "           0       0.66      0.81      0.73     95235\n",
      "           1       0.81      0.60      0.69     95834\n",
      "           2       0.91      0.95      0.93     95249\n",
      "\n",
      "    accuracy                           0.79    286318\n",
      "   macro avg       0.80      0.79      0.78    286318\n",
      "weighted avg       0.80      0.79      0.78    286318\n",
      "\n",
      "F1 score: 0.7824144321028236\n",
      "              precision    recall  f1-score   support\n",
      "\n",
      "           0       0.67      0.81      0.73     95808\n",
      "           1       0.81      0.60      0.69     95337\n",
      "           2       0.91      0.95      0.93     95173\n",
      "\n",
      "    accuracy                           0.79    286318\n",
      "   macro avg       0.80      0.79      0.78    286318\n",
      "weighted avg       0.79      0.79      0.78    286318\n",
      "\n",
      "F1 score: 0.7825546441814525\n",
      "              precision    recall  f1-score   support\n",
      "\n",
      "           0       0.66      0.81      0.73     95687\n",
      "           1       0.81      0.59      0.69     95191\n",
      "           2       0.91      0.95      0.93     95440\n",
      "\n",
      "    accuracy                           0.79    286318\n",
      "   macro avg       0.79      0.78      0.78    286318\n",
      "weighted avg       0.79      0.79      0.78    286318\n",
      "\n",
      "F1 score: 0.781706938103934\n",
      "              precision    recall  f1-score   support\n",
      "\n",
      "           0       0.66      0.81      0.73     95557\n",
      "           1       0.81      0.60      0.69     95459\n",
      "           2       0.91      0.95      0.93     95302\n",
      "\n",
      "    accuracy                           0.79    286318\n",
      "   macro avg       0.80      0.79      0.78    286318\n",
      "weighted avg       0.80      0.79      0.78    286318\n",
      "\n",
      "F1 score: 0.7830620819648535\n",
      "              precision    recall  f1-score   support\n",
      "\n",
      "           0       0.66      0.81      0.73     95536\n",
      "           1       0.81      0.60      0.69     95527\n",
      "           2       0.91      0.95      0.93     95255\n",
      "\n",
      "    accuracy                           0.78    286318\n",
      "   macro avg       0.79      0.78      0.78    286318\n",
      "weighted avg       0.79      0.78      0.78    286318\n",
      "\n",
      "F1 score: 0.7815631490892205\n",
      "              precision    recall  f1-score   support\n",
      "\n",
      "           0       0.67      0.81      0.73     95920\n",
      "           1       0.81      0.60      0.69     95282\n",
      "           2       0.91      0.95      0.93     95116\n",
      "\n",
      "    accuracy                           0.78    286318\n",
      "   macro avg       0.79      0.78      0.78    286318\n",
      "weighted avg       0.79      0.78      0.78    286318\n",
      "\n",
      "F1 score: 0.7813683946906173\n"
     ]
    }
   ],
   "source": [
    "f1 = perform_cv(lr_model, data_res, label_res)"
   ]
  },
  {
   "cell_type": "code",
   "execution_count": 195,
   "metadata": {},
   "outputs": [
    {
     "data": {
      "text/plain": [
       "0.7822511748513435"
      ]
     },
     "execution_count": 195,
     "metadata": {},
     "output_type": "execute_result"
    }
   ],
   "source": [
    "np.mean(f1)"
   ]
  },
  {
   "cell_type": "markdown",
   "metadata": {},
   "source": [
    "#### After upsampling, we are getting 0.78 f1 score and 79% accuracy"
   ]
  },
  {
   "cell_type": "code",
   "execution_count": 198,
   "metadata": {},
   "outputs": [],
   "source": [
    "dtree = DecisionTreeClassifier(random_state=0)"
   ]
  },
  {
   "cell_type": "code",
   "execution_count": 199,
   "metadata": {},
   "outputs": [
    {
     "name": "stdout",
     "output_type": "stream",
     "text": [
      "              precision    recall  f1-score   support\n",
      "\n",
      "           0       0.76      0.80      0.78     95453\n",
      "           1       0.79      0.74      0.76     95377\n",
      "           2       1.00      1.00      1.00     95488\n",
      "\n",
      "    accuracy                           0.85    286318\n",
      "   macro avg       0.85      0.85      0.85    286318\n",
      "weighted avg       0.85      0.85      0.85    286318\n",
      "\n",
      "F1 score: 0.8472006674025124\n",
      "              precision    recall  f1-score   support\n",
      "\n",
      "           0       0.76      0.81      0.78     95334\n",
      "           1       0.79      0.74      0.76     95501\n",
      "           2       1.00      1.00      1.00     95483\n",
      "\n",
      "    accuracy                           0.85    286318\n",
      "   macro avg       0.85      0.85      0.85    286318\n",
      "weighted avg       0.85      0.85      0.85    286318\n",
      "\n",
      "F1 score: 0.8479332682387895\n",
      "              precision    recall  f1-score   support\n",
      "\n",
      "           0       0.76      0.81      0.78     95510\n",
      "           1       0.79      0.74      0.76     95314\n",
      "           2       1.00      1.00      1.00     95494\n",
      "\n",
      "    accuracy                           0.85    286318\n",
      "   macro avg       0.85      0.85      0.85    286318\n",
      "weighted avg       0.85      0.85      0.85    286318\n",
      "\n",
      "F1 score: 0.8477997150341383\n",
      "              precision    recall  f1-score   support\n",
      "\n",
      "           0       0.75      0.80      0.78     95417\n",
      "           1       0.79      0.74      0.76     95374\n",
      "           2       1.00      1.00      1.00     95527\n",
      "\n",
      "    accuracy                           0.85    286318\n",
      "   macro avg       0.85      0.85      0.85    286318\n",
      "weighted avg       0.85      0.85      0.85    286318\n",
      "\n",
      "F1 score: 0.846509688740653\n",
      "              precision    recall  f1-score   support\n",
      "\n",
      "           0       0.76      0.80      0.78     95393\n",
      "           1       0.79      0.74      0.77     95508\n",
      "           2       1.00      1.00      1.00     95417\n",
      "\n",
      "    accuracy                           0.85    286318\n",
      "   macro avg       0.85      0.85      0.85    286318\n",
      "weighted avg       0.85      0.85      0.85    286318\n",
      "\n",
      "F1 score: 0.8474208607943311\n",
      "              precision    recall  f1-score   support\n",
      "\n",
      "           0       0.76      0.81      0.78     95280\n",
      "           1       0.79      0.74      0.77     95466\n",
      "           2       1.00      1.00      1.00     95572\n",
      "\n",
      "    accuracy                           0.85    286318\n",
      "   macro avg       0.85      0.85      0.85    286318\n",
      "weighted avg       0.85      0.85      0.85    286318\n",
      "\n",
      "F1 score: 0.8490229614478119\n",
      "              precision    recall  f1-score   support\n",
      "\n",
      "           0       0.75      0.81      0.78     95519\n",
      "           1       0.79      0.74      0.76     95218\n",
      "           2       1.00      1.00      1.00     95581\n",
      "\n",
      "    accuracy                           0.85    286318\n",
      "   macro avg       0.85      0.85      0.85    286318\n",
      "weighted avg       0.85      0.85      0.85    286318\n",
      "\n",
      "F1 score: 0.8469788151510251\n",
      "              precision    recall  f1-score   support\n",
      "\n",
      "           0       0.76      0.80      0.78     95128\n",
      "           1       0.79      0.74      0.76     95481\n",
      "           2       1.00      1.00      1.00     95709\n",
      "\n",
      "    accuracy                           0.85    286318\n",
      "   macro avg       0.85      0.85      0.85    286318\n",
      "weighted avg       0.85      0.85      0.85    286318\n",
      "\n",
      "F1 score: 0.8471476397798999\n",
      "              precision    recall  f1-score   support\n",
      "\n",
      "           0       0.76      0.80      0.78     95324\n",
      "           1       0.79      0.74      0.76     95377\n",
      "           2       1.00      1.00      1.00     95617\n",
      "\n",
      "    accuracy                           0.85    286318\n",
      "   macro avg       0.85      0.85      0.85    286318\n",
      "weighted avg       0.85      0.85      0.85    286318\n",
      "\n",
      "F1 score: 0.8474412495446878\n",
      "              precision    recall  f1-score   support\n",
      "\n",
      "           0       0.76      0.80      0.78     95350\n",
      "           1       0.79      0.74      0.76     95418\n",
      "           2       1.00      1.00      1.00     95550\n",
      "\n",
      "    accuracy                           0.85    286318\n",
      "   macro avg       0.85      0.85      0.85    286318\n",
      "weighted avg       0.85      0.85      0.85    286318\n",
      "\n",
      "F1 score: 0.8472870004752087\n"
     ]
    }
   ],
   "source": [
    "f1 = perform_cv(dtree, data_res, label_res)"
   ]
  },
  {
   "cell_type": "code",
   "execution_count": 201,
   "metadata": {},
   "outputs": [
    {
     "data": {
      "text/plain": [
       "0.8474741866609058"
      ]
     },
     "execution_count": 201,
     "metadata": {},
     "output_type": "execute_result"
    }
   ],
   "source": [
    "np.mean(f1)"
   ]
  },
  {
   "cell_type": "markdown",
   "metadata": {},
   "source": [
    "#### Decision Tree: 85% accuracy and f1 score = 0.85"
   ]
  },
  {
   "cell_type": "code",
   "execution_count": 203,
   "metadata": {},
   "outputs": [
    {
     "name": "stdout",
     "output_type": "stream",
     "text": [
      "              precision    recall  f1-score   support\n",
      "\n",
      "           0       0.77      0.85      0.81     95246\n",
      "           1       0.83      0.74      0.79     95657\n",
      "           2       1.00      1.00      1.00     95415\n",
      "\n",
      "    accuracy                           0.86    286318\n",
      "   macro avg       0.87      0.86      0.86    286318\n",
      "weighted avg       0.87      0.86      0.86    286318\n",
      "\n",
      "F1 score: 0.863524322666442\n",
      "              precision    recall  f1-score   support\n",
      "\n",
      "           0       0.77      0.84      0.80     95344\n",
      "           1       0.83      0.74      0.78     95541\n",
      "           2       1.00      1.00      1.00     95433\n",
      "\n",
      "    accuracy                           0.86    286318\n",
      "   macro avg       0.86      0.86      0.86    286318\n",
      "weighted avg       0.86      0.86      0.86    286318\n",
      "\n",
      "F1 score: 0.8622276121691583\n",
      "              precision    recall  f1-score   support\n",
      "\n",
      "           0       0.77      0.85      0.81     95379\n",
      "           1       0.83      0.74      0.78     95549\n",
      "           2       1.00      1.00      1.00     95390\n",
      "\n",
      "    accuracy                           0.86    286318\n",
      "   macro avg       0.87      0.86      0.86    286318\n",
      "weighted avg       0.87      0.86      0.86    286318\n",
      "\n",
      "F1 score: 0.8628795232550579\n",
      "              precision    recall  f1-score   support\n",
      "\n",
      "           0       0.77      0.84      0.81     95530\n",
      "           1       0.83      0.75      0.79     95432\n",
      "           2       1.00      1.00      1.00     95356\n",
      "\n",
      "    accuracy                           0.86    286318\n",
      "   macro avg       0.87      0.86      0.86    286318\n",
      "weighted avg       0.87      0.86      0.86    286318\n",
      "\n",
      "F1 score: 0.8631616194266614\n",
      "              precision    recall  f1-score   support\n",
      "\n",
      "           0       0.77      0.84      0.80     95239\n",
      "           1       0.83      0.75      0.78     95435\n",
      "           2       1.00      1.00      1.00     95644\n",
      "\n",
      "    accuracy                           0.86    286318\n",
      "   macro avg       0.86      0.86      0.86    286318\n",
      "weighted avg       0.86      0.86      0.86    286318\n",
      "\n",
      "F1 score: 0.8627844957064816\n"
     ]
    }
   ],
   "source": [
    "rf = RandomForestClassifier(random_state=0)\n",
    "\n",
    "f1 = perform_cv(rf, data_res, label_res)"
   ]
  },
  {
   "cell_type": "code",
   "execution_count": 212,
   "metadata": {},
   "outputs": [],
   "source": [
    "with open('../pickles/logistic_segment.pkl', 'wb') as f:\n",
    "    pickle.dump(lr_model, f)"
   ]
  },
  {
   "cell_type": "code",
   "execution_count": 209,
   "metadata": {},
   "outputs": [],
   "source": [
    "with open('../pickles/dtree_segment.pkl', 'wb') as f:\n",
    "    pickle.dump(dtree, f)"
   ]
  },
  {
   "cell_type": "code",
   "execution_count": 210,
   "metadata": {},
   "outputs": [],
   "source": [
    "with open('../pickles/rf_segment.pkl', 'wb') as f:\n",
    "    pickle.dump(rf, f)"
   ]
  },
  {
   "cell_type": "code",
   "execution_count": 217,
   "metadata": {},
   "outputs": [],
   "source": [
    "with open('../pickles/rf_segment.pkl', 'rb') as f:\n",
    "    model = pickle.load(f)"
   ]
  },
  {
   "cell_type": "code",
   "execution_count": 218,
   "metadata": {},
   "outputs": [
    {
     "data": {
      "text/plain": [
       "RandomForestClassifier(bootstrap=True, ccp_alpha=0.0, class_weight=None,\n",
       "                       criterion='gini', max_depth=None, max_features='auto',\n",
       "                       max_leaf_nodes=None, max_samples=None,\n",
       "                       min_impurity_decrease=0.0, min_impurity_split=None,\n",
       "                       min_samples_leaf=1, min_samples_split=2,\n",
       "                       min_weight_fraction_leaf=0.0, n_estimators=100,\n",
       "                       n_jobs=None, oob_score=False, random_state=0, verbose=0,\n",
       "                       warm_start=False)"
      ]
     },
     "execution_count": 218,
     "metadata": {},
     "output_type": "execute_result"
    }
   ],
   "source": [
    "model"
   ]
  },
  {
   "cell_type": "code",
   "execution_count": 130,
   "metadata": {},
   "outputs": [
    {
     "data": {
      "text/html": [
       "<div>\n",
       "<style scoped>\n",
       "    .dataframe tbody tr th:only-of-type {\n",
       "        vertical-align: middle;\n",
       "    }\n",
       "\n",
       "    .dataframe tbody tr th {\n",
       "        vertical-align: top;\n",
       "    }\n",
       "\n",
       "    .dataframe thead th {\n",
       "        text-align: right;\n",
       "    }\n",
       "</style>\n",
       "<table border=\"1\" class=\"dataframe\">\n",
       "  <thead>\n",
       "    <tr style=\"text-align: right;\">\n",
       "      <th></th>\n",
       "      <th>Make</th>\n",
       "      <th>make_count</th>\n",
       "    </tr>\n",
       "  </thead>\n",
       "  <tbody>\n",
       "    <tr>\n",
       "      <th>0</th>\n",
       "      <td>MARUTI SUZUKI</td>\n",
       "      <td>147102</td>\n",
       "    </tr>\n",
       "    <tr>\n",
       "      <th>1</th>\n",
       "      <td>MAHINDRA &amp;  MAHINDRA</td>\n",
       "      <td>87356</td>\n",
       "    </tr>\n",
       "    <tr>\n",
       "      <th>2</th>\n",
       "      <td>HYUNDAI</td>\n",
       "      <td>85342</td>\n",
       "    </tr>\n",
       "    <tr>\n",
       "      <th>3</th>\n",
       "      <td>TATA MOTORS</td>\n",
       "      <td>58034</td>\n",
       "    </tr>\n",
       "    <tr>\n",
       "      <th>4</th>\n",
       "      <td>GENERAL MOTORS</td>\n",
       "      <td>29092</td>\n",
       "    </tr>\n",
       "    <tr>\n",
       "      <th>5</th>\n",
       "      <td>FORD</td>\n",
       "      <td>21616</td>\n",
       "    </tr>\n",
       "    <tr>\n",
       "      <th>6</th>\n",
       "      <td>TOYOTA</td>\n",
       "      <td>19466</td>\n",
       "    </tr>\n",
       "    <tr>\n",
       "      <th>7</th>\n",
       "      <td>HONDA</td>\n",
       "      <td>15464</td>\n",
       "    </tr>\n",
       "    <tr>\n",
       "      <th>8</th>\n",
       "      <td>SKODA</td>\n",
       "      <td>6515</td>\n",
       "    </tr>\n",
       "    <tr>\n",
       "      <th>9</th>\n",
       "      <td>FIAT</td>\n",
       "      <td>6437</td>\n",
       "    </tr>\n",
       "    <tr>\n",
       "      <th>10</th>\n",
       "      <td>VOLKSWAGEN</td>\n",
       "      <td>6150</td>\n",
       "    </tr>\n",
       "    <tr>\n",
       "      <th>11</th>\n",
       "      <td>RENAULT</td>\n",
       "      <td>3429</td>\n",
       "    </tr>\n",
       "    <tr>\n",
       "      <th>12</th>\n",
       "      <td>NISSAN</td>\n",
       "      <td>3090</td>\n",
       "    </tr>\n",
       "    <tr>\n",
       "      <th>13</th>\n",
       "      <td>MITSUBISHI MOTORS</td>\n",
       "      <td>1427</td>\n",
       "    </tr>\n",
       "    <tr>\n",
       "      <th>14</th>\n",
       "      <td>DAEWOO</td>\n",
       "      <td>392</td>\n",
       "    </tr>\n",
       "    <tr>\n",
       "      <th>15</th>\n",
       "      <td>BMW</td>\n",
       "      <td>257</td>\n",
       "    </tr>\n",
       "    <tr>\n",
       "      <th>16</th>\n",
       "      <td>MERCEDES BENZ</td>\n",
       "      <td>256</td>\n",
       "    </tr>\n",
       "    <tr>\n",
       "      <th>17</th>\n",
       "      <td>AUDI</td>\n",
       "      <td>220</td>\n",
       "    </tr>\n",
       "    <tr>\n",
       "      <th>18</th>\n",
       "      <td>HINDUSTAN MOTORS</td>\n",
       "      <td>219</td>\n",
       "    </tr>\n",
       "    <tr>\n",
       "      <th>19</th>\n",
       "      <td>FORCE</td>\n",
       "      <td>207</td>\n",
       "    </tr>\n",
       "    <tr>\n",
       "      <th>20</th>\n",
       "      <td>PREMIER AUTOMOBILES</td>\n",
       "      <td>93</td>\n",
       "    </tr>\n",
       "    <tr>\n",
       "      <th>21</th>\n",
       "      <td>SONALIKA</td>\n",
       "      <td>87</td>\n",
       "    </tr>\n",
       "    <tr>\n",
       "      <th>22</th>\n",
       "      <td>LAND ROVER</td>\n",
       "      <td>21</td>\n",
       "    </tr>\n",
       "    <tr>\n",
       "      <th>23</th>\n",
       "      <td>VOLVO</td>\n",
       "      <td>19</td>\n",
       "    </tr>\n",
       "    <tr>\n",
       "      <th>24</th>\n",
       "      <td>SAN MOTORS</td>\n",
       "      <td>8</td>\n",
       "    </tr>\n",
       "    <tr>\n",
       "      <th>25</th>\n",
       "      <td>JEEP</td>\n",
       "      <td>7</td>\n",
       "    </tr>\n",
       "    <tr>\n",
       "      <th>26</th>\n",
       "      <td>PORCHE</td>\n",
       "      <td>6</td>\n",
       "    </tr>\n",
       "    <tr>\n",
       "      <th>27</th>\n",
       "      <td>MORRIS</td>\n",
       "      <td>2</td>\n",
       "    </tr>\n",
       "  </tbody>\n",
       "</table>\n",
       "</div>"
      ],
      "text/plain": [
       "                    Make  make_count\n",
       "0          MARUTI SUZUKI      147102\n",
       "1   MAHINDRA &  MAHINDRA       87356\n",
       "2                HYUNDAI       85342\n",
       "3            TATA MOTORS       58034\n",
       "4         GENERAL MOTORS       29092\n",
       "5                   FORD       21616\n",
       "6                 TOYOTA       19466\n",
       "7                  HONDA       15464\n",
       "8                  SKODA        6515\n",
       "9                   FIAT        6437\n",
       "10            VOLKSWAGEN        6150\n",
       "11               RENAULT        3429\n",
       "12                NISSAN        3090\n",
       "13     MITSUBISHI MOTORS        1427\n",
       "14                DAEWOO         392\n",
       "15                   BMW         257\n",
       "16         MERCEDES BENZ         256\n",
       "17                  AUDI         220\n",
       "18      HINDUSTAN MOTORS         219\n",
       "19                 FORCE         207\n",
       "20   PREMIER AUTOMOBILES          93\n",
       "21              SONALIKA          87\n",
       "22            LAND ROVER          21\n",
       "23                 VOLVO          19\n",
       "24            SAN MOTORS           8\n",
       "25                  JEEP           7\n",
       "26                PORCHE           6\n",
       "27                MORRIS           2"
      ]
     },
     "execution_count": 130,
     "metadata": {},
     "output_type": "execute_result"
    }
   ],
   "source": [
    "make = customer_model_data['Make'].value_counts().reset_index().sort_values(by='Make', ascending=False)\n",
    "make.columns = ['Make', 'make_count']\n",
    "make"
   ]
  },
  {
   "cell_type": "code",
   "execution_count": 131,
   "metadata": {},
   "outputs": [],
   "source": [
    "customer_model_data = customer_model_data.merge(make, on='Make', how='left')"
   ]
  },
  {
   "cell_type": "code",
   "execution_count": 132,
   "metadata": {},
   "outputs": [],
   "source": [
    "customer_model_data.loc[customer_model_data['make_count'] <= 10000, 'Make'] = 'Others'"
   ]
  },
  {
   "cell_type": "code",
   "execution_count": 133,
   "metadata": {},
   "outputs": [
    {
     "data": {
      "text/plain": [
       "Index(['Data Origin', 'Cust Type', 'KMs Reading', 'Make', 'Model',\n",
       "       'Order Type', 'Plant Name1', 'Total Amt Wtd Tax.', 'District', 'State',\n",
       "       'has_policy', 'Segment', 'make_count'],\n",
       "      dtype='object')"
      ]
     },
     "execution_count": 133,
     "metadata": {},
     "output_type": "execute_result"
    }
   ],
   "source": [
    "customer_model_data.columns"
   ]
  },
  {
   "cell_type": "code",
   "execution_count": 135,
   "metadata": {},
   "outputs": [],
   "source": [
    "total_revenue_by_brand = customer_model_data.groupby('Make')['Total Amt Wtd Tax.'].sum().reset_index().sort_values(by='Total Amt Wtd Tax.', ascending=False)"
   ]
  },
  {
   "cell_type": "code",
   "execution_count": 136,
   "metadata": {},
   "outputs": [],
   "source": [
    "plt.rcParams.update({'font.size': 15})"
   ]
  },
  {
   "cell_type": "code",
   "execution_count": 139,
   "metadata": {},
   "outputs": [
    {
     "data": {
      "text/plain": [
       "Text(0.5, 0, 'Total Value')"
      ]
     },
     "execution_count": 139,
     "metadata": {},
     "output_type": "execute_result"
    },
    {
     "data": {
      "image/png": "[encoded data removed]",
      "text/plain": [
       "<Figure size 1080x648 with 1 Axes>"
      ]
     },
     "metadata": {
      "needs_background": "light"
     },
     "output_type": "display_data"
    }
   ],
   "source": [
    "plt.figure(figsize=(15,9))\n",
    "plt.ticklabel_format(style='plain', axis='x')\n",
    "plt.title('Total revenue generated by brands')\n",
    "ax = sns.barplot(x='Total Amt Wtd Tax.', y='Make', data=total_revenue_by_brand)\n",
    "ax.set_xlabel('Total Value')"
   ]
  },
  {
   "cell_type": "code",
   "execution_count": 140,
   "metadata": {},
   "outputs": [
    {
     "data": {
      "text/html": [
       "<div>\n",
       "<style scoped>\n",
       "    .dataframe tbody tr th:only-of-type {\n",
       "        vertical-align: middle;\n",
       "    }\n",
       "\n",
       "    .dataframe tbody tr th {\n",
       "        vertical-align: top;\n",
       "    }\n",
       "\n",
       "    .dataframe thead th {\n",
       "        text-align: right;\n",
       "    }\n",
       "</style>\n",
       "<table border=\"1\" class=\"dataframe\">\n",
       "  <thead>\n",
       "    <tr style=\"text-align: right;\">\n",
       "      <th></th>\n",
       "      <th>Area / Locality</th>\n",
       "      <th>CITY</th>\n",
       "      <th>Cash /Cashless Type</th>\n",
       "      <th>Claim No.</th>\n",
       "      <th>Cust Type</th>\n",
       "      <th>Customer No.</th>\n",
       "      <th>District</th>\n",
       "      <th>Expiry Date</th>\n",
       "      <th>Gate Pass Date</th>\n",
       "      <th>Gate Pass Time</th>\n",
       "      <th>...</th>\n",
       "      <th>Regn No</th>\n",
       "      <th>Service Advisor Name</th>\n",
       "      <th>Technician Name</th>\n",
       "      <th>Total Amt Wtd Tax.</th>\n",
       "      <th>Total Value</th>\n",
       "      <th>User ID</th>\n",
       "      <th>Invoice Day</th>\n",
       "      <th>Invoice Month</th>\n",
       "      <th>Invoice Year</th>\n",
       "      <th>Day of the week</th>\n",
       "    </tr>\n",
       "  </thead>\n",
       "  <tbody>\n",
       "    <tr>\n",
       "      <th>0</th>\n",
       "      <td>MAJIWADA</td>\n",
       "      <td>Thane</td>\n",
       "      <td>NaN</td>\n",
       "      <td>NaN</td>\n",
       "      <td>Retail</td>\n",
       "      <td>67849</td>\n",
       "      <td>Maharashtra</td>\n",
       "      <td>NaN</td>\n",
       "      <td>NaN</td>\n",
       "      <td>00:00:00</td>\n",
       "      <td>...</td>\n",
       "      <td>KA19MA1291</td>\n",
       "      <td>NaN</td>\n",
       "      <td>RUPESH</td>\n",
       "      <td>4051.95</td>\n",
       "      <td>4051.95</td>\n",
       "      <td>BC01FS1</td>\n",
       "      <td>2</td>\n",
       "      <td>1</td>\n",
       "      <td>2015</td>\n",
       "      <td>Friday</td>\n",
       "    </tr>\n",
       "    <tr>\n",
       "      <th>1</th>\n",
       "      <td>THNAE</td>\n",
       "      <td>THNAE</td>\n",
       "      <td>NaN</td>\n",
       "      <td>NaN</td>\n",
       "      <td>Retail</td>\n",
       "      <td>84419</td>\n",
       "      <td>Maharashtra</td>\n",
       "      <td>NaN</td>\n",
       "      <td>NaN</td>\n",
       "      <td>00:00:00</td>\n",
       "      <td>...</td>\n",
       "      <td>MH43R3046</td>\n",
       "      <td>NaN</td>\n",
       "      <td>PRASHANT</td>\n",
       "      <td>1001.29</td>\n",
       "      <td>1001.29</td>\n",
       "      <td>BC01SA2</td>\n",
       "      <td>3</td>\n",
       "      <td>1</td>\n",
       "      <td>2015</td>\n",
       "      <td>Saturday</td>\n",
       "    </tr>\n",
       "    <tr>\n",
       "      <th>2</th>\n",
       "      <td>THANE</td>\n",
       "      <td>THANE[W]</td>\n",
       "      <td>NaN</td>\n",
       "      <td>NaN</td>\n",
       "      <td>Retail</td>\n",
       "      <td>81055</td>\n",
       "      <td>Maharashtra</td>\n",
       "      <td>NaN</td>\n",
       "      <td>NaN</td>\n",
       "      <td>00:00:00</td>\n",
       "      <td>...</td>\n",
       "      <td>AP09AX0582</td>\n",
       "      <td>NaN</td>\n",
       "      <td>IMRAN</td>\n",
       "      <td>233.14</td>\n",
       "      <td>233.14</td>\n",
       "      <td>BC01SA2</td>\n",
       "      <td>3</td>\n",
       "      <td>1</td>\n",
       "      <td>2015</td>\n",
       "      <td>Saturday</td>\n",
       "    </tr>\n",
       "    <tr>\n",
       "      <th>3</th>\n",
       "      <td>THNAE</td>\n",
       "      <td>THNAE</td>\n",
       "      <td>NaN</td>\n",
       "      <td>NaN</td>\n",
       "      <td>Retail</td>\n",
       "      <td>84419</td>\n",
       "      <td>Maharashtra</td>\n",
       "      <td>NaN</td>\n",
       "      <td>NaN</td>\n",
       "      <td>00:00:00</td>\n",
       "      <td>...</td>\n",
       "      <td>MH43R3046</td>\n",
       "      <td>NaN</td>\n",
       "      <td>PRASHANT</td>\n",
       "      <td>0.00</td>\n",
       "      <td>0.00</td>\n",
       "      <td>BC01SA2</td>\n",
       "      <td>3</td>\n",
       "      <td>1</td>\n",
       "      <td>2015</td>\n",
       "      <td>Saturday</td>\n",
       "    </tr>\n",
       "    <tr>\n",
       "      <th>4</th>\n",
       "      <td>THANE</td>\n",
       "      <td>THANE</td>\n",
       "      <td>NaN</td>\n",
       "      <td>NaN</td>\n",
       "      <td>Retail</td>\n",
       "      <td>18980</td>\n",
       "      <td>Maharashtra</td>\n",
       "      <td>NaN</td>\n",
       "      <td>NaN</td>\n",
       "      <td>00:00:00</td>\n",
       "      <td>...</td>\n",
       "      <td>MH04CD9768</td>\n",
       "      <td>NaN</td>\n",
       "      <td>DAYANAND</td>\n",
       "      <td>2747.12</td>\n",
       "      <td>2747.12</td>\n",
       "      <td>BC01SA2</td>\n",
       "      <td>3</td>\n",
       "      <td>1</td>\n",
       "      <td>2015</td>\n",
       "      <td>Saturday</td>\n",
       "    </tr>\n",
       "  </tbody>\n",
       "</table>\n",
       "<p>5 rows × 42 columns</p>\n",
       "</div>"
      ],
      "text/plain": [
       "  Area / Locality      CITY Cash /Cashless Type Claim No. Cust Type  \\\n",
       "0        MAJIWADA     Thane                 NaN       NaN    Retail   \n",
       "1           THNAE     THNAE                 NaN       NaN    Retail   \n",
       "2           THANE  THANE[W]                 NaN       NaN    Retail   \n",
       "3           THNAE     THNAE                 NaN       NaN    Retail   \n",
       "4           THANE     THANE                 NaN       NaN    Retail   \n",
       "\n",
       "  Customer No.     District Expiry Date Gate Pass Date Gate Pass Time  ...  \\\n",
       "0        67849  Maharashtra         NaN            NaN       00:00:00  ...   \n",
       "1        84419  Maharashtra         NaN            NaN       00:00:00  ...   \n",
       "2        81055  Maharashtra         NaN            NaN       00:00:00  ...   \n",
       "3        84419  Maharashtra         NaN            NaN       00:00:00  ...   \n",
       "4        18980  Maharashtra         NaN            NaN       00:00:00  ...   \n",
       "\n",
       "      Regn No Service Advisor Name  Technician Name Total Amt Wtd Tax.  \\\n",
       "0  KA19MA1291                  NaN           RUPESH            4051.95   \n",
       "1   MH43R3046                  NaN         PRASHANT            1001.29   \n",
       "2  AP09AX0582                  NaN            IMRAN             233.14   \n",
       "3   MH43R3046                  NaN         PRASHANT               0.00   \n",
       "4  MH04CD9768                  NaN         DAYANAND            2747.12   \n",
       "\n",
       "   Total Value  User ID Invoice Day  Invoice Month  Invoice Year  \\\n",
       "0      4051.95  BC01FS1           2              1          2015   \n",
       "1      1001.29  BC01SA2           3              1          2015   \n",
       "2       233.14  BC01SA2           3              1          2015   \n",
       "3         0.00  BC01SA2           3              1          2015   \n",
       "4      2747.12  BC01SA2           3              1          2015   \n",
       "\n",
       "  Day of the week  \n",
       "0          Friday  \n",
       "1        Saturday  \n",
       "2        Saturday  \n",
       "3        Saturday  \n",
       "4        Saturday  \n",
       "\n",
       "[5 rows x 42 columns]"
      ]
     },
     "execution_count": 140,
     "metadata": {},
     "output_type": "execute_result"
    }
   ],
   "source": [
    "invoice_data = pd.read_csv('../data/invoice_data.csv')\n",
    "invoice_data.head()"
   ]
  },
  {
   "cell_type": "code",
   "execution_count": 151,
   "metadata": {},
   "outputs": [],
   "source": [
    "make = invoice_data['Make'].value_counts().reset_index().sort_values(by='Make', ascending=False)\n",
    "make.columns = ['Make', 'make_count']\n",
    "\n",
    "\n",
    "invoice_data = invoice_data.merge(make, on='Make', how='left')\n",
    "\n",
    "invoice_data.loc[invoice_data['make_count'] <= 10000, 'Make'] = 'Others'\n",
    "\n",
    "total_labour_by_brand = invoice_data.groupby('Make')['Labour Total'].sum().reset_index().sort_values(by='Labour Total', ascending=False)"
   ]
  },
  {
   "cell_type": "code",
   "execution_count": 153,
   "metadata": {},
   "outputs": [
    {
     "data": {
      "text/plain": [
       "Text(0.5, 0, 'Labour cost')"
      ]
     },
     "execution_count": 153,
     "metadata": {},
     "output_type": "execute_result"
    },
    {
     "data": {
      "image/png": "[encoded data removed]",
      "text/plain": [
       "<Figure size 1080x648 with 1 Axes>"
      ]
     },
     "metadata": {
      "needs_background": "light"
     },
     "output_type": "display_data"
    }
   ],
   "source": [
    "plt.figure(figsize=(15,9))\n",
    "plt.ticklabel_format(style='plain', axis='x')\n",
    "plt.title('Total labour cost by brands')\n",
    "ax = sns.barplot(x='Labour Total', y='Make', data=total_labour_by_brand)\n",
    "ax.set_xlabel('Labour cost')"
   ]
  },
  {
   "cell_type": "code",
   "execution_count": 156,
   "metadata": {},
   "outputs": [
    {
     "data": {
      "text/plain": [
       "Text(0.5, 0, 'percent')"
      ]
     },
     "execution_count": 156,
     "metadata": {},
     "output_type": "execute_result"
    },
    {
     "data": {
      "image/png": "[encoded data removed]",
      "text/plain": [
       "<Figure size 1080x648 with 1 Axes>"
      ]
     },
     "metadata": {
      "needs_background": "light"
     },
     "output_type": "display_data"
    }
   ],
   "source": [
    "osl_by_brand = invoice_data[['OSL Total','Order Type']]\n",
    "osl_by_brand_nonzero_count = osl_by_brand.groupby('Order Type').agg(lambda x: x.ne(0.0).sum()).reset_index()\n",
    "\n",
    "osl_count = osl_by_brand.groupby('Order Type').agg(['mean', 'count'])\n",
    "osl_by_brand_nonzero_count['count'] = osl_count['OSL Total']['count'].reset_index()['count']\n",
    "osl_by_brand_nonzero_count['percent'] = (osl_by_brand_nonzero_count['OSL Total']/osl_by_brand_nonzero_count['count'])*100\n",
    "\n",
    "osl_by_brand_nonzero_count.sort_values(by='percent', ascending=False, inplace=True)\n",
    "\n",
    "plt.figure(figsize=(15,9))\n",
    "plt.ticklabel_format(style='plain', axis='x')\n",
    "plt.title('% of services that include outsourced labour')\n",
    "ax = sns.barplot(x='percent', y='Order Type', data=osl_by_brand_nonzero_count)\n",
    "ax.set_xlabel('percent')"
   ]
  },
  {
   "cell_type": "code",
   "execution_count": 162,
   "metadata": {},
   "outputs": [
    {
     "data": {
      "text/plain": [
       "23591"
      ]
     },
     "execution_count": 162,
     "metadata": {},
     "output_type": "execute_result"
    }
   ],
   "source": [
    "invoice_data['Insurance Company'].notnull().sum()"
   ]
  },
  {
   "cell_type": "code",
   "execution_count": 159,
   "metadata": {},
   "outputs": [
    {
     "data": {
      "text/plain": [
       "(492314, 51)"
      ]
     },
     "execution_count": 159,
     "metadata": {},
     "output_type": "execute_result"
    }
   ],
   "source": [
    "invoice_data.shape"
   ]
  },
  {
   "cell_type": "code",
   "execution_count": null,
   "metadata": {},
   "outputs": [],
   "source": []
  }
 ],
 "metadata": {
  "kernelspec": {
   "display_name": "Python 3",
   "language": "python",
   "name": "python3"
  },
  "language_info": {
   "codemirror_mode": {
    "name": "ipython",
    "version": 3
   },
   "file_extension": ".py",
   "mimetype": "text/x-python",
   "name": "python",
   "nbconvert_exporter": "python",
   "pygments_lexer": "ipython3",
   "version": "3.7.3"
  }
 },
 "nbformat": 4,
 "nbformat_minor": 2
}
