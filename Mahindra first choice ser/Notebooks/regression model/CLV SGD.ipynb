{
 "cells": [
  {
   "cell_type": "code",
   "execution_count": 1,
   "metadata": {},
   "outputs": [],
   "source": [
    "import pandas as pd\n",
    "import numpy as np\n",
    "import warnings\n",
    "warnings.filterwarnings('ignore')\n",
    "import matplotlib.pyplot as plt\n",
    "import seaborn as sns\n",
    "from sklearn import preprocessing\n",
    "import pickle\n",
    "from sklearn.linear_model import LogisticRegression\n",
    "from sklearn.linear_model import SGDClassifier\n",
    "import scipy\n",
    "from sklearn.metrics import classification_report, f1_score\n",
    "from sklearn.model_selection import train_test_split"
   ]
  },
  {
   "cell_type": "code",
   "execution_count": 2,
   "metadata": {},
   "outputs": [
    {
     "data": {
      "text/html": [
       "<div>\n",
       "<style scoped>\n",
       "    .dataframe tbody tr th:only-of-type {\n",
       "        vertical-align: middle;\n",
       "    }\n",
       "\n",
       "    .dataframe tbody tr th {\n",
       "        vertical-align: top;\n",
       "    }\n",
       "\n",
       "    .dataframe thead th {\n",
       "        text-align: right;\n",
       "    }\n",
       "</style>\n",
       "<table border=\"1\" class=\"dataframe\">\n",
       "  <thead>\n",
       "    <tr style=\"text-align: right;\">\n",
       "      <th></th>\n",
       "      <th>Business Partner</th>\n",
       "      <th>Customer No.</th>\n",
       "      <th>Partner Type</th>\n",
       "      <th>Data Origin</th>\n",
       "      <th>Title</th>\n",
       "      <th>Marital Status</th>\n",
       "      <th>Occupation</th>\n",
       "      <th>Date of Birth</th>\n",
       "      <th>Death date</th>\n",
       "      <th>Cash /Cashless Type</th>\n",
       "      <th>...</th>\n",
       "      <th>State</th>\n",
       "      <th>CustomerID</th>\n",
       "      <th>Recency</th>\n",
       "      <th>RecencyCluster</th>\n",
       "      <th>Frequency</th>\n",
       "      <th>FrequencyCluster</th>\n",
       "      <th>Revenue</th>\n",
       "      <th>RevenueCluster</th>\n",
       "      <th>OverallScore</th>\n",
       "      <th>Segment</th>\n",
       "    </tr>\n",
       "  </thead>\n",
       "  <tbody>\n",
       "    <tr>\n",
       "      <th>0</th>\n",
       "      <td>CS000018</td>\n",
       "      <td>CS000018</td>\n",
       "      <td>Unknown</td>\n",
       "      <td>NaN</td>\n",
       "      <td>Unknown</td>\n",
       "      <td>Unknown</td>\n",
       "      <td>Unknown</td>\n",
       "      <td>NaN</td>\n",
       "      <td>NaN</td>\n",
       "      <td>NaN</td>\n",
       "      <td>...</td>\n",
       "      <td>tamil nadu</td>\n",
       "      <td>CS000018</td>\n",
       "      <td>186</td>\n",
       "      <td>2</td>\n",
       "      <td>1</td>\n",
       "      <td>0</td>\n",
       "      <td>49.75</td>\n",
       "      <td>0</td>\n",
       "      <td>2</td>\n",
       "      <td>1</td>\n",
       "    </tr>\n",
       "    <tr>\n",
       "      <th>1</th>\n",
       "      <td>E10007</td>\n",
       "      <td>E10007</td>\n",
       "      <td>Retail</td>\n",
       "      <td>Camp-Outdoor</td>\n",
       "      <td>Unknown</td>\n",
       "      <td>Unknown</td>\n",
       "      <td>Unknown</td>\n",
       "      <td>NaN</td>\n",
       "      <td>NaN</td>\n",
       "      <td>NaN</td>\n",
       "      <td>...</td>\n",
       "      <td>telangana</td>\n",
       "      <td>E10007</td>\n",
       "      <td>1215</td>\n",
       "      <td>0</td>\n",
       "      <td>1</td>\n",
       "      <td>0</td>\n",
       "      <td>1083.77</td>\n",
       "      <td>0</td>\n",
       "      <td>0</td>\n",
       "      <td>0</td>\n",
       "    </tr>\n",
       "    <tr>\n",
       "      <th>2</th>\n",
       "      <td>E10013</td>\n",
       "      <td>E10013</td>\n",
       "      <td>Retail</td>\n",
       "      <td>Camp-Outdoor</td>\n",
       "      <td>Unknown</td>\n",
       "      <td>Unknown</td>\n",
       "      <td>Unknown</td>\n",
       "      <td>NaN</td>\n",
       "      <td>NaN</td>\n",
       "      <td>NaN</td>\n",
       "      <td>...</td>\n",
       "      <td>telangana</td>\n",
       "      <td>E10013</td>\n",
       "      <td>1052</td>\n",
       "      <td>0</td>\n",
       "      <td>2</td>\n",
       "      <td>0</td>\n",
       "      <td>1001.29</td>\n",
       "      <td>0</td>\n",
       "      <td>0</td>\n",
       "      <td>0</td>\n",
       "    </tr>\n",
       "    <tr>\n",
       "      <th>3</th>\n",
       "      <td>E10013</td>\n",
       "      <td>E10013</td>\n",
       "      <td>Retail</td>\n",
       "      <td>Camp-Outdoor</td>\n",
       "      <td>Unknown</td>\n",
       "      <td>Unknown</td>\n",
       "      <td>Unknown</td>\n",
       "      <td>NaN</td>\n",
       "      <td>NaN</td>\n",
       "      <td>NaN</td>\n",
       "      <td>...</td>\n",
       "      <td>telangana</td>\n",
       "      <td>E10013</td>\n",
       "      <td>1052</td>\n",
       "      <td>0</td>\n",
       "      <td>2</td>\n",
       "      <td>0</td>\n",
       "      <td>1001.29</td>\n",
       "      <td>0</td>\n",
       "      <td>0</td>\n",
       "      <td>0</td>\n",
       "    </tr>\n",
       "    <tr>\n",
       "      <th>4</th>\n",
       "      <td>E10014</td>\n",
       "      <td>E10014</td>\n",
       "      <td>Retail</td>\n",
       "      <td>Camp-Outdoor</td>\n",
       "      <td>Mr.</td>\n",
       "      <td>Unknown</td>\n",
       "      <td>Unknown</td>\n",
       "      <td>NaN</td>\n",
       "      <td>NaN</td>\n",
       "      <td>NaN</td>\n",
       "      <td>...</td>\n",
       "      <td>telangana</td>\n",
       "      <td>E10014</td>\n",
       "      <td>1290</td>\n",
       "      <td>0</td>\n",
       "      <td>1</td>\n",
       "      <td>0</td>\n",
       "      <td>785.21</td>\n",
       "      <td>0</td>\n",
       "      <td>0</td>\n",
       "      <td>0</td>\n",
       "    </tr>\n",
       "  </tbody>\n",
       "</table>\n",
       "<p>5 rows × 59 columns</p>\n",
       "</div>"
      ],
      "text/plain": [
       "  Business Partner Customer No. Partner Type   Data Origin    Title  \\\n",
       "0         CS000018     CS000018      Unknown           NaN  Unknown   \n",
       "1           E10007       E10007       Retail  Camp-Outdoor  Unknown   \n",
       "2           E10013       E10013       Retail  Camp-Outdoor  Unknown   \n",
       "3           E10013       E10013       Retail  Camp-Outdoor  Unknown   \n",
       "4           E10014       E10014       Retail  Camp-Outdoor      Mr.   \n",
       "\n",
       "  Marital Status Occupation  Date of Birth  Death date Cash /Cashless Type  \\\n",
       "0        Unknown    Unknown            NaN         NaN                 NaN   \n",
       "1        Unknown    Unknown            NaN         NaN                 NaN   \n",
       "2        Unknown    Unknown            NaN         NaN                 NaN   \n",
       "3        Unknown    Unknown            NaN         NaN                 NaN   \n",
       "4        Unknown    Unknown            NaN         NaN                 NaN   \n",
       "\n",
       "   ...       State CustomerID Recency RecencyCluster Frequency  \\\n",
       "0  ...  tamil nadu   CS000018     186              2         1   \n",
       "1  ...   telangana     E10007    1215              0         1   \n",
       "2  ...   telangana     E10013    1052              0         2   \n",
       "3  ...   telangana     E10013    1052              0         2   \n",
       "4  ...   telangana     E10014    1290              0         1   \n",
       "\n",
       "  FrequencyCluster  Revenue  RevenueCluster OverallScore  Segment  \n",
       "0                0    49.75               0            2        1  \n",
       "1                0  1083.77               0            0        0  \n",
       "2                0  1001.29               0            0        0  \n",
       "3                0  1001.29               0            0        0  \n",
       "4                0   785.21               0            0        0  \n",
       "\n",
       "[5 rows x 59 columns]"
      ]
     },
     "execution_count": 2,
     "metadata": {},
     "output_type": "execute_result"
    }
   ],
   "source": [
    "customer_segment = pd.read_csv('../data/customer_segments.csv')\n",
    "customer_segment.head()"
   ]
  },
  {
   "cell_type": "code",
   "execution_count": 5,
   "metadata": {},
   "outputs": [
    {
     "data": {
      "text/plain": [
       "(492314, 59)"
      ]
     },
     "execution_count": 5,
     "metadata": {},
     "output_type": "execute_result"
    }
   ],
   "source": [
    "customer_segment.shape"
   ]
  },
  {
   "cell_type": "code",
   "execution_count": 6,
   "metadata": {},
   "outputs": [
    {
     "data": {
      "text/plain": [
       "Index(['Business Partner', 'Customer No.', 'Partner Type', 'Data Origin',\n",
       "       'Title', 'Marital Status', 'Occupation', 'Date of Birth', 'Death date',\n",
       "       'Cash /Cashless Type', 'Claim No.', 'Cust Type', 'Expiry Date',\n",
       "       'Gate Pass Date', 'Gate Pass Time', 'Insurance Company', 'Invoice Date',\n",
       "       'Invoice No', 'Invoice Time', 'Job Card No', 'JobCard Date',\n",
       "       'JobCard Time', 'KMs Reading', 'Labour Total', 'Make', 'Misc Total',\n",
       "       'Model', 'ODN No.', 'OSL Total', 'Order Type', 'Parts Total',\n",
       "       'Pin code', 'Plant', 'Plant Name1', 'Policy no.', 'Print Status',\n",
       "       'Recovrbl Exp', 'Regn No', 'Service Advisor Name', 'Technician Name',\n",
       "       'Total Amt Wtd Tax.', 'Total Value', 'User ID', 'Invoice Day',\n",
       "       'Invoice Month', 'Invoice Year', 'Day of the week', 'Division Name',\n",
       "       'District', 'State', 'CustomerID', 'Recency', 'RecencyCluster',\n",
       "       'Frequency', 'FrequencyCluster', 'Revenue', 'RevenueCluster',\n",
       "       'OverallScore', 'Segment'],\n",
       "      dtype='object')"
      ]
     },
     "execution_count": 6,
     "metadata": {},
     "output_type": "execute_result"
    }
   ],
   "source": [
    "customer_segment.columns"
   ]
  },
  {
   "cell_type": "code",
   "execution_count": 34,
   "metadata": {},
   "outputs": [
    {
     "data": {
      "text/plain": [
       "16"
      ]
     },
     "execution_count": 34,
     "metadata": {},
     "output_type": "execute_result"
    }
   ],
   "source": [
    "customer_segment['Regn No'].isnull().sum()"
   ]
  },
  {
   "cell_type": "code",
   "execution_count": 35,
   "metadata": {},
   "outputs": [
    {
     "data": {
      "text/plain": [
       "0"
      ]
     },
     "execution_count": 35,
     "metadata": {},
     "output_type": "execute_result"
    }
   ],
   "source": [
    "customer_segment = customer_segment[customer_segment['Regn No'].notna()]\n",
    "customer_segment['Regn No'].isnull().sum()"
   ]
  },
  {
   "cell_type": "code",
   "execution_count": 50,
   "metadata": {},
   "outputs": [
    {
     "data": {
      "text/plain": [
       "(492298, 59)"
      ]
     },
     "execution_count": 50,
     "metadata": {},
     "output_type": "execute_result"
    }
   ],
   "source": [
    "customer_segment.shape"
   ]
  },
  {
   "cell_type": "code",
   "execution_count": 51,
   "metadata": {},
   "outputs": [
    {
     "data": {
      "text/plain": [
       "(492298, 60)"
      ]
     },
     "execution_count": 51,
     "metadata": {},
     "output_type": "execute_result"
    }
   ],
   "source": [
    "customer_regn = customer_segment.groupby('Customer No.')['Regn No'].nunique().reset_index()\n",
    "\n",
    "customer_regn.columns = ['Customer No.', 'Cars owned']\n",
    "\n",
    "customer_segment = customer_segment.merge(customer_regn, on='Customer No.')\n",
    "\n",
    "customer_segment.shape"
   ]
  },
  {
   "cell_type": "code",
   "execution_count": 54,
   "metadata": {},
   "outputs": [
    {
     "data": {
      "text/plain": [
       "Index(['Business Partner', 'Customer No.', 'Partner Type', 'Data Origin',\n",
       "       'Title', 'Marital Status', 'Occupation', 'Date of Birth', 'Death date',\n",
       "       'Cash /Cashless Type', 'Claim No.', 'Cust Type', 'Expiry Date',\n",
       "       'Gate Pass Date', 'Gate Pass Time', 'Insurance Company', 'Invoice Date',\n",
       "       'Invoice No', 'Invoice Time', 'Job Card No', 'JobCard Date',\n",
       "       'JobCard Time', 'KMs Reading', 'Labour Total', 'Make', 'Misc Total',\n",
       "       'Model', 'ODN No.', 'OSL Total', 'Order Type', 'Parts Total',\n",
       "       'Pin code', 'Plant', 'Plant Name1', 'Policy no.', 'Print Status',\n",
       "       'Recovrbl Exp', 'Regn No', 'Service Advisor Name', 'Technician Name',\n",
       "       'Total Amt Wtd Tax.', 'Total Value', 'User ID', 'Invoice Day',\n",
       "       'Invoice Month', 'Invoice Year', 'Day of the week', 'Division Name',\n",
       "       'District', 'State', 'CustomerID', 'Recency', 'RecencyCluster',\n",
       "       'Frequency', 'FrequencyCluster', 'Revenue', 'RevenueCluster',\n",
       "       'OverallScore', 'Segment', 'Cars owned'],\n",
       "      dtype='object')"
      ]
     },
     "execution_count": 54,
     "metadata": {},
     "output_type": "execute_result"
    }
   ],
   "source": [
    "customer_segment.columns"
   ]
  },
  {
   "cell_type": "code",
   "execution_count": 3,
   "metadata": {},
   "outputs": [
    {
     "data": {
      "text/plain": [
       "0    468723\n",
       "1     23591\n",
       "Name: has_policy, dtype: int64"
      ]
     },
     "execution_count": 3,
     "metadata": {},
     "output_type": "execute_result"
    }
   ],
   "source": [
    "customer_segment['has_policy'] = customer_segment['Insurance Company'].notnull().astype(int)\n",
    "\n",
    "customer_segment['has_policy'].value_counts()"
   ]
  },
  {
   "cell_type": "code",
   "execution_count": 4,
   "metadata": {},
   "outputs": [],
   "source": [
    "relevant_features = ['Data Origin', 'Cust Type', 'KMs Reading', 'Make',\n",
    "       'Model','Order Type', 'Plant Name1', 'Total Amt Wtd Tax.', \n",
    "                     'District', 'State', 'has_policy', 'Segment']"
   ]
  },
  {
   "cell_type": "code",
   "execution_count": 5,
   "metadata": {},
   "outputs": [
    {
     "data": {
      "text/plain": [
       "0    5634\n",
       "1      41\n",
       "Name: has_policy, dtype: int64"
      ]
     },
     "execution_count": 5,
     "metadata": {},
     "output_type": "execute_result"
    }
   ],
   "source": [
    "customer_segment[customer_segment['Segment']==2]['has_policy'].value_counts()"
   ]
  },
  {
   "cell_type": "markdown",
   "metadata": {},
   "source": [
    "#### Not grouping by customer ID because for every new customer, we are trying to predict the segment of that customer to be low, mid or high. As the customer is coming for the first time, the frequency and the amount they will generate will be low. Hence, for new customers, the model will always predict them to be of the lower segment. \n",
    "\n",
    "#### We are keeping the different services by the same customers as they are in the data set and not grouping them, so that the model considers them to be different customers entirely."
   ]
  },
  {
   "cell_type": "code",
   "execution_count": 45,
   "metadata": {},
   "outputs": [
    {
     "data": {
      "text/html": [
       "<div>\n",
       "<style scoped>\n",
       "    .dataframe tbody tr th:only-of-type {\n",
       "        vertical-align: middle;\n",
       "    }\n",
       "\n",
       "    .dataframe tbody tr th {\n",
       "        vertical-align: top;\n",
       "    }\n",
       "\n",
       "    .dataframe thead th {\n",
       "        text-align: right;\n",
       "    }\n",
       "</style>\n",
       "<table border=\"1\" class=\"dataframe\">\n",
       "  <thead>\n",
       "    <tr style=\"text-align: right;\">\n",
       "      <th></th>\n",
       "      <th>Data Origin</th>\n",
       "      <th>Cust Type</th>\n",
       "      <th>KMs Reading</th>\n",
       "      <th>Make</th>\n",
       "      <th>Model</th>\n",
       "      <th>Order Type</th>\n",
       "      <th>Plant Name1</th>\n",
       "      <th>Total Amt Wtd Tax.</th>\n",
       "      <th>District</th>\n",
       "      <th>State</th>\n",
       "      <th>has_policy</th>\n",
       "      <th>Segment</th>\n",
       "    </tr>\n",
       "  </thead>\n",
       "  <tbody>\n",
       "    <tr>\n",
       "      <th>0</th>\n",
       "      <td>NaN</td>\n",
       "      <td>Retail</td>\n",
       "      <td>3000</td>\n",
       "      <td>HONDA</td>\n",
       "      <td>MOBILIO</td>\n",
       "      <td>Mechanical</td>\n",
       "      <td>NERKUNDRAM</td>\n",
       "      <td>49.75</td>\n",
       "      <td>kanchipuram</td>\n",
       "      <td>tamil nadu</td>\n",
       "      <td>1</td>\n",
       "      <td>1</td>\n",
       "    </tr>\n",
       "    <tr>\n",
       "      <th>1</th>\n",
       "      <td>Camp-Outdoor</td>\n",
       "      <td>Retail</td>\n",
       "      <td>172979</td>\n",
       "      <td>MAHINDRA &amp;  MAHINDRA</td>\n",
       "      <td>BOLERO PIK UP</td>\n",
       "      <td>Running Repairs</td>\n",
       "      <td>BALANAGAR</td>\n",
       "      <td>1083.77</td>\n",
       "      <td>hyderabad</td>\n",
       "      <td>telangana</td>\n",
       "      <td>0</td>\n",
       "      <td>0</td>\n",
       "    </tr>\n",
       "    <tr>\n",
       "      <th>2</th>\n",
       "      <td>Camp-Outdoor</td>\n",
       "      <td>Retail</td>\n",
       "      <td>42413</td>\n",
       "      <td>MARUTI SUZUKI</td>\n",
       "      <td>WAGONR</td>\n",
       "      <td>SMC Value Package</td>\n",
       "      <td>BALANAGAR</td>\n",
       "      <td>1001.29</td>\n",
       "      <td>hyderabad</td>\n",
       "      <td>telangana</td>\n",
       "      <td>0</td>\n",
       "      <td>0</td>\n",
       "    </tr>\n",
       "    <tr>\n",
       "      <th>3</th>\n",
       "      <td>Camp-Outdoor</td>\n",
       "      <td>Retail</td>\n",
       "      <td>42413</td>\n",
       "      <td>MARUTI SUZUKI</td>\n",
       "      <td>WAGONR</td>\n",
       "      <td>SMC Redemption</td>\n",
       "      <td>BALANAGAR</td>\n",
       "      <td>0.00</td>\n",
       "      <td>hyderabad</td>\n",
       "      <td>telangana</td>\n",
       "      <td>0</td>\n",
       "      <td>0</td>\n",
       "    </tr>\n",
       "    <tr>\n",
       "      <th>4</th>\n",
       "      <td>Camp-Outdoor</td>\n",
       "      <td>Retail</td>\n",
       "      <td>79041</td>\n",
       "      <td>MARUTI SUZUKI</td>\n",
       "      <td>WAGONR</td>\n",
       "      <td>Paid Service</td>\n",
       "      <td>MADEENAGUDA</td>\n",
       "      <td>785.21</td>\n",
       "      <td>hyderabad</td>\n",
       "      <td>telangana</td>\n",
       "      <td>0</td>\n",
       "      <td>0</td>\n",
       "    </tr>\n",
       "  </tbody>\n",
       "</table>\n",
       "</div>"
      ],
      "text/plain": [
       "    Data Origin Cust Type  KMs Reading                  Make          Model  \\\n",
       "0           NaN    Retail         3000                 HONDA        MOBILIO   \n",
       "1  Camp-Outdoor    Retail       172979  MAHINDRA &  MAHINDRA  BOLERO PIK UP   \n",
       "2  Camp-Outdoor    Retail        42413         MARUTI SUZUKI         WAGONR   \n",
       "3  Camp-Outdoor    Retail        42413         MARUTI SUZUKI         WAGONR   \n",
       "4  Camp-Outdoor    Retail        79041         MARUTI SUZUKI         WAGONR   \n",
       "\n",
       "          Order Type  Plant Name1  Total Amt Wtd Tax.     District  \\\n",
       "0         Mechanical   NERKUNDRAM               49.75  kanchipuram   \n",
       "1    Running Repairs    BALANAGAR             1083.77    hyderabad   \n",
       "2  SMC Value Package    BALANAGAR             1001.29    hyderabad   \n",
       "3     SMC Redemption    BALANAGAR                0.00    hyderabad   \n",
       "4       Paid Service  MADEENAGUDA              785.21    hyderabad   \n",
       "\n",
       "        State  has_policy  Segment  \n",
       "0  tamil nadu           1        1  \n",
       "1   telangana           0        0  \n",
       "2   telangana           0        0  \n",
       "3   telangana           0        0  \n",
       "4   telangana           0        0  "
      ]
     },
     "execution_count": 45,
     "metadata": {},
     "output_type": "execute_result"
    }
   ],
   "source": [
    "customer_model_data = customer_segment[relevant_features]\n",
    "customer_model_data.head()"
   ]
  },
  {
   "cell_type": "code",
   "execution_count": 46,
   "metadata": {},
   "outputs": [
    {
     "data": {
      "text/plain": [
       "0"
      ]
     },
     "execution_count": 46,
     "metadata": {},
     "output_type": "execute_result"
    }
   ],
   "source": [
    "customer_model_data['Segment'].isnull().sum()"
   ]
  },
  {
   "cell_type": "code",
   "execution_count": 47,
   "metadata": {},
   "outputs": [
    {
     "data": {
      "text/plain": [
       "1525"
      ]
     },
     "execution_count": 47,
     "metadata": {},
     "output_type": "execute_result"
    }
   ],
   "source": [
    "customer_model_data['Model'].isnull().sum()"
   ]
  },
  {
   "cell_type": "code",
   "execution_count": 48,
   "metadata": {},
   "outputs": [],
   "source": [
    "#fill null values\n",
    "customer_model_data['Data Origin'].fillna('Data Origin Unknown', inplace=True)\n",
    "customer_model_data['Model'].fillna('Model Unknown', inplace=True)"
   ]
  },
  {
   "cell_type": "code",
   "execution_count": 27,
   "metadata": {},
   "outputs": [
    {
     "data": {
      "text/plain": [
       "Index(['Data Origin', 'Cust Type', 'KMs Reading', 'Make', 'Model',\n",
       "       'Order Type', 'Plant Name1', 'Total Amt Wtd Tax.', 'District', 'State',\n",
       "       'has_policy', 'Segment'],\n",
       "      dtype='object')"
      ]
     },
     "execution_count": 27,
     "metadata": {},
     "output_type": "execute_result"
    }
   ],
   "source": [
    "customer_model_data.columns"
   ]
  },
  {
   "cell_type": "code",
   "execution_count": 2,
   "metadata": {},
   "outputs": [],
   "source": [
    "customer_model_data = pd.read_csv('../data/customer_model_data.csv')"
   ]
  },
  {
   "cell_type": "code",
   "execution_count": null,
   "metadata": {},
   "outputs": [],
   "source": [
    "data_origin_enc = pd.get_dummies(customer_model_data['Data Origin'],prefix = 'data_origin_')\n",
    "\n",
    "cust_type_enc = pd.get_dummies(customer_model_data['Cust Type'],prefix = 'cust_type_')\n",
    "\n",
    "make_enc = pd.get_dummies(customer_model_data['Make'],prefix = 'make_')\n",
    "\n",
    "model_enc =  pd.get_dummies(customer_model_data['Model'],prefix = 'model_')\n",
    "\n",
    "ot_enc =  pd.get_dummies(customer_model_data['Order Type'],prefix = 'ot_')\n",
    "\n",
    "plant_enc =  pd.get_dummies(customer_model_data['Plant Name1'],prefix = 'plant_')\n",
    "\n",
    "state_enc =  pd.get_dummies(customer_model_data['State'],prefix = 'state_')\n",
    "\n",
    "district_enc =  pd.get_dummies(customer_model_data['District'],prefix = 'district_').astype(np.int8)\n",
    "\n",
    "data_encoded = pd.concat([data_origin_enc, cust_type_enc, make_enc, model_enc, ot_enc, plant_enc, state_enc, district_enc],\n",
    "                         axis=1)\n",
    "\n",
    "data_encoded = pd.concat([data_encoded, customer_model_data['KMs Reading'], customer_model_data['Total Amt Wtd Tax.'],\n",
    "                         customer_model_data['has_policy'], customer_model_data['Segment']], axis=1)"
   ]
  },
  {
   "cell_type": "code",
   "execution_count": null,
   "metadata": {},
   "outputs": [],
   "source": [
    "data_encoded.shape"
   ]
  },
  {
   "cell_type": "code",
   "execution_count": 23,
   "metadata": {},
   "outputs": [],
   "source": [
    "input_data = ['Camp-Outdoor', 'Retail', 3000, 'HONDA', 'MOBILIO', 'Mechanical', 'BALANAGAR', 500, 'hyderabad', 'telangana', \n",
    "              '0']\n",
    "input_df = pd.DataFrame({\n",
    "    'Data Origin': input_data[0],\n",
    "    'Cust Type': input_data[1],\n",
    "    'KMs Reading': input_data[2], \n",
    "    'Make': input_data[3], \n",
    "    'Model': input_data[4],\n",
    "    'Order Type': input_data[5], \n",
    "    'Plant Name1': input_data[6], \n",
    "    'Total Amt Wtd Tax.': input_data[7], \n",
    "    'District': input_data[8], \n",
    "    'State': input_data[9],\n",
    "    'has_policy': input_data[10]\n",
    "}, index=[0])\n",
    "categorical_cols = ['Data Origin', 'Cust Type', 'Make', 'Model', 'Order Type', 'Plant Name1', 'District', 'State']\n",
    "input_data_encoded = pd.get_dummies(input_df[categorical_cols])\n",
    "input_data_encoded[['KMs Reading', 'Total Amt Wtd Tax.', 'has_policy']] = input_df[['KMs Reading', 'Total Amt Wtd Tax.', 'has_policy']]\n",
    "# Get missing columns in the training test\n",
    "missing_cols = set( data_encoded.columns ) - set( input_data_encoded.columns )\n",
    "# Add a missing column in test set with default value equal to 0\n",
    "for c in missing_cols:\n",
    "    input_data_encoded[c] = 0\n",
    "# Ensure the order of column in the test set is in the same order than in train set\n",
    "input_data_encoded = input_data_encoded[data_encoded.columns]"
   ]
  },
  {
   "cell_type": "code",
   "execution_count": 24,
   "metadata": {},
   "outputs": [
    {
     "data": {
      "text/html": [
       "<div>\n",
       "<style scoped>\n",
       "    .dataframe tbody tr th:only-of-type {\n",
       "        vertical-align: middle;\n",
       "    }\n",
       "\n",
       "    .dataframe tbody tr th {\n",
       "        vertical-align: top;\n",
       "    }\n",
       "\n",
       "    .dataframe thead th {\n",
       "        text-align: right;\n",
       "    }\n",
       "</style>\n",
       "<table border=\"1\" class=\"dataframe\">\n",
       "  <thead>\n",
       "    <tr style=\"text-align: right;\">\n",
       "      <th></th>\n",
       "      <th>data_origin__Camp-Outdoor</th>\n",
       "      <th>data_origin__Data Origin Unknown</th>\n",
       "      <th>cust_type__Corporate others</th>\n",
       "      <th>cust_type__Corporate- M&amp;M</th>\n",
       "      <th>cust_type__Fleets</th>\n",
       "      <th>cust_type__Franchise</th>\n",
       "      <th>cust_type__Insurance</th>\n",
       "      <th>cust_type__MFCWL</th>\n",
       "      <th>cust_type__Retail</th>\n",
       "      <th>make__AUDI</th>\n",
       "      <th>...</th>\n",
       "      <th>district__zirakhpur</th>\n",
       "      <th>district__zirakpur</th>\n",
       "      <th>district__zirkapur</th>\n",
       "      <th>district__zirkpur</th>\n",
       "      <th>district__zirkpur mohali</th>\n",
       "      <th>district__zirkpur punjab</th>\n",
       "      <th>KMs Reading</th>\n",
       "      <th>Total Amt Wtd Tax.</th>\n",
       "      <th>has_policy</th>\n",
       "      <th>Segment</th>\n",
       "    </tr>\n",
       "  </thead>\n",
       "  <tbody>\n",
       "    <tr>\n",
       "      <th>0</th>\n",
       "      <td>0</td>\n",
       "      <td>0</td>\n",
       "      <td>0</td>\n",
       "      <td>0</td>\n",
       "      <td>0</td>\n",
       "      <td>0</td>\n",
       "      <td>0</td>\n",
       "      <td>0</td>\n",
       "      <td>0</td>\n",
       "      <td>0</td>\n",
       "      <td>...</td>\n",
       "      <td>0</td>\n",
       "      <td>0</td>\n",
       "      <td>0</td>\n",
       "      <td>0</td>\n",
       "      <td>0</td>\n",
       "      <td>0</td>\n",
       "      <td>3000</td>\n",
       "      <td>500</td>\n",
       "      <td>0</td>\n",
       "      <td>0</td>\n",
       "    </tr>\n",
       "  </tbody>\n",
       "</table>\n",
       "<p>1 rows × 4146 columns</p>\n",
       "</div>"
      ],
      "text/plain": [
       "   data_origin__Camp-Outdoor  data_origin__Data Origin Unknown  \\\n",
       "0                          0                                 0   \n",
       "\n",
       "   cust_type__Corporate others  cust_type__Corporate- M&M  cust_type__Fleets  \\\n",
       "0                            0                          0                  0   \n",
       "\n",
       "   cust_type__Franchise  cust_type__Insurance  cust_type__MFCWL  \\\n",
       "0                     0                     0                 0   \n",
       "\n",
       "   cust_type__Retail  make__AUDI  ...  district__zirakhpur  \\\n",
       "0                  0           0  ...                    0   \n",
       "\n",
       "   district__zirakpur  district__zirkapur  district__zirkpur  \\\n",
       "0                   0                   0                  0   \n",
       "\n",
       "   district__zirkpur mohali  district__zirkpur punjab  KMs Reading  \\\n",
       "0                         0                         0         3000   \n",
       "\n",
       "   Total Amt Wtd Tax.  has_policy  Segment  \n",
       "0                 500           0        0  \n",
       "\n",
       "[1 rows x 4146 columns]"
      ]
     },
     "execution_count": 24,
     "metadata": {},
     "output_type": "execute_result"
    }
   ],
   "source": [
    "input_data_encoded"
   ]
  },
  {
   "cell_type": "code",
   "execution_count": 8,
   "metadata": {},
   "outputs": [
    {
     "data": {
      "text/plain": [
       "Index(['Data Origin', 'Cust Type', 'KMs Reading', 'Make', 'Model',\n",
       "       'Order Type', 'Plant Name1', 'Total Amt Wtd Tax.', 'District', 'State',\n",
       "       'has_policy', 'Segment'],\n",
       "      dtype='object')"
      ]
     },
     "execution_count": 8,
     "metadata": {},
     "output_type": "execute_result"
    }
   ],
   "source": [
    "customer_model_data.columns"
   ]
  },
  {
   "cell_type": "code",
   "execution_count": 11,
   "metadata": {},
   "outputs": [
    {
     "data": {
      "text/html": [
       "<div>\n",
       "<style scoped>\n",
       "    .dataframe tbody tr th:only-of-type {\n",
       "        vertical-align: middle;\n",
       "    }\n",
       "\n",
       "    .dataframe tbody tr th {\n",
       "        vertical-align: top;\n",
       "    }\n",
       "\n",
       "    .dataframe thead th {\n",
       "        text-align: right;\n",
       "    }\n",
       "</style>\n",
       "<table border=\"1\" class=\"dataframe\">\n",
       "  <thead>\n",
       "    <tr style=\"text-align: right;\">\n",
       "      <th></th>\n",
       "      <th>KMs Reading</th>\n",
       "      <th>Total Amt Wtd Tax.</th>\n",
       "    </tr>\n",
       "  </thead>\n",
       "  <tbody>\n",
       "    <tr>\n",
       "      <th>0</th>\n",
       "      <td>0.000300</td>\n",
       "      <td>0.000288</td>\n",
       "    </tr>\n",
       "    <tr>\n",
       "      <th>1</th>\n",
       "      <td>0.017298</td>\n",
       "      <td>0.001883</td>\n",
       "    </tr>\n",
       "    <tr>\n",
       "      <th>2</th>\n",
       "      <td>0.004241</td>\n",
       "      <td>0.001756</td>\n",
       "    </tr>\n",
       "    <tr>\n",
       "      <th>3</th>\n",
       "      <td>0.004241</td>\n",
       "      <td>0.000211</td>\n",
       "    </tr>\n",
       "    <tr>\n",
       "      <th>4</th>\n",
       "      <td>0.007904</td>\n",
       "      <td>0.001422</td>\n",
       "    </tr>\n",
       "  </tbody>\n",
       "</table>\n",
       "</div>"
      ],
      "text/plain": [
       "   KMs Reading  Total Amt Wtd Tax.\n",
       "0     0.000300            0.000288\n",
       "1     0.017298            0.001883\n",
       "2     0.004241            0.001756\n",
       "3     0.004241            0.000211\n",
       "4     0.007904            0.001422"
      ]
     },
     "execution_count": 11,
     "metadata": {},
     "output_type": "execute_result"
    }
   ],
   "source": [
    "#normalize numerical features\n",
    "numerica_df = data_encoded[['KMs Reading', 'Total Amt Wtd Tax.']]\n",
    "\n",
    "min_max_scaler = preprocessing.MinMaxScaler()\n",
    "np_scaled = min_max_scaler.fit_transform(numerica_df)\n",
    "df_normalized = pd.DataFrame(np_scaled, columns = ['KMs Reading', 'Total Amt Wtd Tax.'])\n",
    "data_encoded[['KMs Reading', 'Total Amt Wtd Tax.']] = df_normalized[['KMs Reading', 'Total Amt Wtd Tax.']]\n",
    "data_encoded[['KMs Reading', 'Total Amt Wtd Tax.']].head() "
   ]
  },
  {
   "cell_type": "code",
   "execution_count": 12,
   "metadata": {},
   "outputs": [],
   "source": [
    "X = data_encoded.loc[:, data_encoded.columns != 'Segment']\n",
    "y = data_encoded['Segment']"
   ]
  },
  {
   "cell_type": "code",
   "execution_count": 13,
   "metadata": {},
   "outputs": [
    {
     "data": {
      "text/plain": [
       "(492314, 4145)"
      ]
     },
     "execution_count": 13,
     "metadata": {},
     "output_type": "execute_result"
    }
   ],
   "source": [
    "X.shape"
   ]
  },
  {
   "cell_type": "code",
   "execution_count": 50,
   "metadata": {},
   "outputs": [],
   "source": [
    "data_iterator = pd.read_csv('../data/data_encoded.csv',chunksize=10000)\n",
    "\n",
    "classifier = SGDClassifier(n_jobs=-1,verbose=1)"
   ]
  },
  {
   "cell_type": "code",
   "execution_count": null,
   "metadata": {},
   "outputs": [
    {
     "name": "stdout",
     "output_type": "stream",
     "text": [
      "Iteration: 1\n"
     ]
    },
    {
     "name": "stderr",
     "output_type": "stream",
     "text": [
      "[Parallel(n_jobs=-1)]: Using backend ThreadingBackend with 4 concurrent workers.\n"
     ]
    },
    {
     "name": "stdout",
     "output_type": "stream",
     "text": [
      "-- Epoch 1-- Epoch 1-- Epoch 1\n",
      "\n",
      "\n",
      "Norm: 661682.68, NNZs: 198, Bias: -1217.356008, T: 10000, Avg. loss: 7043186477.904287\n",
      "Total training time: 0.25 seconds.\n",
      "Norm: 83245.96, NNZs: 240, Bias: 1278.481296, T: 10000, Avg. loss: 11785207931.481983Norm: 120972.08, NNZs: 239, Bias: 171.581329, T: 10000, Avg. loss: 13377103691.427748\n",
      "Total training time: 0.27 seconds.\n",
      "\n",
      "Total training time: 0.33 seconds.\n"
     ]
    },
    {
     "name": "stderr",
     "output_type": "stream",
     "text": [
      "[Parallel(n_jobs=-1)]: Done   3 out of   3 | elapsed:    2.2s finished\n"
     ]
    },
    {
     "name": "stdout",
     "output_type": "stream",
     "text": [
      "Iteration: 2\n"
     ]
    },
    {
     "name": "stderr",
     "output_type": "stream",
     "text": [
      "[Parallel(n_jobs=-1)]: Using backend ThreadingBackend with 4 concurrent workers.\n"
     ]
    },
    {
     "name": "stdout",
     "output_type": "stream",
     "text": [
      "-- Epoch 1-- Epoch 1-- Epoch 1\n",
      "\n",
      "\n",
      "Norm: 14126.64, NNZs: 296, Bias: 397.702087, T: 10000, Avg. loss: 2977437579.965934Norm: 14944.32, NNZs: 287, Bias: 1833.411502, T: 10000, Avg. loss: 2744848218.222208Norm: 268249.80, NNZs: 262, Bias: -1876.682957, T: 10000, Avg. loss: 4717383559.694256\n",
      "Total training time: 0.22 seconds.\n",
      "\n",
      "Total training time: 0.19 seconds.\n",
      "\n",
      "Total training time: 0.17 seconds.\n"
     ]
    },
    {
     "name": "stderr",
     "output_type": "stream",
     "text": [
      "[Parallel(n_jobs=-1)]: Done   3 out of   3 | elapsed:    0.1s finished\n"
     ]
    },
    {
     "name": "stdout",
     "output_type": "stream",
     "text": [
      "Iteration: 3\n"
     ]
    },
    {
     "name": "stderr",
     "output_type": "stream",
     "text": [
      "[Parallel(n_jobs=-1)]: Using backend ThreadingBackend with 4 concurrent workers.\n"
     ]
    },
    {
     "name": "stdout",
     "output_type": "stream",
     "text": [
      "-- Epoch 1-- Epoch 1-- Epoch 1\n",
      "\n",
      "\n",
      "Norm: 313425.76, NNZs: 282, Bias: -2020.468188, T: 10000, Avg. loss: 418562890.933197\n",
      "Total training time: 0.13 seconds.\n",
      "Norm: 45241.27, NNZs: 348, Bias: 280.172197, T: 10000, Avg. loss: 984263511.791581\n",
      "Total training time: 0.19 seconds.\n",
      "Norm: 27696.49, NNZs: 333, Bias: 2081.327007, T: 10000, Avg. loss: 859136793.295192\n",
      "Total training time: 0.20 seconds.\n"
     ]
    },
    {
     "name": "stderr",
     "output_type": "stream",
     "text": [
      "[Parallel(n_jobs=-1)]: Done   3 out of   3 | elapsed:    0.1s finished\n"
     ]
    },
    {
     "name": "stdout",
     "output_type": "stream",
     "text": [
      "Iteration: 4\n"
     ]
    },
    {
     "name": "stderr",
     "output_type": "stream",
     "text": [
      "[Parallel(n_jobs=-1)]: Using backend ThreadingBackend with 4 concurrent workers.\n"
     ]
    },
    {
     "name": "stdout",
     "output_type": "stream",
     "text": [
      "-- Epoch 1-- Epoch 1\n",
      "\n",
      "-- Epoch 1\n",
      "Norm: 236978.59, NNZs: 282, Bias: -2020.468188, T: 10000, Avg. loss: 0.000000\n",
      "Total training time: 0.09 seconds.\n",
      "Norm: 20731.99, NNZs: 441, Bias: 2243.120461, T: 10000, Avg. loss: 552280566.814884\n",
      "Total training time: 0.19 seconds.\n",
      "Norm: 10807.53, NNZs: 460, Bias: 101.564625, T: 10000, Avg. loss: 841645366.752695\n",
      "Total training time: 0.20 seconds.\n"
     ]
    },
    {
     "name": "stderr",
     "output_type": "stream",
     "text": [
      "[Parallel(n_jobs=-1)]: Done   3 out of   3 | elapsed:    0.2s finished\n"
     ]
    },
    {
     "name": "stdout",
     "output_type": "stream",
     "text": [
      "Iteration: 5\n"
     ]
    },
    {
     "name": "stderr",
     "output_type": "stream",
     "text": [
      "[Parallel(n_jobs=-1)]: Using backend ThreadingBackend with 4 concurrent workers.\n"
     ]
    },
    {
     "name": "stdout",
     "output_type": "stream",
     "text": [
      "-- Epoch 1\n",
      "-- Epoch 1\n",
      "-- Epoch 1\n",
      "Norm: 190511.29, NNZs: 282, Bias: -2020.468188, T: 10000, Avg. loss: 0.000000\n",
      "Total training time: 0.11 seconds.\n",
      "Norm: 11967.27, NNZs: 561, Bias: 2288.031740, T: 10000, Avg. loss: 734106108.155302\n",
      "Total training time: 0.20 seconds.\n",
      "Norm: 23660.74, NNZs: 571, Bias: 59.215557, T: 10000, Avg. loss: 732040607.355331\n",
      "Total training time: 0.20 seconds.\n"
     ]
    },
    {
     "name": "stderr",
     "output_type": "stream",
     "text": [
      "[Parallel(n_jobs=-1)]: Done   3 out of   3 | elapsed:    0.5s finished\n"
     ]
    },
    {
     "name": "stdout",
     "output_type": "stream",
     "text": [
      "Iteration: 6\n"
     ]
    },
    {
     "name": "stderr",
     "output_type": "stream",
     "text": [
      "[Parallel(n_jobs=-1)]: Using backend ThreadingBackend with 4 concurrent workers.\n"
     ]
    },
    {
     "name": "stdout",
     "output_type": "stream",
     "text": [
      "-- Epoch 1-- Epoch 1\n",
      "-- Epoch 1\n",
      "\n",
      "Norm: 110541.68, NNZs: 327, Bias: -2142.733024, T: 10000, Avg. loss: 483869503.354111\n",
      "Total training time: 0.14 seconds.\n",
      "Norm: 3735.95, NNZs: 611, Bias: 2420.677601, T: 10000, Avg. loss: 668455395.478070\n",
      "Total training time: 0.22 seconds.\n",
      "Norm: 25913.97, NNZs: 619, Bias: 62.486270, T: 10000, Avg. loss: 645559627.779635\n",
      "Total training time: 0.20 seconds.\n"
     ]
    },
    {
     "name": "stderr",
     "output_type": "stream",
     "text": [
      "[Parallel(n_jobs=-1)]: Done   3 out of   3 | elapsed:    0.2s finished\n"
     ]
    },
    {
     "name": "stdout",
     "output_type": "stream",
     "text": [
      "Iteration: 7\n"
     ]
    },
    {
     "name": "stderr",
     "output_type": "stream",
     "text": [
      "[Parallel(n_jobs=-1)]: Using backend ThreadingBackend with 4 concurrent workers.\n"
     ]
    },
    {
     "name": "stdout",
     "output_type": "stream",
     "text": [
      "-- Epoch 1-- Epoch 1\n",
      "\n",
      "-- Epoch 1\n",
      "Norm: 86772.50, NNZs: 330, Bias: -2143.552666, T: 10000, Avg. loss: 879230.364890\n",
      "Total training time: 0.09 seconds.\n",
      "Norm: 64230.77, NNZs: 671, Bias: 45.623089, T: 10000, Avg. loss: 395833156.888510\n",
      "Total training time: 0.17 seconds.\n",
      "Norm: 11075.43, NNZs: 672, Bias: 2459.349503, T: 10000, Avg. loss: 399660985.981680\n",
      "Total training time: 0.20 seconds.\n"
     ]
    },
    {
     "name": "stderr",
     "output_type": "stream",
     "text": [
      "[Parallel(n_jobs=-1)]: Done   3 out of   3 | elapsed:    0.1s finished\n"
     ]
    },
    {
     "name": "stdout",
     "output_type": "stream",
     "text": [
      "Iteration: 8\n"
     ]
    },
    {
     "name": "stderr",
     "output_type": "stream",
     "text": [
      "[Parallel(n_jobs=-1)]: Using backend ThreadingBackend with 4 concurrent workers.\n"
     ]
    },
    {
     "name": "stdout",
     "output_type": "stream",
     "text": [
      "-- Epoch 1\n",
      "-- Epoch 1-- Epoch 1\n",
      "\n",
      "Norm: 76059.71, NNZs: 330, Bias: -2143.552666, T: 10000, Avg. loss: 0.000000\n",
      "Total training time: 0.11 seconds.\n",
      "Norm: 8483.97, NNZs: 747, Bias: -21.201247, T: 10000, Avg. loss: 518490192.066788\n",
      "Total training time: 0.20 seconds.\n",
      "Norm: 11451.90, NNZs: 743, Bias: 2513.891242, T: 10000, Avg. loss: 409620219.645344\n",
      "Total training time: 0.22 seconds.\n"
     ]
    },
    {
     "name": "stderr",
     "output_type": "stream",
     "text": [
      "[Parallel(n_jobs=-1)]: Done   3 out of   3 | elapsed:    0.2s finished\n"
     ]
    },
    {
     "name": "stdout",
     "output_type": "stream",
     "text": [
      "Iteration: 9\n"
     ]
    },
    {
     "name": "stderr",
     "output_type": "stream",
     "text": [
      "[Parallel(n_jobs=-1)]: Using backend ThreadingBackend with 4 concurrent workers.\n"
     ]
    },
    {
     "name": "stdout",
     "output_type": "stream",
     "text": [
      "-- Epoch 1-- Epoch 1-- Epoch 1\n",
      "\n",
      "\n",
      "Norm: 67701.41, NNZs: 330, Bias: -2143.552666, T: 10000, Avg. loss: 0.000000\n",
      "Total training time: 0.13 seconds.\n",
      "Norm: 1692.98, NNZs: 799, Bias: -54.387067, T: 10000, Avg. loss: 313811110.084696\n",
      "Total training time: 0.22 seconds.\n",
      "Norm: 5361.06, NNZs: 787, Bias: 2553.406376, T: 10000, Avg. loss: 347632222.188506\n",
      "Total training time: 0.22 seconds.\n"
     ]
    },
    {
     "name": "stderr",
     "output_type": "stream",
     "text": [
      "[Parallel(n_jobs=-1)]: Done   3 out of   3 | elapsed:    0.2s finished\n"
     ]
    },
    {
     "name": "stdout",
     "output_type": "stream",
     "text": [
      "Iteration: 10\n"
     ]
    },
    {
     "name": "stderr",
     "output_type": "stream",
     "text": [
      "[Parallel(n_jobs=-1)]: Using backend ThreadingBackend with 4 concurrent workers.\n"
     ]
    },
    {
     "name": "stdout",
     "output_type": "stream",
     "text": [
      "-- Epoch 1-- Epoch 1-- Epoch 1\n",
      "\n",
      "\n",
      "Norm: 60998.23, NNZs: 330, Bias: -2143.552666, T: 10000, Avg. loss: 0.000000\n",
      "Total training time: 0.12 seconds.\n",
      "Norm: 10676.60, NNZs: 859, Bias: -101.345729, T: 10000, Avg. loss: 289427261.440541\n",
      "Total training time: 0.20 seconds.\n",
      "Norm: 7094.02, NNZs: 846, Bias: 2582.688483, T: 10000, Avg. loss: 303777531.896570\n",
      "Total training time: 0.27 seconds.\n"
     ]
    },
    {
     "name": "stderr",
     "output_type": "stream",
     "text": [
      "[Parallel(n_jobs=-1)]: Done   3 out of   3 | elapsed:    0.2s finished\n"
     ]
    },
    {
     "name": "stdout",
     "output_type": "stream",
     "text": [
      "Iteration: 11\n"
     ]
    },
    {
     "name": "stderr",
     "output_type": "stream",
     "text": [
      "[Parallel(n_jobs=-1)]: Using backend ThreadingBackend with 4 concurrent workers.\n"
     ]
    },
    {
     "name": "stdout",
     "output_type": "stream",
     "text": [
      "-- Epoch 1-- Epoch 1\n",
      "-- Epoch 1\n",
      "\n",
      "Norm: 55502.85, NNZs: 330, Bias: -2143.552666, T: 10000, Avg. loss: 0.000000\n",
      "Total training time: 0.11 seconds.\n",
      "Norm: 6665.77, NNZs: 917, Bias: 2618.165840, T: 10000, Avg. loss: 324379833.849815Norm: 3415.11, NNZs: 930, Bias: -135.652549, T: 10000, Avg. loss: 348546989.989762\n",
      "Total training time: 0.19 seconds.\n",
      "\n",
      "Total training time: 0.20 seconds.\n"
     ]
    },
    {
     "name": "stderr",
     "output_type": "stream",
     "text": [
      "[Parallel(n_jobs=-1)]: Done   3 out of   3 | elapsed:    0.3s finished\n"
     ]
    },
    {
     "name": "stdout",
     "output_type": "stream",
     "text": [
      "Iteration: 12\n"
     ]
    },
    {
     "name": "stderr",
     "output_type": "stream",
     "text": [
      "[Parallel(n_jobs=-1)]: Using backend ThreadingBackend with 4 concurrent workers.\n"
     ]
    },
    {
     "name": "stdout",
     "output_type": "stream",
     "text": [
      "-- Epoch 1-- Epoch 1\n",
      "-- Epoch 1\n",
      "\n",
      "Norm: 50915.80, NNZs: 330, Bias: -2143.552666, T: 10000, Avg. loss: 0.000000\n",
      "Total training time: 0.09 seconds.\n",
      "Norm: 4471.70, NNZs: 982, Bias: -152.131271, T: 10000, Avg. loss: 186728120.815948\n",
      "Total training time: 0.20 seconds.\n",
      "Norm: 1638.66, NNZs: 972, Bias: 2629.583139, T: 10000, Avg. loss: 182075184.718242\n",
      "Total training time: 0.19 seconds.\n"
     ]
    },
    {
     "name": "stderr",
     "output_type": "stream",
     "text": [
      "[Parallel(n_jobs=-1)]: Done   3 out of   3 | elapsed:    0.1s finished\n"
     ]
    },
    {
     "name": "stdout",
     "output_type": "stream",
     "text": [
      "Iteration: 13\n"
     ]
    },
    {
     "name": "stderr",
     "output_type": "stream",
     "text": [
      "[Parallel(n_jobs=-1)]: Using backend ThreadingBackend with 4 concurrent workers.\n"
     ]
    },
    {
     "name": "stdout",
     "output_type": "stream",
     "text": [
      "-- Epoch 1\n",
      "-- Epoch 1\n",
      "-- Epoch 1\n",
      "Norm: 47029.07, NNZs: 330, Bias: -2143.552666, T: 10000, Avg. loss: 0.000000\n",
      "Total training time: 0.09 seconds.\n",
      "Norm: 10131.44, NNZs: 1043, Bias: 2651.189046, T: 10000, Avg. loss: 287444092.017722\n",
      "Total training time: 0.19 seconds.\n",
      "Norm: 5092.54, NNZs: 1037, Bias: -165.094081, T: 10000, Avg. loss: 262509857.111483\n",
      "Total training time: 0.19 seconds.\n"
     ]
    },
    {
     "name": "stderr",
     "output_type": "stream",
     "text": [
      "[Parallel(n_jobs=-1)]: Done   3 out of   3 | elapsed:    0.1s finished\n"
     ]
    },
    {
     "name": "stdout",
     "output_type": "stream",
     "text": [
      "Iteration: 14\n"
     ]
    },
    {
     "name": "stderr",
     "output_type": "stream",
     "text": [
      "[Parallel(n_jobs=-1)]: Using backend ThreadingBackend with 4 concurrent workers.\n"
     ]
    },
    {
     "name": "stdout",
     "output_type": "stream",
     "text": [
      "-- Epoch 1-- Epoch 1\n",
      "\n",
      "-- Epoch 1\n",
      "Norm: 43693.65, NNZs: 330, Bias: -2143.552666, T: 10000, Avg. loss: 0.000000\n",
      "Total training time: 0.09 seconds.\n",
      "Norm: 9748.39, NNZs: 1092, Bias: -190.887817, T: 10000, Avg. loss: 180435661.943350\n",
      "Total training time: 0.19 seconds.\n",
      "Norm: 7629.63, NNZs: 1088, Bias: 2673.893649, T: 10000, Avg. loss: 141025154.814834\n",
      "Total training time: 0.19 seconds.\n"
     ]
    },
    {
     "name": "stderr",
     "output_type": "stream",
     "text": [
      "[Parallel(n_jobs=-1)]: Done   3 out of   3 | elapsed:    0.1s finished\n"
     ]
    },
    {
     "name": "stdout",
     "output_type": "stream",
     "text": [
      "Iteration: 15\n"
     ]
    },
    {
     "name": "stderr",
     "output_type": "stream",
     "text": [
      "[Parallel(n_jobs=-1)]: Using backend ThreadingBackend with 4 concurrent workers.\n"
     ]
    },
    {
     "name": "stdout",
     "output_type": "stream",
     "text": [
      "-- Epoch 1-- Epoch 1-- Epoch 1\n",
      "\n",
      "\n",
      "Norm: 40800.01, NNZs: 330, Bias: -2143.552666, T: 10000, Avg. loss: 0.000000\n",
      "Total training time: 0.11 seconds.\n",
      "Norm: 5383.59, NNZs: 1139, Bias: 2683.404045, T: 10000, Avg. loss: 163663395.084022\n",
      "Total training time: 0.20 seconds.\n",
      "Norm: 6409.75, NNZs: 1146, Bias: -201.516842, T: 10000, Avg. loss: 145359698.639933\n",
      "Total training time: 0.19 seconds.\n"
     ]
    },
    {
     "name": "stderr",
     "output_type": "stream",
     "text": [
      "[Parallel(n_jobs=-1)]: Done   3 out of   3 | elapsed:    0.1s finished\n"
     ]
    },
    {
     "name": "stdout",
     "output_type": "stream",
     "text": [
      "Iteration: 16\n"
     ]
    },
    {
     "name": "stderr",
     "output_type": "stream",
     "text": [
      "[Parallel(n_jobs=-1)]: Using backend ThreadingBackend with 4 concurrent workers.\n"
     ]
    },
    {
     "name": "stdout",
     "output_type": "stream",
     "text": [
      "-- Epoch 1-- Epoch 1\n",
      "-- Epoch 1\n",
      "\n",
      "Norm: 38265.83, NNZs: 330, Bias: -2143.552666, T: 10000, Avg. loss: 0.000000\n",
      "Total training time: 0.27 seconds.\n",
      "Norm: 13224.36, NNZs: 1219, Bias: -203.279476, T: 10000, Avg. loss: 465240099.183364\n",
      "Total training time: 0.17 seconds.\n",
      "Norm: 8001.73, NNZs: 1220, Bias: 2692.942421, T: 10000, Avg. loss: 235979625.065140\n",
      "Total training time: 0.36 seconds.\n"
     ]
    },
    {
     "name": "stderr",
     "output_type": "stream",
     "text": [
      "[Parallel(n_jobs=-1)]: Done   3 out of   3 | elapsed:    0.3s finished\n"
     ]
    },
    {
     "name": "stdout",
     "output_type": "stream",
     "text": [
      "Iteration: 17\n"
     ]
    },
    {
     "name": "stderr",
     "output_type": "stream",
     "text": [
      "[Parallel(n_jobs=-1)]: Using backend ThreadingBackend with 4 concurrent workers.\n"
     ]
    },
    {
     "name": "stdout",
     "output_type": "stream",
     "text": [
      "-- Epoch 1-- Epoch 1\n",
      "\n",
      "-- Epoch 1\n",
      "Norm: 36028.05, NNZs: 330, Bias: -2143.552666, T: 10000, Avg. loss: 0.000000\n",
      "Total training time: 0.11 seconds.\n",
      "Norm: 4549.94, NNZs: 1282, Bias: -235.671720, T: 10000, Avg. loss: 743511741.964742\n",
      "Total training time: 0.19 seconds.\n",
      "Norm: 7427.12, NNZs: 1286, Bias: 2723.679821, T: 10000, Avg. loss: 479061298.448345\n",
      "Total training time: 0.19 seconds.\n"
     ]
    },
    {
     "name": "stderr",
     "output_type": "stream",
     "text": [
      "[Parallel(n_jobs=-1)]: Done   3 out of   3 | elapsed:    0.1s finished\n"
     ]
    },
    {
     "name": "stdout",
     "output_type": "stream",
     "text": [
      "Iteration: 18\n"
     ]
    },
    {
     "name": "stderr",
     "output_type": "stream",
     "text": [
      "[Parallel(n_jobs=-1)]: Using backend ThreadingBackend with 4 concurrent workers.\n"
     ]
    },
    {
     "name": "stdout",
     "output_type": "stream",
     "text": [
      "-- Epoch 1-- Epoch 1-- Epoch 1\n",
      "\n",
      "\n",
      "Norm: 34037.54, NNZs: 330, Bias: -2143.552666, T: 10000, Avg. loss: 0.000000\n",
      "Total training time: 0.11 seconds.\n",
      "Norm: 16751.38, NNZs: 1351, Bias: -250.217270, T: 10000, Avg. loss: 242396644.835720\n",
      "Norm: 4920.44, NNZs: 1342, Bias: 2740.693072, T: 10000, Avg. loss: 255006393.115251Total training time: 0.19 seconds.\n",
      "Total training time: 0.19 seconds.\n",
      "\n"
     ]
    },
    {
     "name": "stderr",
     "output_type": "stream",
     "text": [
      "[Parallel(n_jobs=-1)]: Done   3 out of   3 | elapsed:    0.1s finished\n"
     ]
    },
    {
     "name": "stdout",
     "output_type": "stream",
     "text": [
      "Iteration: 19\n"
     ]
    },
    {
     "name": "stderr",
     "output_type": "stream",
     "text": [
      "[Parallel(n_jobs=-1)]: Using backend ThreadingBackend with 4 concurrent workers.\n"
     ]
    },
    {
     "name": "stdout",
     "output_type": "stream",
     "text": [
      "-- Epoch 1-- Epoch 1\n",
      "-- Epoch 1\n",
      "\n",
      "Norm: 32255.46, NNZs: 330, Bias: -2143.552666, T: 10000, Avg. loss: 0.000000\n",
      "Total training time: 0.11 seconds.\n",
      "Norm: 7086.09, NNZs: 1404, Bias: -271.939179, T: 10000, Avg. loss: 219081981.946832\n",
      "Total training time: 0.19 seconds.\n",
      "Norm: 10110.79, NNZs: 1390, Bias: 2768.713463, T: 10000, Avg. loss: 238283006.842370\n",
      "Total training time: 0.19 seconds.\n"
     ]
    },
    {
     "name": "stderr",
     "output_type": "stream",
     "text": [
      "[Parallel(n_jobs=-1)]: Done   3 out of   3 | elapsed:    0.1s finished\n"
     ]
    },
    {
     "name": "stdout",
     "output_type": "stream",
     "text": [
      "Iteration: 20\n"
     ]
    },
    {
     "name": "stderr",
     "output_type": "stream",
     "text": [
      "[Parallel(n_jobs=-1)]: Using backend ThreadingBackend with 4 concurrent workers.\n"
     ]
    },
    {
     "name": "stdout",
     "output_type": "stream",
     "text": [
      "-- Epoch 1\n",
      "-- Epoch 1\n",
      "-- Epoch 1\n",
      "Norm: 30650.70, NNZs: 330, Bias: -2143.552666, T: 10000, Avg. loss: 0.000000\n",
      "Total training time: 0.11 seconds.\n",
      "Norm: 8164.38, NNZs: 1446, Bias: -282.942629, T: 10000, Avg. loss: 167678798.096626\n",
      "Total training time: 0.16 seconds.\n",
      "Norm: 2959.91, NNZs: 1437, Bias: 2776.322648, T: 10000, Avg. loss: 302558984.232401\n",
      "Total training time: 0.17 seconds.\n"
     ]
    },
    {
     "name": "stderr",
     "output_type": "stream",
     "text": [
      "[Parallel(n_jobs=-1)]: Done   3 out of   3 | elapsed:    0.1s finished\n"
     ]
    },
    {
     "name": "stdout",
     "output_type": "stream",
     "text": [
      "Iteration: 21\n"
     ]
    },
    {
     "name": "stderr",
     "output_type": "stream",
     "text": [
      "[Parallel(n_jobs=-1)]: Using backend ThreadingBackend with 4 concurrent workers.\n",
      "[Parallel(n_jobs=-1)]: Done   3 out of   3 | elapsed:    0.0s finished\n"
     ]
    },
    {
     "name": "stdout",
     "output_type": "stream",
     "text": [
      "-- Epoch 1-- Epoch 1-- Epoch 1\n",
      "\n",
      "\n",
      "Norm: 29198.06, NNZs: 330, Bias: -2143.552666, T: 10000, Avg. loss: 0.000000\n",
      "Total training time: 0.11 seconds.\n",
      "Norm: 4673.72, NNZs: 1456, Bias: 2779.246675, T: 10000, Avg. loss: 39271315.029194\n",
      "Total training time: 0.13 seconds.\n",
      "Norm: 52984.32, NNZs: 1469, Bias: -284.630098, T: 10000, Avg. loss: 36148867.160558\n",
      "Total training time: 0.13 seconds.\n",
      "Iteration: 22\n"
     ]
    },
    {
     "name": "stderr",
     "output_type": "stream",
     "text": [
      "[Parallel(n_jobs=-1)]: Using backend ThreadingBackend with 4 concurrent workers.\n",
      "[Parallel(n_jobs=-1)]: Done   3 out of   3 | elapsed:    0.0s finished\n"
     ]
    },
    {
     "name": "stdout",
     "output_type": "stream",
     "text": [
      "-- Epoch 1-- Epoch 1-- Epoch 1\n",
      "\n",
      "\n",
      "Norm: 50586.83, NNZs: 1469, Bias: -284.630098, T: 10000, Avg. loss: 0.000000\n",
      "Total training time: 0.11 seconds.Norm: 27876.87, NNZs: 330, Bias: -2143.552666, T: 10000, Avg. loss: 0.000000\n",
      "\n",
      "Total training time: 0.13 seconds.\n",
      "Norm: 4462.24, NNZs: 1456, Bias: 2779.246675, T: 10000, Avg. loss: 0.000000\n",
      "Total training time: 0.11 seconds.\n",
      "Iteration: 23\n"
     ]
    },
    {
     "name": "stderr",
     "output_type": "stream",
     "text": [
      "[Parallel(n_jobs=-1)]: Using backend ThreadingBackend with 4 concurrent workers.\n"
     ]
    },
    {
     "name": "stdout",
     "output_type": "stream",
     "text": [
      "-- Epoch 1-- Epoch 1-- Epoch 1\n",
      "\n",
      "\n",
      "Norm: 26670.07, NNZs: 330, Bias: -2143.552666, T: 10000, Avg. loss: 0.000000\n",
      "Total training time: 0.11 seconds.\n",
      "Norm: 904.58, NNZs: 1510, Bias: -303.509447, T: 10000, Avg. loss: 146186765.761358\n",
      "Total training time: 0.17 seconds.\n",
      "Norm: 2576.63, NNZs: 1498, Bias: 2791.064198, T: 10000, Avg. loss: 120048803.232884\n",
      "Total training time: 0.17 seconds.\n"
     ]
    },
    {
     "name": "stderr",
     "output_type": "stream",
     "text": [
      "[Parallel(n_jobs=-1)]: Done   3 out of   3 | elapsed:    0.1s finished\n"
     ]
    },
    {
     "name": "stdout",
     "output_type": "stream",
     "text": [
      "Iteration: 24\n"
     ]
    },
    {
     "name": "stderr",
     "output_type": "stream",
     "text": [
      "[Parallel(n_jobs=-1)]: Using backend ThreadingBackend with 4 concurrent workers.\n",
      "[Parallel(n_jobs=-1)]: Done   3 out of   3 | elapsed:    0.1s finished\n"
     ]
    },
    {
     "name": "stdout",
     "output_type": "stream",
     "text": [
      "-- Epoch 1-- Epoch 1\n",
      "-- Epoch 1\n",
      "\n",
      "Norm: 25563.43, NNZs: 330, Bias: -2143.552666, T: 10000, Avg. loss: 0.000000\n",
      "Total training time: 0.12 seconds.\n",
      "Norm: 2744.25, NNZs: 1511, Bias: 2793.701978, T: 10000, Avg. loss: 33750799.697487\n",
      "Total training time: 0.14 seconds.\n",
      "Norm: 9423.28, NNZs: 1523, Bias: -306.778208, T: 10000, Avg. loss: 35078823.634943\n",
      "Total training time: 0.14 seconds.\n",
      "Iteration: 25\n"
     ]
    },
    {
     "name": "stderr",
     "output_type": "stream",
     "text": [
      "[Parallel(n_jobs=-1)]: Using backend ThreadingBackend with 4 concurrent workers.\n",
      "[Parallel(n_jobs=-1)]: Done   3 out of   3 | elapsed:    0.0s finished\n"
     ]
    },
    {
     "name": "stdout",
     "output_type": "stream",
     "text": [
      "-- Epoch 1-- Epoch 1\n",
      "\n",
      "-- Epoch 1\n",
      "Norm: 24544.96, NNZs: 330, Bias: -2143.552666, T: 10000, Avg. loss: 0.000000\n",
      "Total training time: 0.11 seconds.\n",
      "Norm: 3773.36, NNZs: 1521, Bias: 2796.051331, T: 10000, Avg. loss: 35113505.474793\n",
      "Total training time: 0.14 seconds.\n",
      "Norm: 5672.49, NNZs: 1531, Bias: -309.288097, T: 10000, Avg. loss: 35536021.278485\n",
      "Total training time: 0.14 seconds.\n",
      "Iteration: 26\n"
     ]
    },
    {
     "name": "stderr",
     "output_type": "stream",
     "text": [
      "[Parallel(n_jobs=-1)]: Using backend ThreadingBackend with 4 concurrent workers.\n",
      "[Parallel(n_jobs=-1)]: Done   3 out of   3 | elapsed:    0.1s finished\n"
     ]
    },
    {
     "name": "stdout",
     "output_type": "stream",
     "text": [
      "-- Epoch 1-- Epoch 1-- Epoch 1\n",
      "\n",
      "\n",
      "Norm: 23604.54, NNZs: 330, Bias: -2143.552666, T: 10000, Avg. loss: 0.000000\n",
      "Total training time: 0.11 seconds.\n",
      "Norm: 4335.96, NNZs: 1537, Bias: 2801.736015, T: 10000, Avg. loss: 29417099.662934\n",
      "Total training time: 0.14 seconds.\n",
      "Norm: 6457.25, NNZs: 1549, Bias: -315.049009, T: 10000, Avg. loss: 30662235.828330\n",
      "Total training time: 0.14 seconds.\n",
      "Iteration: 27\n"
     ]
    },
    {
     "name": "stderr",
     "output_type": "stream",
     "text": [
      "[Parallel(n_jobs=-1)]: Using backend ThreadingBackend with 4 concurrent workers.\n",
      "[Parallel(n_jobs=-1)]: Done   3 out of   3 | elapsed:    0.1s finished\n"
     ]
    },
    {
     "name": "stdout",
     "output_type": "stream",
     "text": [
      "-- Epoch 1-- Epoch 1-- Epoch 1\n",
      "\n",
      "\n",
      "Norm: 22733.52, NNZs: 330, Bias: -2143.552666, T: 10000, Avg. loss: 0.000000\n",
      "Total training time: 0.11 seconds.\n",
      "Norm: 15922.59, NNZs: 1552, Bias: 2805.005150, T: 10000, Avg. loss: 23419812.503054\n",
      "Norm: 3138.92, NNZs: 1566, Bias: -319.688496, T: 10000, Avg. loss: 24984750.568162Total training time: 0.13 seconds.\n",
      "Total training time: 0.14 seconds.\n",
      "\n",
      "Iteration: 28\n"
     ]
    },
    {
     "name": "stderr",
     "output_type": "stream",
     "text": [
      "[Parallel(n_jobs=-1)]: Using backend ThreadingBackend with 4 concurrent workers.\n"
     ]
    },
    {
     "name": "stdout",
     "output_type": "stream",
     "text": [
      "-- Epoch 1-- Epoch 1\n",
      "-- Epoch 1\n",
      "\n",
      "Norm: 21924.49, NNZs: 330, Bias: -2143.552666, T: 10000, Avg. loss: 0.000000\n",
      "Total training time: 0.16 seconds.\n",
      "Norm: 2537.87, NNZs: 1575, Bias: 2814.894357, T: 10000, Avg. loss: 35008580.393891\n",
      "Total training time: 0.19 seconds.\n",
      "Norm: 5056.36, NNZs: 1585, Bias: -328.414106, T: 10000, Avg. loss: 34480919.484609\n",
      "Total training time: 0.19 seconds.\n"
     ]
    },
    {
     "name": "stderr",
     "output_type": "stream",
     "text": [
      "[Parallel(n_jobs=-1)]: Done   3 out of   3 | elapsed:    0.1s finished\n"
     ]
    },
    {
     "name": "stdout",
     "output_type": "stream",
     "text": [
      "Iteration: 29\n"
     ]
    },
    {
     "name": "stderr",
     "output_type": "stream",
     "text": [
      "[Parallel(n_jobs=-1)]: Using backend ThreadingBackend with 4 concurrent workers.\n",
      "[Parallel(n_jobs=-1)]: Done   3 out of   3 | elapsed:    0.1s finished\n"
     ]
    },
    {
     "name": "stdout",
     "output_type": "stream",
     "text": [
      "-- Epoch 1-- Epoch 1\n",
      "-- Epoch 1\n",
      "\n",
      "Norm: 21171.07, NNZs: 330, Bias: -2143.552666, T: 10000, Avg. loss: 0.000000\n",
      "Total training time: 0.11 seconds.\n",
      "Norm: 3284.45, NNZs: 1612, Bias: -340.271216, T: 10000, Avg. loss: 53634976.247688\n",
      "Total training time: 0.14 seconds.\n",
      "Norm: 4534.95, NNZs: 1604, Bias: 2826.664284, T: 10000, Avg. loss: 55292770.101339\n",
      "Total training time: 0.16 seconds.\n",
      "Iteration: 30\n"
     ]
    },
    {
     "name": "stderr",
     "output_type": "stream",
     "text": [
      "[Parallel(n_jobs=-1)]: Using backend ThreadingBackend with 4 concurrent workers.\n",
      "[Parallel(n_jobs=-1)]: Done   3 out of   3 | elapsed:    0.1s finished\n"
     ]
    },
    {
     "name": "stdout",
     "output_type": "stream",
     "text": [
      "-- Epoch 1-- Epoch 1\n",
      "\n",
      "-- Epoch 1\n",
      "Norm: 20467.71, NNZs: 330, Bias: -2143.552666, T: 10000, Avg. loss: 0.000000\n",
      "Total training time: 0.12 seconds.\n",
      "Norm: 1292.87, NNZs: 1634, Bias: -345.599425, T: 10000, Avg. loss: 33038909.235149\n",
      "Total training time: 0.16 seconds.\n",
      "Norm: 2888.12, NNZs: 1624, Bias: 2830.578972, T: 10000, Avg. loss: 41061403.462375\n",
      "Total training time: 0.16 seconds.\n",
      "Iteration: 31\n"
     ]
    },
    {
     "name": "stderr",
     "output_type": "stream",
     "text": [
      "[Parallel(n_jobs=-1)]: Using backend ThreadingBackend with 4 concurrent workers.\n",
      "[Parallel(n_jobs=-1)]: Done   3 out of   3 | elapsed:    0.0s finished\n"
     ]
    },
    {
     "name": "stdout",
     "output_type": "stream",
     "text": [
      "-- Epoch 1-- Epoch 1-- Epoch 1\n",
      "\n",
      "\n",
      "Norm: 19809.58, NNZs: 330, Bias: -2143.552666, T: 10000, Avg. loss: 0.000000\n",
      "Total training time: 0.11 seconds.\n",
      "Norm: 15485.35, NNZs: 1644, Bias: -353.751131, T: 10000, Avg. loss: 126234801.994490Norm: 9335.26, NNZs: 1626, Bias: 2836.388109, T: 10000, Avg. loss: 34378413.703510\n",
      "Total training time: 0.14 seconds.\n",
      "\n",
      "Total training time: 0.14 seconds.\n",
      "Iteration: 32\n"
     ]
    },
    {
     "name": "stderr",
     "output_type": "stream",
     "text": [
      "[Parallel(n_jobs=-1)]: Using backend ThreadingBackend with 4 concurrent workers.\n",
      "[Parallel(n_jobs=-1)]: Done   3 out of   3 | elapsed:    0.1s finished\n"
     ]
    },
    {
     "name": "stdout",
     "output_type": "stream",
     "text": [
      "-- Epoch 1\n",
      "-- Epoch 1\n",
      "-- Epoch 1\n",
      "Norm: 19192.46, NNZs: 330, Bias: -2143.552666, T: 10000, Avg. loss: 0.000000\n",
      "Total training time: 0.11 seconds.\n",
      "Norm: 1956.47, NNZs: 1635, Bias: 2835.882601, T: 10000, Avg. loss: 17259868.667158\n",
      "Total training time: 0.11 seconds.\n",
      "Norm: 1232.49, NNZs: 1650, Bias: -354.368733, T: 10000, Avg. loss: 13320502.096312\n",
      "Total training time: 0.13 seconds.\n"
     ]
    }
   ],
   "source": [
    "i=0\n",
    "for data_set in data_iterator:\n",
    "    i+=1\n",
    "    X = data_set.iloc[:,:-1]\n",
    "    y = data_set['Segment']\n",
    "    print('Iteration: '+str(i))\n",
    "    classifier.partial_fit(X,y,classes=[0,1,2])"
   ]
  },
  {
   "cell_type": "code",
   "execution_count": 26,
   "metadata": {},
   "outputs": [
    {
     "data": {
      "text/plain": [
       "array([1])"
      ]
     },
     "execution_count": 26,
     "metadata": {},
     "output_type": "execute_result"
    }
   ],
   "source": [
    "classifier.predict(input_data_encoded.iloc[:,:-1])"
   ]
  },
  {
   "cell_type": "code",
   "execution_count": 46,
   "metadata": {},
   "outputs": [],
   "source": [
    "def perform_cv(model, X, y):\n",
    "    f1_scores = []\n",
    "    X_t, X_test, y_train, y_test = train_test_split(X, y, test_size=0.33)\n",
    "#     model.fit(X_t, y_train)\n",
    "    model_pred = model.predict(X_t)\n",
    "    print(classification_report(y_train, model_pred))\n",
    "    f1 = f1_score(y_train, model_pred,average=\"weighted\")\n",
    "    print(\"F1 score: \"+str(f1))\n",
    "    f1_scores.append(f1)\n",
    "    return f1_scores"
   ]
  },
  {
   "cell_type": "code",
   "execution_count": 47,
   "metadata": {},
   "outputs": [],
   "source": [
    "data_iterator = pd.read_csv('../data/data_encoded.csv',chunksize=100000)"
   ]
  },
  {
   "cell_type": "code",
   "execution_count": 49,
   "metadata": {},
   "outputs": [
    {
     "ename": "KeyboardInterrupt",
     "evalue": "",
     "output_type": "error",
     "traceback": [
      "\u001b[1;31m---------------------------------------------------------------------------\u001b[0m",
      "\u001b[1;31mKeyboardInterrupt\u001b[0m                         Traceback (most recent call last)",
      "\u001b[1;32m<ipython-input-49-dfa471c8ab6c>\u001b[0m in \u001b[0;36m<module>\u001b[1;34m\u001b[0m\n\u001b[0;32m      1\u001b[0m \u001b[0mi\u001b[0m\u001b[1;33m=\u001b[0m\u001b[1;36m0\u001b[0m\u001b[1;33m\u001b[0m\u001b[1;33m\u001b[0m\u001b[0m\n\u001b[1;32m----> 2\u001b[1;33m \u001b[1;32mfor\u001b[0m \u001b[0mdata_set\u001b[0m \u001b[1;32min\u001b[0m \u001b[0mdata_iterator\u001b[0m\u001b[1;33m:\u001b[0m\u001b[1;33m\u001b[0m\u001b[1;33m\u001b[0m\u001b[0m\n\u001b[0m\u001b[0;32m      3\u001b[0m     \u001b[0mi\u001b[0m\u001b[1;33m+=\u001b[0m\u001b[1;36m1\u001b[0m\u001b[1;33m\u001b[0m\u001b[1;33m\u001b[0m\u001b[0m\n\u001b[0;32m      4\u001b[0m     \u001b[0mX\u001b[0m \u001b[1;33m=\u001b[0m \u001b[0mdata_set\u001b[0m\u001b[1;33m.\u001b[0m\u001b[0miloc\u001b[0m\u001b[1;33m[\u001b[0m\u001b[1;33m:\u001b[0m\u001b[1;33m,\u001b[0m\u001b[1;33m:\u001b[0m\u001b[1;33m-\u001b[0m\u001b[1;36m1\u001b[0m\u001b[1;33m]\u001b[0m\u001b[1;33m\u001b[0m\u001b[1;33m\u001b[0m\u001b[0m\n\u001b[0;32m      5\u001b[0m     \u001b[0my\u001b[0m \u001b[1;33m=\u001b[0m \u001b[0mdata_set\u001b[0m\u001b[1;33m[\u001b[0m\u001b[1;34m'Segment'\u001b[0m\u001b[1;33m]\u001b[0m\u001b[1;33m\u001b[0m\u001b[1;33m\u001b[0m\u001b[0m\n",
      "\u001b[1;32m~\\Anaconda3\\lib\\site-packages\\pandas\\io\\parsers.py\u001b[0m in \u001b[0;36m__next__\u001b[1;34m(self)\u001b[0m\n\u001b[0;32m   1113\u001b[0m     \u001b[1;32mdef\u001b[0m \u001b[0m__next__\u001b[0m\u001b[1;33m(\u001b[0m\u001b[0mself\u001b[0m\u001b[1;33m)\u001b[0m\u001b[1;33m:\u001b[0m\u001b[1;33m\u001b[0m\u001b[1;33m\u001b[0m\u001b[0m\n\u001b[0;32m   1114\u001b[0m         \u001b[1;32mtry\u001b[0m\u001b[1;33m:\u001b[0m\u001b[1;33m\u001b[0m\u001b[1;33m\u001b[0m\u001b[0m\n\u001b[1;32m-> 1115\u001b[1;33m             \u001b[1;32mreturn\u001b[0m \u001b[0mself\u001b[0m\u001b[1;33m.\u001b[0m\u001b[0mget_chunk\u001b[0m\u001b[1;33m(\u001b[0m\u001b[1;33m)\u001b[0m\u001b[1;33m\u001b[0m\u001b[1;33m\u001b[0m\u001b[0m\n\u001b[0m\u001b[0;32m   1116\u001b[0m         \u001b[1;32mexcept\u001b[0m \u001b[0mStopIteration\u001b[0m\u001b[1;33m:\u001b[0m\u001b[1;33m\u001b[0m\u001b[1;33m\u001b[0m\u001b[0m\n\u001b[0;32m   1117\u001b[0m             \u001b[0mself\u001b[0m\u001b[1;33m.\u001b[0m\u001b[0mclose\u001b[0m\u001b[1;33m(\u001b[0m\u001b[1;33m)\u001b[0m\u001b[1;33m\u001b[0m\u001b[1;33m\u001b[0m\u001b[0m\n",
      "\u001b[1;32m~\\Anaconda3\\lib\\site-packages\\pandas\\io\\parsers.py\u001b[0m in \u001b[0;36mget_chunk\u001b[1;34m(self, size)\u001b[0m\n\u001b[0;32m   1171\u001b[0m                 \u001b[1;32mraise\u001b[0m \u001b[0mStopIteration\u001b[0m\u001b[1;33m\u001b[0m\u001b[1;33m\u001b[0m\u001b[0m\n\u001b[0;32m   1172\u001b[0m             \u001b[0msize\u001b[0m \u001b[1;33m=\u001b[0m \u001b[0mmin\u001b[0m\u001b[1;33m(\u001b[0m\u001b[0msize\u001b[0m\u001b[1;33m,\u001b[0m \u001b[0mself\u001b[0m\u001b[1;33m.\u001b[0m\u001b[0mnrows\u001b[0m \u001b[1;33m-\u001b[0m \u001b[0mself\u001b[0m\u001b[1;33m.\u001b[0m\u001b[0m_currow\u001b[0m\u001b[1;33m)\u001b[0m\u001b[1;33m\u001b[0m\u001b[1;33m\u001b[0m\u001b[0m\n\u001b[1;32m-> 1173\u001b[1;33m         \u001b[1;32mreturn\u001b[0m \u001b[0mself\u001b[0m\u001b[1;33m.\u001b[0m\u001b[0mread\u001b[0m\u001b[1;33m(\u001b[0m\u001b[0mnrows\u001b[0m\u001b[1;33m=\u001b[0m\u001b[0msize\u001b[0m\u001b[1;33m)\u001b[0m\u001b[1;33m\u001b[0m\u001b[1;33m\u001b[0m\u001b[0m\n\u001b[0m\u001b[0;32m   1174\u001b[0m \u001b[1;33m\u001b[0m\u001b[0m\n\u001b[0;32m   1175\u001b[0m \u001b[1;33m\u001b[0m\u001b[0m\n",
      "\u001b[1;32m~\\Anaconda3\\lib\\site-packages\\pandas\\io\\parsers.py\u001b[0m in \u001b[0;36mread\u001b[1;34m(self, nrows)\u001b[0m\n\u001b[0;32m   1137\u001b[0m     \u001b[1;32mdef\u001b[0m \u001b[0mread\u001b[0m\u001b[1;33m(\u001b[0m\u001b[0mself\u001b[0m\u001b[1;33m,\u001b[0m \u001b[0mnrows\u001b[0m\u001b[1;33m=\u001b[0m\u001b[1;32mNone\u001b[0m\u001b[1;33m)\u001b[0m\u001b[1;33m:\u001b[0m\u001b[1;33m\u001b[0m\u001b[1;33m\u001b[0m\u001b[0m\n\u001b[0;32m   1138\u001b[0m         \u001b[0mnrows\u001b[0m \u001b[1;33m=\u001b[0m \u001b[0m_validate_integer\u001b[0m\u001b[1;33m(\u001b[0m\u001b[1;34m'nrows'\u001b[0m\u001b[1;33m,\u001b[0m \u001b[0mnrows\u001b[0m\u001b[1;33m)\u001b[0m\u001b[1;33m\u001b[0m\u001b[1;33m\u001b[0m\u001b[0m\n\u001b[1;32m-> 1139\u001b[1;33m         \u001b[0mret\u001b[0m \u001b[1;33m=\u001b[0m \u001b[0mself\u001b[0m\u001b[1;33m.\u001b[0m\u001b[0m_engine\u001b[0m\u001b[1;33m.\u001b[0m\u001b[0mread\u001b[0m\u001b[1;33m(\u001b[0m\u001b[0mnrows\u001b[0m\u001b[1;33m)\u001b[0m\u001b[1;33m\u001b[0m\u001b[1;33m\u001b[0m\u001b[0m\n\u001b[0m\u001b[0;32m   1140\u001b[0m \u001b[1;33m\u001b[0m\u001b[0m\n\u001b[0;32m   1141\u001b[0m         \u001b[1;31m# May alter columns / col_dict\u001b[0m\u001b[1;33m\u001b[0m\u001b[1;33m\u001b[0m\u001b[1;33m\u001b[0m\u001b[0m\n",
      "\u001b[1;32m~\\Anaconda3\\lib\\site-packages\\pandas\\io\\parsers.py\u001b[0m in \u001b[0;36mread\u001b[1;34m(self, nrows)\u001b[0m\n\u001b[0;32m   1993\u001b[0m     \u001b[1;32mdef\u001b[0m \u001b[0mread\u001b[0m\u001b[1;33m(\u001b[0m\u001b[0mself\u001b[0m\u001b[1;33m,\u001b[0m \u001b[0mnrows\u001b[0m\u001b[1;33m=\u001b[0m\u001b[1;32mNone\u001b[0m\u001b[1;33m)\u001b[0m\u001b[1;33m:\u001b[0m\u001b[1;33m\u001b[0m\u001b[1;33m\u001b[0m\u001b[0m\n\u001b[0;32m   1994\u001b[0m         \u001b[1;32mtry\u001b[0m\u001b[1;33m:\u001b[0m\u001b[1;33m\u001b[0m\u001b[1;33m\u001b[0m\u001b[0m\n\u001b[1;32m-> 1995\u001b[1;33m             \u001b[0mdata\u001b[0m \u001b[1;33m=\u001b[0m \u001b[0mself\u001b[0m\u001b[1;33m.\u001b[0m\u001b[0m_reader\u001b[0m\u001b[1;33m.\u001b[0m\u001b[0mread\u001b[0m\u001b[1;33m(\u001b[0m\u001b[0mnrows\u001b[0m\u001b[1;33m)\u001b[0m\u001b[1;33m\u001b[0m\u001b[1;33m\u001b[0m\u001b[0m\n\u001b[0m\u001b[0;32m   1996\u001b[0m         \u001b[1;32mexcept\u001b[0m \u001b[0mStopIteration\u001b[0m\u001b[1;33m:\u001b[0m\u001b[1;33m\u001b[0m\u001b[1;33m\u001b[0m\u001b[0m\n\u001b[0;32m   1997\u001b[0m             \u001b[1;32mif\u001b[0m \u001b[0mself\u001b[0m\u001b[1;33m.\u001b[0m\u001b[0m_first_chunk\u001b[0m\u001b[1;33m:\u001b[0m\u001b[1;33m\u001b[0m\u001b[1;33m\u001b[0m\u001b[0m\n",
      "\u001b[1;32mpandas/_libs/parsers.pyx\u001b[0m in \u001b[0;36mpandas._libs.parsers.TextReader.read\u001b[1;34m()\u001b[0m\n",
      "\u001b[1;32mpandas/_libs/parsers.pyx\u001b[0m in \u001b[0;36mpandas._libs.parsers.TextReader._read_low_memory\u001b[1;34m()\u001b[0m\n",
      "\u001b[1;32mpandas/_libs/parsers.pyx\u001b[0m in \u001b[0;36mpandas._libs.parsers.TextReader._read_rows\u001b[1;34m()\u001b[0m\n",
      "\u001b[1;32mpandas/_libs/parsers.pyx\u001b[0m in \u001b[0;36mpandas._libs.parsers.TextReader._convert_column_data\u001b[1;34m()\u001b[0m\n",
      "\u001b[1;32mpandas/_libs/parsers.pyx\u001b[0m in \u001b[0;36mpandas._libs.parsers.TextReader._convert_tokens\u001b[1;34m()\u001b[0m\n",
      "\u001b[1;32mpandas/_libs/parsers.pyx\u001b[0m in \u001b[0;36mpandas._libs.parsers.TextReader._convert_with_dtype\u001b[1;34m()\u001b[0m\n",
      "\u001b[1;32m~\\Anaconda3\\lib\\site-packages\\pandas\\core\\dtypes\\common.py\u001b[0m in \u001b[0;36mis_categorical_dtype\u001b[1;34m(arr_or_dtype)\u001b[0m\n\u001b[0;32m    570\u001b[0m \u001b[1;33m\u001b[0m\u001b[0m\n\u001b[0;32m    571\u001b[0m \u001b[1;33m\u001b[0m\u001b[0m\n\u001b[1;32m--> 572\u001b[1;33m \u001b[1;32mdef\u001b[0m \u001b[0mis_categorical_dtype\u001b[0m\u001b[1;33m(\u001b[0m\u001b[0marr_or_dtype\u001b[0m\u001b[1;33m)\u001b[0m\u001b[1;33m:\u001b[0m\u001b[1;33m\u001b[0m\u001b[1;33m\u001b[0m\u001b[0m\n\u001b[0m\u001b[0;32m    573\u001b[0m     \"\"\"\n\u001b[0;32m    574\u001b[0m     \u001b[0mCheck\u001b[0m \u001b[0mwhether\u001b[0m \u001b[0man\u001b[0m \u001b[0marray\u001b[0m\u001b[1;33m-\u001b[0m\u001b[0mlike\u001b[0m \u001b[1;32mor\u001b[0m \u001b[0mdtype\u001b[0m \u001b[1;32mis\u001b[0m \u001b[0mof\u001b[0m \u001b[0mthe\u001b[0m \u001b[0mCategorical\u001b[0m \u001b[0mdtype\u001b[0m\u001b[1;33m.\u001b[0m\u001b[1;33m\u001b[0m\u001b[1;33m\u001b[0m\u001b[0m\n",
      "\u001b[1;31mKeyboardInterrupt\u001b[0m: "
     ]
    }
   ],
   "source": [
    "i=0\n",
    "for data_set in data_iterator:\n",
    "    i+=1\n",
    "    X = data_set.iloc[:,:-1]\n",
    "    y = data_set['Segment']\n",
    "    print('Iteration: '+str(i))\n",
    "    perform_cv(classifier, X, y)"
   ]
  },
  {
   "cell_type": "code",
   "execution_count": null,
   "metadata": {},
   "outputs": [],
   "source": []
  }
 ],
 "metadata": {
  "kernelspec": {
   "display_name": "Python 3",
   "language": "python",
   "name": "python3"
  },
  "language_info": {
   "codemirror_mode": {
    "name": "ipython",
    "version": 3
   },
   "file_extension": ".py",
   "mimetype": "text/x-python",
   "name": "python",
   "nbconvert_exporter": "python",
   "pygments_lexer": "ipython3",
   "version": "3.7.3"
  }
 },
 "nbformat": 4,
 "nbformat_minor": 2
}
