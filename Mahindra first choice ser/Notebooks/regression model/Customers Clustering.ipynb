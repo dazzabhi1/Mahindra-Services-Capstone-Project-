{
 "cells": [
  {
   "cell_type": "code",
   "execution_count": 1,
   "metadata": {},
   "outputs": [],
   "source": [
    "import pandas as pd\n",
    "import numpy as np\n",
    "import warnings\n",
    "warnings.filterwarnings('ignore')\n",
    "import matplotlib.pyplot as plt\n",
    "import seaborn as sns\n",
    "from sklearn import preprocessing\n",
    "from sklearn.cluster import MiniBatchKMeans\n",
    "import pickle"
   ]
  },
  {
   "cell_type": "code",
   "execution_count": 2,
   "metadata": {},
   "outputs": [
    {
     "data": {
      "text/html": [
       "<div>\n",
       "<style scoped>\n",
       "    .dataframe tbody tr th:only-of-type {\n",
       "        vertical-align: middle;\n",
       "    }\n",
       "\n",
       "    .dataframe tbody tr th {\n",
       "        vertical-align: top;\n",
       "    }\n",
       "\n",
       "    .dataframe thead th {\n",
       "        text-align: right;\n",
       "    }\n",
       "</style>\n",
       "<table border=\"1\" class=\"dataframe\">\n",
       "  <thead>\n",
       "    <tr style=\"text-align: right;\">\n",
       "      <th></th>\n",
       "      <th>Business Partner</th>\n",
       "      <th>Customer No.</th>\n",
       "      <th>Partner Type</th>\n",
       "      <th>Data Origin</th>\n",
       "      <th>Title</th>\n",
       "      <th>Marital Status</th>\n",
       "      <th>Occupation</th>\n",
       "      <th>Date of Birth</th>\n",
       "      <th>Death date</th>\n",
       "    </tr>\n",
       "  </thead>\n",
       "  <tbody>\n",
       "    <tr>\n",
       "      <th>0</th>\n",
       "      <td>31</td>\n",
       "      <td>1</td>\n",
       "      <td>Retail</td>\n",
       "      <td>Camp-Outdoor</td>\n",
       "      <td>Unknown</td>\n",
       "      <td>Unknown</td>\n",
       "      <td>Unknown</td>\n",
       "      <td>NaN</td>\n",
       "      <td>NaN</td>\n",
       "    </tr>\n",
       "    <tr>\n",
       "      <th>1</th>\n",
       "      <td>32</td>\n",
       "      <td>2</td>\n",
       "      <td>Retail</td>\n",
       "      <td>Reference-Customer</td>\n",
       "      <td>Unknown</td>\n",
       "      <td>Unknown</td>\n",
       "      <td>Unknown</td>\n",
       "      <td>NaN</td>\n",
       "      <td>NaN</td>\n",
       "    </tr>\n",
       "    <tr>\n",
       "      <th>2</th>\n",
       "      <td>34</td>\n",
       "      <td>4</td>\n",
       "      <td>Retail</td>\n",
       "      <td>Reference-Customer</td>\n",
       "      <td>Unknown</td>\n",
       "      <td>Married</td>\n",
       "      <td>Unknown</td>\n",
       "      <td>NaN</td>\n",
       "      <td>NaN</td>\n",
       "    </tr>\n",
       "    <tr>\n",
       "      <th>3</th>\n",
       "      <td>35</td>\n",
       "      <td>5</td>\n",
       "      <td>Retail</td>\n",
       "      <td>Reference-Customer</td>\n",
       "      <td>Unknown</td>\n",
       "      <td>Unknown</td>\n",
       "      <td>Unknown</td>\n",
       "      <td>NaN</td>\n",
       "      <td>NaN</td>\n",
       "    </tr>\n",
       "    <tr>\n",
       "      <th>4</th>\n",
       "      <td>42</td>\n",
       "      <td>7</td>\n",
       "      <td>Retail</td>\n",
       "      <td>Just Dial/Other helpline</td>\n",
       "      <td>Unknown</td>\n",
       "      <td>Unknown</td>\n",
       "      <td>Unknown</td>\n",
       "      <td>NaN</td>\n",
       "      <td>NaN</td>\n",
       "    </tr>\n",
       "  </tbody>\n",
       "</table>\n",
       "</div>"
      ],
      "text/plain": [
       "  Business Partner Customer No. Partner Type               Data Origin  \\\n",
       "0               31            1       Retail              Camp-Outdoor   \n",
       "1               32            2       Retail        Reference-Customer   \n",
       "2               34            4       Retail        Reference-Customer   \n",
       "3               35            5       Retail        Reference-Customer   \n",
       "4               42            7       Retail  Just Dial/Other helpline   \n",
       "\n",
       "     Title Marital Status Occupation Date of Birth Death date  \n",
       "0  Unknown        Unknown    Unknown           NaN        NaN  \n",
       "1  Unknown        Unknown    Unknown           NaN        NaN  \n",
       "2  Unknown        Married    Unknown           NaN        NaN  \n",
       "3  Unknown        Unknown    Unknown           NaN        NaN  \n",
       "4  Unknown        Unknown    Unknown           NaN        NaN  "
      ]
     },
     "execution_count": 2,
     "metadata": {},
     "output_type": "execute_result"
    }
   ],
   "source": [
    "customer_data = pd.read_csv('../data/customer_data.csv')\n",
    "customer_data.head()"
   ]
  },
  {
   "cell_type": "code",
   "execution_count": 3,
   "metadata": {},
   "outputs": [
    {
     "data": {
      "text/html": [
       "<div>\n",
       "<style scoped>\n",
       "    .dataframe tbody tr th:only-of-type {\n",
       "        vertical-align: middle;\n",
       "    }\n",
       "\n",
       "    .dataframe tbody tr th {\n",
       "        vertical-align: top;\n",
       "    }\n",
       "\n",
       "    .dataframe thead th {\n",
       "        text-align: right;\n",
       "    }\n",
       "</style>\n",
       "<table border=\"1\" class=\"dataframe\">\n",
       "  <thead>\n",
       "    <tr style=\"text-align: right;\">\n",
       "      <th></th>\n",
       "      <th>Area / Locality</th>\n",
       "      <th>CITY</th>\n",
       "      <th>Cash /Cashless Type</th>\n",
       "      <th>Claim No.</th>\n",
       "      <th>Cust Type</th>\n",
       "      <th>Customer No.</th>\n",
       "      <th>District</th>\n",
       "      <th>Expiry Date</th>\n",
       "      <th>Gate Pass Date</th>\n",
       "      <th>Gate Pass Time</th>\n",
       "      <th>...</th>\n",
       "      <th>Regn No</th>\n",
       "      <th>Service Advisor Name</th>\n",
       "      <th>Technician Name</th>\n",
       "      <th>Total Amt Wtd Tax.</th>\n",
       "      <th>Total Value</th>\n",
       "      <th>User ID</th>\n",
       "      <th>Invoice Day</th>\n",
       "      <th>Invoice Month</th>\n",
       "      <th>Invoice Year</th>\n",
       "      <th>Day of the week</th>\n",
       "    </tr>\n",
       "  </thead>\n",
       "  <tbody>\n",
       "    <tr>\n",
       "      <th>0</th>\n",
       "      <td>MAJIWADA</td>\n",
       "      <td>Thane</td>\n",
       "      <td>NaN</td>\n",
       "      <td>NaN</td>\n",
       "      <td>Retail</td>\n",
       "      <td>67849</td>\n",
       "      <td>Maharashtra</td>\n",
       "      <td>NaN</td>\n",
       "      <td>NaN</td>\n",
       "      <td>00:00:00</td>\n",
       "      <td>...</td>\n",
       "      <td>KA19MA1291</td>\n",
       "      <td>NaN</td>\n",
       "      <td>RUPESH</td>\n",
       "      <td>4051.95</td>\n",
       "      <td>4051.95</td>\n",
       "      <td>BC01FS1</td>\n",
       "      <td>2</td>\n",
       "      <td>1</td>\n",
       "      <td>2015</td>\n",
       "      <td>Friday</td>\n",
       "    </tr>\n",
       "    <tr>\n",
       "      <th>1</th>\n",
       "      <td>THNAE</td>\n",
       "      <td>THNAE</td>\n",
       "      <td>NaN</td>\n",
       "      <td>NaN</td>\n",
       "      <td>Retail</td>\n",
       "      <td>84419</td>\n",
       "      <td>Maharashtra</td>\n",
       "      <td>NaN</td>\n",
       "      <td>NaN</td>\n",
       "      <td>00:00:00</td>\n",
       "      <td>...</td>\n",
       "      <td>MH43R3046</td>\n",
       "      <td>NaN</td>\n",
       "      <td>PRASHANT</td>\n",
       "      <td>1001.29</td>\n",
       "      <td>1001.29</td>\n",
       "      <td>BC01SA2</td>\n",
       "      <td>3</td>\n",
       "      <td>1</td>\n",
       "      <td>2015</td>\n",
       "      <td>Saturday</td>\n",
       "    </tr>\n",
       "    <tr>\n",
       "      <th>2</th>\n",
       "      <td>THANE</td>\n",
       "      <td>THANE[W]</td>\n",
       "      <td>NaN</td>\n",
       "      <td>NaN</td>\n",
       "      <td>Retail</td>\n",
       "      <td>81055</td>\n",
       "      <td>Maharashtra</td>\n",
       "      <td>NaN</td>\n",
       "      <td>NaN</td>\n",
       "      <td>00:00:00</td>\n",
       "      <td>...</td>\n",
       "      <td>AP09AX0582</td>\n",
       "      <td>NaN</td>\n",
       "      <td>IMRAN</td>\n",
       "      <td>233.14</td>\n",
       "      <td>233.14</td>\n",
       "      <td>BC01SA2</td>\n",
       "      <td>3</td>\n",
       "      <td>1</td>\n",
       "      <td>2015</td>\n",
       "      <td>Saturday</td>\n",
       "    </tr>\n",
       "    <tr>\n",
       "      <th>3</th>\n",
       "      <td>THNAE</td>\n",
       "      <td>THNAE</td>\n",
       "      <td>NaN</td>\n",
       "      <td>NaN</td>\n",
       "      <td>Retail</td>\n",
       "      <td>84419</td>\n",
       "      <td>Maharashtra</td>\n",
       "      <td>NaN</td>\n",
       "      <td>NaN</td>\n",
       "      <td>00:00:00</td>\n",
       "      <td>...</td>\n",
       "      <td>MH43R3046</td>\n",
       "      <td>NaN</td>\n",
       "      <td>PRASHANT</td>\n",
       "      <td>0.00</td>\n",
       "      <td>0.00</td>\n",
       "      <td>BC01SA2</td>\n",
       "      <td>3</td>\n",
       "      <td>1</td>\n",
       "      <td>2015</td>\n",
       "      <td>Saturday</td>\n",
       "    </tr>\n",
       "    <tr>\n",
       "      <th>4</th>\n",
       "      <td>THANE</td>\n",
       "      <td>THANE</td>\n",
       "      <td>NaN</td>\n",
       "      <td>NaN</td>\n",
       "      <td>Retail</td>\n",
       "      <td>18980</td>\n",
       "      <td>Maharashtra</td>\n",
       "      <td>NaN</td>\n",
       "      <td>NaN</td>\n",
       "      <td>00:00:00</td>\n",
       "      <td>...</td>\n",
       "      <td>MH04CD9768</td>\n",
       "      <td>NaN</td>\n",
       "      <td>DAYANAND</td>\n",
       "      <td>2747.12</td>\n",
       "      <td>2747.12</td>\n",
       "      <td>BC01SA2</td>\n",
       "      <td>3</td>\n",
       "      <td>1</td>\n",
       "      <td>2015</td>\n",
       "      <td>Saturday</td>\n",
       "    </tr>\n",
       "  </tbody>\n",
       "</table>\n",
       "<p>5 rows × 42 columns</p>\n",
       "</div>"
      ],
      "text/plain": [
       "  Area / Locality      CITY Cash /Cashless Type Claim No. Cust Type  \\\n",
       "0        MAJIWADA     Thane                 NaN       NaN    Retail   \n",
       "1           THNAE     THNAE                 NaN       NaN    Retail   \n",
       "2           THANE  THANE[W]                 NaN       NaN    Retail   \n",
       "3           THNAE     THNAE                 NaN       NaN    Retail   \n",
       "4           THANE     THANE                 NaN       NaN    Retail   \n",
       "\n",
       "  Customer No.     District Expiry Date Gate Pass Date Gate Pass Time  ...  \\\n",
       "0        67849  Maharashtra         NaN            NaN       00:00:00  ...   \n",
       "1        84419  Maharashtra         NaN            NaN       00:00:00  ...   \n",
       "2        81055  Maharashtra         NaN            NaN       00:00:00  ...   \n",
       "3        84419  Maharashtra         NaN            NaN       00:00:00  ...   \n",
       "4        18980  Maharashtra         NaN            NaN       00:00:00  ...   \n",
       "\n",
       "      Regn No Service Advisor Name  Technician Name Total Amt Wtd Tax.  \\\n",
       "0  KA19MA1291                  NaN           RUPESH            4051.95   \n",
       "1   MH43R3046                  NaN         PRASHANT            1001.29   \n",
       "2  AP09AX0582                  NaN            IMRAN             233.14   \n",
       "3   MH43R3046                  NaN         PRASHANT               0.00   \n",
       "4  MH04CD9768                  NaN         DAYANAND            2747.12   \n",
       "\n",
       "   Total Value  User ID Invoice Day  Invoice Month  Invoice Year  \\\n",
       "0      4051.95  BC01FS1           2              1          2015   \n",
       "1      1001.29  BC01SA2           3              1          2015   \n",
       "2       233.14  BC01SA2           3              1          2015   \n",
       "3         0.00  BC01SA2           3              1          2015   \n",
       "4      2747.12  BC01SA2           3              1          2015   \n",
       "\n",
       "  Day of the week  \n",
       "0          Friday  \n",
       "1        Saturday  \n",
       "2        Saturday  \n",
       "3        Saturday  \n",
       "4        Saturday  \n",
       "\n",
       "[5 rows x 42 columns]"
      ]
     },
     "execution_count": 3,
     "metadata": {},
     "output_type": "execute_result"
    }
   ],
   "source": [
    "invoice_data = pd.read_csv('../data/invoice_data.csv')\n",
    "invoice_data.head()"
   ]
  },
  {
   "cell_type": "code",
   "execution_count": 25,
   "metadata": {},
   "outputs": [],
   "source": [
    "#joining customer and invoice data\n",
    "customer_invoice = customer_data.merge(invoice_data, on='Customer No.', how='left', sort=False)"
   ]
  },
  {
   "cell_type": "code",
   "execution_count": 43,
   "metadata": {},
   "outputs": [
    {
     "data": {
      "text/plain": [
       "(571416, 50)"
      ]
     },
     "execution_count": 43,
     "metadata": {},
     "output_type": "execute_result"
    }
   ],
   "source": [
    "customer_invoice.shape"
   ]
  },
  {
   "cell_type": "code",
   "execution_count": 44,
   "metadata": {},
   "outputs": [],
   "source": [
    "#deriving new columns\n",
    "customer_invoice['Has Insurance'] = customer_invoice['Claim No.'].notnull().astype(int)\n",
    "customer_invoice['Is Dead'] = customer_invoice['Date of Birth'].notnull().astype(int)"
   ]
  },
  {
   "cell_type": "code",
   "execution_count": 45,
   "metadata": {},
   "outputs": [],
   "source": [
    "drop_cols = ['Business Partner','Customer No.','Gate Pass Date','Gate Pass Time','Invoice Date',\n",
    "            'Invoice No','Invoice Time', 'Job Card No', 'JobCard Date', 'JobCard Time','ODN No.',\n",
    "            'Pin code','Regn No','Service Advisor Name','Technician Name','User ID','Expiry Date','Plant',\n",
    "            'Date of Birth','Death date','Claim No.','Policy no.']"
   ]
  },
  {
   "cell_type": "code",
   "execution_count": 46,
   "metadata": {},
   "outputs": [],
   "source": [
    "customer_invoice.drop(drop_cols,1,inplace=True)"
   ]
  },
  {
   "cell_type": "code",
   "execution_count": 47,
   "metadata": {},
   "outputs": [
    {
     "data": {
      "text/plain": [
       "Index(['Partner Type', 'Data Origin', 'Title', 'Marital Status', 'Occupation',\n",
       "       'Area / Locality', 'CITY', 'Cash /Cashless Type', 'Cust Type',\n",
       "       'District', 'Insurance Company', 'KMs Reading', 'Labour Total', 'Make',\n",
       "       'Misc Total', 'Model', 'OSL Total', 'Order Type', 'Parts Total',\n",
       "       'Plant Name1', 'Print Status', 'Recovrbl Exp', 'Total Amt Wtd Tax.',\n",
       "       'Total Value', 'Invoice Day', 'Invoice Month', 'Invoice Year',\n",
       "       'Day of the week', 'Has Insurance', 'Is Dead'],\n",
       "      dtype='object')"
      ]
     },
     "execution_count": 47,
     "metadata": {},
     "output_type": "execute_result"
    }
   ],
   "source": [
    "customer_invoice.columns"
   ]
  },
  {
   "cell_type": "code",
   "execution_count": 48,
   "metadata": {},
   "outputs": [],
   "source": [
    "categorical_cols = ['Partner Type','Data Origin','Title','Marital Status','Occupation','CITY','Cash /Cashless Type',\n",
    "                   'Cust Type','District','Insurance Company','Make','Model','Order Type','Plant Name1','Day of the week',\n",
    "                    'Area / Locality','Print Status']"
   ]
  },
  {
   "cell_type": "code",
   "execution_count": 49,
   "metadata": {},
   "outputs": [],
   "source": [
    "customer_invoice_cat = customer_invoice[categorical_cols]"
   ]
  },
  {
   "cell_type": "code",
   "execution_count": 50,
   "metadata": {},
   "outputs": [],
   "source": [
    "customer_invoice_cat = pd.get_dummies(customer_invoice_cat)"
   ]
  },
  {
   "cell_type": "code",
   "execution_count": 51,
   "metadata": {},
   "outputs": [],
   "source": [
    "customer_invoice.drop(categorical_cols,1,inplace=True)"
   ]
  },
  {
   "cell_type": "code",
   "execution_count": 52,
   "metadata": {},
   "outputs": [
    {
     "data": {
      "text/plain": [
       "Index(['KMs Reading', 'Labour Total', 'Misc Total', 'OSL Total', 'Parts Total',\n",
       "       'Recovrbl Exp', 'Total Amt Wtd Tax.', 'Total Value', 'Invoice Day',\n",
       "       'Invoice Month', 'Invoice Year', 'Has Insurance', 'Is Dead'],\n",
       "      dtype='object')"
      ]
     },
     "execution_count": 52,
     "metadata": {},
     "output_type": "execute_result"
    }
   ],
   "source": [
    "customer_invoice.columns"
   ]
  },
  {
   "cell_type": "code",
   "execution_count": 53,
   "metadata": {},
   "outputs": [],
   "source": [
    "customer_invoice = pd.concat([customer_invoice,customer_invoice_cat], axis=1)"
   ]
  },
  {
   "cell_type": "code",
   "execution_count": 54,
   "metadata": {},
   "outputs": [
    {
     "data": {
      "text/html": [
       "<div>\n",
       "<style scoped>\n",
       "    .dataframe tbody tr th:only-of-type {\n",
       "        vertical-align: middle;\n",
       "    }\n",
       "\n",
       "    .dataframe tbody tr th {\n",
       "        vertical-align: top;\n",
       "    }\n",
       "\n",
       "    .dataframe thead th {\n",
       "        text-align: right;\n",
       "    }\n",
       "</style>\n",
       "<table border=\"1\" class=\"dataframe\">\n",
       "  <thead>\n",
       "    <tr style=\"text-align: right;\">\n",
       "      <th></th>\n",
       "      <th>KMs Reading</th>\n",
       "      <th>Labour Total</th>\n",
       "      <th>Misc Total</th>\n",
       "      <th>OSL Total</th>\n",
       "      <th>Parts Total</th>\n",
       "      <th>Recovrbl Exp</th>\n",
       "      <th>Total Amt Wtd Tax.</th>\n",
       "      <th>Total Value</th>\n",
       "      <th>Invoice Day</th>\n",
       "      <th>Invoice Month</th>\n",
       "      <th>...</th>\n",
       "      <th>Area / Locality_SR NO 36, 5/6,</th>\n",
       "      <th>Area / Locality_X076</th>\n",
       "      <th>Area / Locality_X081</th>\n",
       "      <th>Area / Locality_X099</th>\n",
       "      <th>Area / Locality_X109</th>\n",
       "      <th>Area / Locality_X241</th>\n",
       "      <th>Area / Locality_X277</th>\n",
       "      <th>Area / Locality_X312</th>\n",
       "      <th>Print Status_NO</th>\n",
       "      <th>Print Status_YES</th>\n",
       "    </tr>\n",
       "  </thead>\n",
       "  <tbody>\n",
       "    <tr>\n",
       "      <th>0</th>\n",
       "      <td>0.0</td>\n",
       "      <td>0.0</td>\n",
       "      <td>0.0</td>\n",
       "      <td>0.0</td>\n",
       "      <td>0.0</td>\n",
       "      <td>0.0</td>\n",
       "      <td>0.0</td>\n",
       "      <td>0.0</td>\n",
       "      <td>0.0</td>\n",
       "      <td>0.0</td>\n",
       "      <td>...</td>\n",
       "      <td>0</td>\n",
       "      <td>0</td>\n",
       "      <td>0</td>\n",
       "      <td>0</td>\n",
       "      <td>0</td>\n",
       "      <td>0</td>\n",
       "      <td>0</td>\n",
       "      <td>0</td>\n",
       "      <td>0</td>\n",
       "      <td>0</td>\n",
       "    </tr>\n",
       "    <tr>\n",
       "      <th>1</th>\n",
       "      <td>0.0</td>\n",
       "      <td>0.0</td>\n",
       "      <td>0.0</td>\n",
       "      <td>0.0</td>\n",
       "      <td>0.0</td>\n",
       "      <td>0.0</td>\n",
       "      <td>0.0</td>\n",
       "      <td>0.0</td>\n",
       "      <td>0.0</td>\n",
       "      <td>0.0</td>\n",
       "      <td>...</td>\n",
       "      <td>0</td>\n",
       "      <td>0</td>\n",
       "      <td>0</td>\n",
       "      <td>0</td>\n",
       "      <td>0</td>\n",
       "      <td>0</td>\n",
       "      <td>0</td>\n",
       "      <td>0</td>\n",
       "      <td>0</td>\n",
       "      <td>0</td>\n",
       "    </tr>\n",
       "    <tr>\n",
       "      <th>2</th>\n",
       "      <td>0.0</td>\n",
       "      <td>0.0</td>\n",
       "      <td>0.0</td>\n",
       "      <td>0.0</td>\n",
       "      <td>0.0</td>\n",
       "      <td>0.0</td>\n",
       "      <td>0.0</td>\n",
       "      <td>0.0</td>\n",
       "      <td>0.0</td>\n",
       "      <td>0.0</td>\n",
       "      <td>...</td>\n",
       "      <td>0</td>\n",
       "      <td>0</td>\n",
       "      <td>0</td>\n",
       "      <td>0</td>\n",
       "      <td>0</td>\n",
       "      <td>0</td>\n",
       "      <td>0</td>\n",
       "      <td>0</td>\n",
       "      <td>0</td>\n",
       "      <td>0</td>\n",
       "    </tr>\n",
       "    <tr>\n",
       "      <th>3</th>\n",
       "      <td>0.0</td>\n",
       "      <td>0.0</td>\n",
       "      <td>0.0</td>\n",
       "      <td>0.0</td>\n",
       "      <td>0.0</td>\n",
       "      <td>0.0</td>\n",
       "      <td>0.0</td>\n",
       "      <td>0.0</td>\n",
       "      <td>0.0</td>\n",
       "      <td>0.0</td>\n",
       "      <td>...</td>\n",
       "      <td>0</td>\n",
       "      <td>0</td>\n",
       "      <td>0</td>\n",
       "      <td>0</td>\n",
       "      <td>0</td>\n",
       "      <td>0</td>\n",
       "      <td>0</td>\n",
       "      <td>0</td>\n",
       "      <td>0</td>\n",
       "      <td>0</td>\n",
       "    </tr>\n",
       "    <tr>\n",
       "      <th>4</th>\n",
       "      <td>0.0</td>\n",
       "      <td>0.0</td>\n",
       "      <td>0.0</td>\n",
       "      <td>0.0</td>\n",
       "      <td>0.0</td>\n",
       "      <td>0.0</td>\n",
       "      <td>0.0</td>\n",
       "      <td>0.0</td>\n",
       "      <td>0.0</td>\n",
       "      <td>0.0</td>\n",
       "      <td>...</td>\n",
       "      <td>0</td>\n",
       "      <td>0</td>\n",
       "      <td>0</td>\n",
       "      <td>0</td>\n",
       "      <td>0</td>\n",
       "      <td>0</td>\n",
       "      <td>0</td>\n",
       "      <td>0</td>\n",
       "      <td>0</td>\n",
       "      <td>0</td>\n",
       "    </tr>\n",
       "  </tbody>\n",
       "</table>\n",
       "<p>5 rows × 493 columns</p>\n",
       "</div>"
      ],
      "text/plain": [
       "   KMs Reading  Labour Total  Misc Total  OSL Total  Parts Total  \\\n",
       "0          0.0           0.0         0.0        0.0          0.0   \n",
       "1          0.0           0.0         0.0        0.0          0.0   \n",
       "2          0.0           0.0         0.0        0.0          0.0   \n",
       "3          0.0           0.0         0.0        0.0          0.0   \n",
       "4          0.0           0.0         0.0        0.0          0.0   \n",
       "\n",
       "   Recovrbl Exp  Total Amt Wtd Tax.  Total Value  Invoice Day  Invoice Month  \\\n",
       "0           0.0                 0.0          0.0          0.0            0.0   \n",
       "1           0.0                 0.0          0.0          0.0            0.0   \n",
       "2           0.0                 0.0          0.0          0.0            0.0   \n",
       "3           0.0                 0.0          0.0          0.0            0.0   \n",
       "4           0.0                 0.0          0.0          0.0            0.0   \n",
       "\n",
       "   ...  Area / Locality_SR NO 36, 5/6,  Area / Locality_X076  \\\n",
       "0  ...                               0                     0   \n",
       "1  ...                               0                     0   \n",
       "2  ...                               0                     0   \n",
       "3  ...                               0                     0   \n",
       "4  ...                               0                     0   \n",
       "\n",
       "   Area / Locality_X081  Area / Locality_X099  Area / Locality_X109  \\\n",
       "0                     0                     0                     0   \n",
       "1                     0                     0                     0   \n",
       "2                     0                     0                     0   \n",
       "3                     0                     0                     0   \n",
       "4                     0                     0                     0   \n",
       "\n",
       "   Area / Locality_X241  Area / Locality_X277  Area / Locality_X312  \\\n",
       "0                     0                     0                     0   \n",
       "1                     0                     0                     0   \n",
       "2                     0                     0                     0   \n",
       "3                     0                     0                     0   \n",
       "4                     0                     0                     0   \n",
       "\n",
       "   Print Status_NO  Print Status_YES  \n",
       "0                0                 0  \n",
       "1                0                 0  \n",
       "2                0                 0  \n",
       "3                0                 0  \n",
       "4                0                 0  \n",
       "\n",
       "[5 rows x 493 columns]"
      ]
     },
     "execution_count": 54,
     "metadata": {},
     "output_type": "execute_result"
    }
   ],
   "source": [
    "customer_invoice.fillna(0, inplace=True)\n",
    "customer_invoice.head()"
   ]
  },
  {
   "cell_type": "code",
   "execution_count": 55,
   "metadata": {},
   "outputs": [
    {
     "data": {
      "text/plain": [
       "Index(['KMs Reading', 'Labour Total', 'Misc Total', 'OSL Total', 'Parts Total',\n",
       "       'Recovrbl Exp', 'Total Amt Wtd Tax.', 'Total Value', 'Invoice Day',\n",
       "       'Invoice Month',\n",
       "       ...\n",
       "       'Area / Locality_SR NO 36, 5/6,', 'Area / Locality_X076',\n",
       "       'Area / Locality_X081', 'Area / Locality_X099', 'Area / Locality_X109',\n",
       "       'Area / Locality_X241', 'Area / Locality_X277', 'Area / Locality_X312',\n",
       "       'Print Status_NO', 'Print Status_YES'],\n",
       "      dtype='object', length=493)"
      ]
     },
     "execution_count": 55,
     "metadata": {},
     "output_type": "execute_result"
    }
   ],
   "source": [
    "cols = customer_invoice.columns\n",
    "cols"
   ]
  },
  {
   "cell_type": "code",
   "execution_count": 57,
   "metadata": {},
   "outputs": [],
   "source": [
    "#scaling features\n",
    "numerical_cols = ['KMs Reading', 'Labour Total', 'Misc Total', 'OSL Total', 'Parts Total',\n",
    "       'Recovrbl Exp', 'Total Amt Wtd Tax.', 'Total Value', 'Invoice Day',\n",
    "       'Invoice Month', 'Invoice Year']\n",
    "\n",
    "customer_invoice_normalised = (customer_invoice-customer_invoice.min())/(customer_invoice.max()-customer_invoice.min())"
   ]
  },
  {
   "cell_type": "code",
   "execution_count": 136,
   "metadata": {},
   "outputs": [
    {
     "data": {
      "text/plain": [
       "MiniBatchKMeans(batch_size=200, compute_labels=True, init='k-means++',\n",
       "                init_size=None, max_iter=100, max_no_improvement=10,\n",
       "                n_clusters=5, n_init=3, random_state=None,\n",
       "                reassignment_ratio=0.01, tol=0.0, verbose=10)"
      ]
     },
     "execution_count": 136,
     "metadata": {},
     "output_type": "execute_result"
    }
   ],
   "source": [
    "mbk = MiniBatchKMeans(init ='k-means++', n_clusters = 5, \n",
    "                      batch_size = 200, \n",
    "                      max_no_improvement = 10, verbose = 10)\n",
    "\n",
    "mbk.partial_fit(customer_invoice)"
   ]
  },
  {
   "cell_type": "code",
   "execution_count": 138,
   "metadata": {},
   "outputs": [],
   "source": [
    "pickle.dump(mbk, open(\"minibatch_kmeans.pkl\", \"wb\"))"
   ]
  },
  {
   "cell_type": "code",
   "execution_count": 139,
   "metadata": {},
   "outputs": [],
   "source": [
    "pickled_mkb = pickle.load(open(\"minibatch_kmeans.pkl\", \"rb\"))"
   ]
  },
  {
   "cell_type": "code",
   "execution_count": 140,
   "metadata": {},
   "outputs": [
    {
     "data": {
      "text/plain": [
       "MiniBatchKMeans(batch_size=200, compute_labels=True, init='k-means++',\n",
       "                init_size=None, max_iter=100, max_no_improvement=10,\n",
       "                n_clusters=5, n_init=3, random_state=None,\n",
       "                reassignment_ratio=0.01, tol=0.0, verbose=10)"
      ]
     },
     "execution_count": 140,
     "metadata": {},
     "output_type": "execute_result"
    }
   ],
   "source": [
    "pickled_mkb"
   ]
  },
  {
   "cell_type": "code",
   "execution_count": 143,
   "metadata": {
    "scrolled": true
   },
   "outputs": [
    {
     "data": {
      "text/plain": [
       "array([[-1.20298147e-01, -1.00793059e-01, -3.50731914e-02, ...,\n",
       "         0.00000000e+00,  1.02653791e-03,  1.55700635e-04],\n",
       "       [ 5.58122430e+00,  5.14770979e+00,  2.15190142e+00, ...,\n",
       "         0.00000000e+00,  9.32564983e-01,  6.74350172e-02],\n",
       "       [ 2.35436192e+00, -1.01705409e-01, -3.57699605e-02, ...,\n",
       "         0.00000000e+00,  1.42857143e-01,  8.57142857e-01],\n",
       "       [ 3.48538026e+00,  1.06968894e+01,  3.71601939e+00, ...,\n",
       "         0.00000000e+00,  9.04062230e-01,  9.59377701e-02],\n",
       "       [ 2.86555964e+00,  1.61251373e+00,  4.55303549e-01, ...,\n",
       "         7.22961249e-05,  9.24378253e-01,  7.56217467e-02]])"
      ]
     },
     "execution_count": 143,
     "metadata": {},
     "output_type": "execute_result"
    }
   ],
   "source": [
    "mbk.cluster_centers_"
   ]
  },
  {
   "cell_type": "code",
   "execution_count": 145,
   "metadata": {},
   "outputs": [
    {
     "name": "stdout",
     "output_type": "stream",
     "text": [
      "Computing label assignment and total inertia\n"
     ]
    }
   ],
   "source": [
    "predictions = mbk.predict(customer_invoice)"
   ]
  },
  {
   "cell_type": "code",
   "execution_count": 146,
   "metadata": {},
   "outputs": [
    {
     "data": {
      "text/plain": [
       "array([0, 0, 0, ..., 0, 0, 0])"
      ]
     },
     "execution_count": 146,
     "metadata": {},
     "output_type": "execute_result"
    }
   ],
   "source": [
    "predictions"
   ]
  },
  {
   "cell_type": "code",
   "execution_count": 150,
   "metadata": {},
   "outputs": [
    {
     "data": {
      "text/plain": [
       "3421657.9303747285"
      ]
     },
     "execution_count": 150,
     "metadata": {},
     "output_type": "execute_result"
    }
   ],
   "source": [
    "mbk.inertia_"
   ]
  },
  {
   "cell_type": "code",
   "execution_count": 64,
   "metadata": {},
   "outputs": [
    {
     "data": {
      "text/plain": [
       "'mbk_pickle_1.pkl'"
      ]
     },
     "execution_count": 64,
     "metadata": {},
     "output_type": "execute_result"
    }
   ],
   "source": [
    "file_name = \"mbk_pickle_\"+str(1)+\".pkl\"\n",
    "file_name"
   ]
  },
  {
   "cell_type": "code",
   "execution_count": 32,
   "metadata": {},
   "outputs": [],
   "source": [
    "customer_invoice_normalised['Customer No.'] = customer_invoice['Customer No.']"
   ]
  },
  {
   "cell_type": "code",
   "execution_count": 33,
   "metadata": {},
   "outputs": [],
   "source": [
    "customer_invoice_normalised.to_csv('../data/customer_invoice_normalised_with_custId.csv', index=False)"
   ]
  },
  {
   "cell_type": "code",
   "execution_count": 4,
   "metadata": {},
   "outputs": [
    {
     "data": {
      "text/html": [
       "<div>\n",
       "<style scoped>\n",
       "    .dataframe tbody tr th:only-of-type {\n",
       "        vertical-align: middle;\n",
       "    }\n",
       "\n",
       "    .dataframe tbody tr th {\n",
       "        vertical-align: top;\n",
       "    }\n",
       "\n",
       "    .dataframe thead th {\n",
       "        text-align: right;\n",
       "    }\n",
       "</style>\n",
       "<table border=\"1\" class=\"dataframe\">\n",
       "  <thead>\n",
       "    <tr style=\"text-align: right;\">\n",
       "      <th></th>\n",
       "      <th>KMs Reading</th>\n",
       "      <th>Labour Total</th>\n",
       "      <th>Misc Total</th>\n",
       "      <th>OSL Total</th>\n",
       "      <th>Parts Total</th>\n",
       "      <th>Recovrbl Exp</th>\n",
       "      <th>Total Amt Wtd Tax.</th>\n",
       "      <th>Total Value</th>\n",
       "      <th>Invoice Day</th>\n",
       "      <th>Invoice Month</th>\n",
       "      <th>...</th>\n",
       "      <th>Area / Locality_SR NO 36, 5/6,</th>\n",
       "      <th>Area / Locality_X076</th>\n",
       "      <th>Area / Locality_X081</th>\n",
       "      <th>Area / Locality_X099</th>\n",
       "      <th>Area / Locality_X109</th>\n",
       "      <th>Area / Locality_X241</th>\n",
       "      <th>Area / Locality_X277</th>\n",
       "      <th>Area / Locality_X312</th>\n",
       "      <th>Print Status_NO</th>\n",
       "      <th>Print Status_YES</th>\n",
       "    </tr>\n",
       "  </thead>\n",
       "  <tbody>\n",
       "    <tr>\n",
       "      <th>0</th>\n",
       "      <td>0.0</td>\n",
       "      <td>0.0</td>\n",
       "      <td>0.0</td>\n",
       "      <td>0.0</td>\n",
       "      <td>0.0</td>\n",
       "      <td>0.0</td>\n",
       "      <td>0.0</td>\n",
       "      <td>0.0</td>\n",
       "      <td>0.0</td>\n",
       "      <td>0.0</td>\n",
       "      <td>...</td>\n",
       "      <td>0.0</td>\n",
       "      <td>0.0</td>\n",
       "      <td>0.0</td>\n",
       "      <td>0.0</td>\n",
       "      <td>0.0</td>\n",
       "      <td>0.0</td>\n",
       "      <td>0.0</td>\n",
       "      <td>0.0</td>\n",
       "      <td>0.0</td>\n",
       "      <td>0.0</td>\n",
       "    </tr>\n",
       "    <tr>\n",
       "      <th>1</th>\n",
       "      <td>0.0</td>\n",
       "      <td>0.0</td>\n",
       "      <td>0.0</td>\n",
       "      <td>0.0</td>\n",
       "      <td>0.0</td>\n",
       "      <td>0.0</td>\n",
       "      <td>0.0</td>\n",
       "      <td>0.0</td>\n",
       "      <td>0.0</td>\n",
       "      <td>0.0</td>\n",
       "      <td>...</td>\n",
       "      <td>0.0</td>\n",
       "      <td>0.0</td>\n",
       "      <td>0.0</td>\n",
       "      <td>0.0</td>\n",
       "      <td>0.0</td>\n",
       "      <td>0.0</td>\n",
       "      <td>0.0</td>\n",
       "      <td>0.0</td>\n",
       "      <td>0.0</td>\n",
       "      <td>0.0</td>\n",
       "    </tr>\n",
       "    <tr>\n",
       "      <th>2</th>\n",
       "      <td>0.0</td>\n",
       "      <td>0.0</td>\n",
       "      <td>0.0</td>\n",
       "      <td>0.0</td>\n",
       "      <td>0.0</td>\n",
       "      <td>0.0</td>\n",
       "      <td>0.0</td>\n",
       "      <td>0.0</td>\n",
       "      <td>0.0</td>\n",
       "      <td>0.0</td>\n",
       "      <td>...</td>\n",
       "      <td>0.0</td>\n",
       "      <td>0.0</td>\n",
       "      <td>0.0</td>\n",
       "      <td>0.0</td>\n",
       "      <td>0.0</td>\n",
       "      <td>0.0</td>\n",
       "      <td>0.0</td>\n",
       "      <td>0.0</td>\n",
       "      <td>0.0</td>\n",
       "      <td>0.0</td>\n",
       "    </tr>\n",
       "    <tr>\n",
       "      <th>3</th>\n",
       "      <td>0.0</td>\n",
       "      <td>0.0</td>\n",
       "      <td>0.0</td>\n",
       "      <td>0.0</td>\n",
       "      <td>0.0</td>\n",
       "      <td>0.0</td>\n",
       "      <td>0.0</td>\n",
       "      <td>0.0</td>\n",
       "      <td>0.0</td>\n",
       "      <td>0.0</td>\n",
       "      <td>...</td>\n",
       "      <td>0.0</td>\n",
       "      <td>0.0</td>\n",
       "      <td>0.0</td>\n",
       "      <td>0.0</td>\n",
       "      <td>0.0</td>\n",
       "      <td>0.0</td>\n",
       "      <td>0.0</td>\n",
       "      <td>0.0</td>\n",
       "      <td>0.0</td>\n",
       "      <td>0.0</td>\n",
       "    </tr>\n",
       "    <tr>\n",
       "      <th>4</th>\n",
       "      <td>0.0</td>\n",
       "      <td>0.0</td>\n",
       "      <td>0.0</td>\n",
       "      <td>0.0</td>\n",
       "      <td>0.0</td>\n",
       "      <td>0.0</td>\n",
       "      <td>0.0</td>\n",
       "      <td>0.0</td>\n",
       "      <td>0.0</td>\n",
       "      <td>0.0</td>\n",
       "      <td>...</td>\n",
       "      <td>0.0</td>\n",
       "      <td>0.0</td>\n",
       "      <td>0.0</td>\n",
       "      <td>0.0</td>\n",
       "      <td>0.0</td>\n",
       "      <td>0.0</td>\n",
       "      <td>0.0</td>\n",
       "      <td>0.0</td>\n",
       "      <td>0.0</td>\n",
       "      <td>0.0</td>\n",
       "    </tr>\n",
       "  </tbody>\n",
       "</table>\n",
       "<p>5 rows × 493 columns</p>\n",
       "</div>"
      ],
      "text/plain": [
       "   KMs Reading  Labour Total  Misc Total  OSL Total  Parts Total  \\\n",
       "0          0.0           0.0         0.0        0.0          0.0   \n",
       "1          0.0           0.0         0.0        0.0          0.0   \n",
       "2          0.0           0.0         0.0        0.0          0.0   \n",
       "3          0.0           0.0         0.0        0.0          0.0   \n",
       "4          0.0           0.0         0.0        0.0          0.0   \n",
       "\n",
       "   Recovrbl Exp  Total Amt Wtd Tax.  Total Value  Invoice Day  Invoice Month  \\\n",
       "0           0.0                 0.0          0.0          0.0            0.0   \n",
       "1           0.0                 0.0          0.0          0.0            0.0   \n",
       "2           0.0                 0.0          0.0          0.0            0.0   \n",
       "3           0.0                 0.0          0.0          0.0            0.0   \n",
       "4           0.0                 0.0          0.0          0.0            0.0   \n",
       "\n",
       "   ...  Area / Locality_SR NO 36, 5/6,  Area / Locality_X076  \\\n",
       "0  ...                             0.0                   0.0   \n",
       "1  ...                             0.0                   0.0   \n",
       "2  ...                             0.0                   0.0   \n",
       "3  ...                             0.0                   0.0   \n",
       "4  ...                             0.0                   0.0   \n",
       "\n",
       "   Area / Locality_X081  Area / Locality_X099  Area / Locality_X109  \\\n",
       "0                   0.0                   0.0                   0.0   \n",
       "1                   0.0                   0.0                   0.0   \n",
       "2                   0.0                   0.0                   0.0   \n",
       "3                   0.0                   0.0                   0.0   \n",
       "4                   0.0                   0.0                   0.0   \n",
       "\n",
       "   Area / Locality_X241  Area / Locality_X277  Area / Locality_X312  \\\n",
       "0                   0.0                   0.0                   0.0   \n",
       "1                   0.0                   0.0                   0.0   \n",
       "2                   0.0                   0.0                   0.0   \n",
       "3                   0.0                   0.0                   0.0   \n",
       "4                   0.0                   0.0                   0.0   \n",
       "\n",
       "   Print Status_NO  Print Status_YES  \n",
       "0              0.0               0.0  \n",
       "1              0.0               0.0  \n",
       "2              0.0               0.0  \n",
       "3              0.0               0.0  \n",
       "4              0.0               0.0  \n",
       "\n",
       "[5 rows x 493 columns]"
      ]
     },
     "execution_count": 4,
     "metadata": {},
     "output_type": "execute_result"
    }
   ],
   "source": [
    "customer_invoice_normalised = pd.read_csv('../data/customer_invoice_normalised.csv')\n",
    "customer_invoice_normalised.head()"
   ]
  },
  {
   "cell_type": "code",
   "execution_count": 15,
   "metadata": {},
   "outputs": [
    {
     "name": "stdout",
     "output_type": "stream",
     "text": [
      "Running iteration: 1\n",
      "Intertia: 926164.606494266\n",
      "Running iteration: 2\n",
      "Intertia: 916994.245274871\n",
      "Running iteration: 3\n",
      "Intertia: 757636.8234133313\n",
      "Running iteration: 4\n",
      "Intertia: 593216.3268717532\n",
      "Running iteration: 5\n",
      "Intertia: 558285.8236555634\n",
      "Running iteration: 6\n",
      "Intertia: 601952.7669799296\n",
      "Running iteration: 7\n",
      "Intertia: 471674.46864603687\n",
      "Running iteration: 8\n",
      "Intertia: 489275.07240358845\n",
      "Running iteration: 9\n",
      "Intertia: 484235.6538703332\n"
     ]
    }
   ],
   "source": [
    "sse={}\n",
    "for k in range(1,10):\n",
    "    print(\"Running iteration: \"+str(k))\n",
    "    mbk = MiniBatchKMeans(init ='k-means++', n_clusters = k,\n",
    "                      batch_size = 50, \n",
    "                      max_no_improvement = 10, verbose = 10)\n",
    "        \n",
    "    mbk.partial_fit(customer_invoice_normalised)\n",
    "    file_name = \"../pickles/mbk_pickle_\"+str(k)+\".pkl\"\n",
    "    pickle.dump(mbk, open(file_name, \"wb\"))\n",
    "        \n",
    "    print(\"Intertia: \"+str(mbk.inertia_))\n",
    "    sse[k] = mbk.inertia_"
   ]
  },
  {
   "cell_type": "code",
   "execution_count": 17,
   "metadata": {},
   "outputs": [],
   "source": [
    "plt.rcParams.update({'font.size': 15})"
   ]
  },
  {
   "cell_type": "code",
   "execution_count": 16,
   "metadata": {},
   "outputs": [
    {
     "data": {
      "text/plain": [
       "{1: 926164.606494266,\n",
       " 2: 916994.245274871,\n",
       " 3: 757636.8234133313,\n",
       " 4: 593216.3268717532,\n",
       " 5: 558285.8236555634,\n",
       " 6: 601952.7669799296,\n",
       " 7: 471674.46864603687,\n",
       " 8: 489275.07240358845,\n",
       " 9: 484235.6538703332}"
      ]
     },
     "execution_count": 16,
     "metadata": {},
     "output_type": "execute_result"
    }
   ],
   "source": [
    "sse"
   ]
  },
  {
   "cell_type": "code",
   "execution_count": 19,
   "metadata": {},
   "outputs": [
    {
     "data": {
      "text/plain": [
       "([<matplotlib.axis.XTick at 0xf82359160>,\n",
       "  <matplotlib.axis.XTick at 0xf81e8bc18>,\n",
       "  <matplotlib.axis.XTick at 0xf82349898>,\n",
       "  <matplotlib.axis.XTick at 0xf820dfe10>,\n",
       "  <matplotlib.axis.XTick at 0xf820ec320>,\n",
       "  <matplotlib.axis.XTick at 0xf820ec860>,\n",
       "  <matplotlib.axis.XTick at 0xf820ecdd8>,\n",
       "  <matplotlib.axis.XTick at 0xf820f3390>,\n",
       "  <matplotlib.axis.XTick at 0xf820ec3c8>],\n",
       " <a list of 9 Text xticklabel objects>)"
      ]
     },
     "execution_count": 19,
     "metadata": {},
     "output_type": "execute_result"
    },
    {
     "data": {
      "image/png": "[encoded data removed]",
      "text/plain": [
       "<Figure size 1080x576 with 1 Axes>"
      ]
     },
     "metadata": {
      "needs_background": "light"
     },
     "output_type": "display_data"
    }
   ],
   "source": [
    "plt.figure(figsize=(15,8))\n",
    "plt.title('Finding optimal number of clusters')\n",
    "plt.plot(range(len(sse)), list(sse.values()))\n",
    "plt.xlabel ('Number of clusters')\n",
    "plt.ylabel ('Inertia')\n",
    "plt.xticks(range(len(sse)), list(sse.keys()))"
   ]
  },
  {
   "cell_type": "code",
   "execution_count": 20,
   "metadata": {},
   "outputs": [],
   "source": [
    "pickled_mkb = pickle.load(open(\"../pickles/mbk_pickle_4.pkl\", \"rb\"))"
   ]
  },
  {
   "cell_type": "code",
   "execution_count": 23,
   "metadata": {},
   "outputs": [
    {
     "name": "stdout",
     "output_type": "stream",
     "text": [
      "Computing label assignment and total inertia\n"
     ]
    }
   ],
   "source": [
    "clusters = pickled_mkb.predict(customer_invoice_normalised)"
   ]
  },
  {
   "cell_type": "code",
   "execution_count": 27,
   "metadata": {},
   "outputs": [],
   "source": [
    "customer_cluster = pd.DataFrame({'Customer No.': customer_invoice['Customer No.'], 'cluster': clusters})"
   ]
  },
  {
   "cell_type": "code",
   "execution_count": 34,
   "metadata": {},
   "outputs": [],
   "source": [
    "customer_cluster.to_csv('../data/customer_cluster.csv', index=False)"
   ]
  },
  {
   "cell_type": "code",
   "execution_count": 65,
   "metadata": {},
   "outputs": [],
   "source": [
    "sse_prev={1: 7177920.252196295, 2: 4780746.489037256, 3: 5886365.138706738, 4:3767080.881034182, 5: 3421657.9303747285,\n",
    "    6: 3549981.9913420887, 7: 3009440.7854810823, 8: 2795710.611106249, 9: 2650373.689629377}"
   ]
  },
  {
   "cell_type": "code",
   "execution_count": null,
   "metadata": {},
   "outputs": [],
   "source": [
    "clusters = list(sse.keys())           \n",
    "inertia = list(sse.values())        \n",
    "ax.plot_date(dates, prices, '-') "
   ]
  }
 ],
 "metadata": {
  "kernelspec": {
   "display_name": "Python 3",
   "language": "python",
   "name": "python3"
  },
  "language_info": {
   "codemirror_mode": {
    "name": "ipython",
    "version": 3
   },
   "file_extension": ".py",
   "mimetype": "text/x-python",
   "name": "python",
   "nbconvert_exporter": "python",
   "pygments_lexer": "ipython3",
   "version": "3.7.3"
  }
 },
 "nbformat": 4,
 "nbformat_minor": 2
}
