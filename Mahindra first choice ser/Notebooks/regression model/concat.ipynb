{
 "cells": [
  {
   "cell_type": "code",
   "execution_count": 510,
   "metadata": {},
   "outputs": [],
   "source": [
    "import pandas as pd\n",
    "import numpy as np"
   ]
  },
  {
   "cell_type": "code",
   "execution_count": 511,
   "metadata": {},
   "outputs": [],
   "source": [
    "cust_data=pd.read_csv('Customer_Data_re.csv',low_memory=False)\n",
    "inv_data=pd.read_csv('Final_invoice.csv',low_memory=False)\n",
    "car_val=pd.read_csv('scrap car price.csv',index_col=['car'])\n",
    "jtd_data=pd.read_csv('JTD.csv')"
   ]
  },
  {
   "cell_type": "code",
   "execution_count": 512,
   "metadata": {},
   "outputs": [],
   "source": [
    "cust_data.drop(['Title', 'Marital Status', 'Occupation', 'Date of Birth', 'Death date'],axis=1,inplace=True)"
   ]
  },
  {
   "cell_type": "code",
   "execution_count": 513,
   "metadata": {},
   "outputs": [],
   "source": [
    "cust_data['Partner Type'].fillna(value=float(cust_data['Partner Type'].mode().values),axis=0,inplace=True)"
   ]
  },
  {
   "cell_type": "code",
   "execution_count": 514,
   "metadata": {},
   "outputs": [],
   "source": [
    "cust_data['Data Origin'].fillna(method='ffill',axis=0,inplace=True,limit =60)\n",
    "cust_data['Data Origin'].fillna(method='bfill',axis=0,inplace=True)\n"
   ]
  },
  {
   "cell_type": "code",
   "execution_count": 515,
   "metadata": {},
   "outputs": [],
   "source": [
    "inv_data['min_price']=inv_data['Model'].map(car_val['min_price'])\n",
    "inv_data['max_price']=inv_data['Model'].map(car_val['max_price'])"
   ]
  },
  {
   "cell_type": "code",
   "execution_count": 516,
   "metadata": {},
   "outputs": [],
   "source": [
    "inv_data.loc[inv_data['max_price']<500000,'car_cat']='low range'\n",
    "inv_data.loc[(inv_data['max_price']>500000 )&(inv_data['max_price']<1500000),'car_cat']='mid range'\n",
    "inv_data.loc[inv_data['max_price']>1500000,'car_cat']='high range'"
   ]
  },
  {
   "cell_type": "code",
   "execution_count": 517,
   "metadata": {},
   "outputs": [],
   "source": [
    "max_mid_range_mean=inv_data[inv_data['car_cat']=='mid range']['max_price'].mean()\n",
    "min_mid_range_mean=inv_data[inv_data['car_cat']=='mid range']['min_price'].mean()"
   ]
  },
  {
   "cell_type": "code",
   "execution_count": 518,
   "metadata": {},
   "outputs": [],
   "source": [
    "inv_data['max_price'].fillna(value=max_mid_range_mean,axis=0,inplace=True)\n",
    "inv_data['min_price'].fillna(value=min_mid_range_mean,axis=0,inplace=True)\n",
    "inv_data['car_cat'].fillna(value='mid range',axis=0,inplace=True)"
   ]
  },
  {
   "cell_type": "code",
   "execution_count": 519,
   "metadata": {},
   "outputs": [],
   "source": [
    "inv_data.drop(inv_data.columns[np.where(inv_data.isnull().sum()>15000)],axis=1,inplace=True)"
   ]
  },
  {
   "cell_type": "code",
   "execution_count": 520,
   "metadata": {},
   "outputs": [],
   "source": [
    "inv_data['Model'].fillna(method='ffill',axis=0,inplace=True,limit =700)\n",
    "inv_data['Model'].fillna(method='bfill',axis=0,inplace=True)\n"
   ]
  },
  {
   "cell_type": "code",
   "execution_count": 521,
   "metadata": {},
   "outputs": [],
   "source": [
    "inv_data.dropna(axis=0,inplace=True)"
   ]
  },
  {
   "cell_type": "code",
   "execution_count": 522,
   "metadata": {},
   "outputs": [],
   "source": [
    "jtd_data.drop(['Labor Value Number'],axis=1,inplace=True)"
   ]
  },
  {
   "cell_type": "code",
   "execution_count": 523,
   "metadata": {},
   "outputs": [],
   "source": [
    "jtd_data.dropna(axis=0,inplace=True)"
   ]
  },
  {
   "cell_type": "code",
   "execution_count": 524,
   "metadata": {},
   "outputs": [],
   "source": [
    "cust_inc_data=inv_data.merge(cust_data,on='Customer No.',how='left')"
   ]
  },
  {
   "cell_type": "code",
   "execution_count": 525,
   "metadata": {},
   "outputs": [],
   "source": [
    "cust_inc_data.dropna(axis=0,inplace=True)"
   ]
  },
  {
   "cell_type": "code",
   "execution_count": 526,
   "metadata": {},
   "outputs": [],
   "source": [
    "final_comb_data=cust_inc_data.merge(jtd_data,left_on='Job Card No',right_on='DBM Order',how='left')"
   ]
  },
  {
   "cell_type": "code",
   "execution_count": 527,
   "metadata": {
    "scrolled": true
   },
   "outputs": [],
   "source": [
    "final_comb_data.dropna(axis=0,inplace=True)"
   ]
  },
  {
   "cell_type": "code",
   "execution_count": 528,
   "metadata": {},
   "outputs": [],
   "source": [
    "final_comb_data['Invoice Date']=pd.to_datetime(final_comb_data['Invoice Date'])"
   ]
  },
  {
   "cell_type": "code",
   "execution_count": 529,
   "metadata": {},
   "outputs": [],
   "source": [
    "final_comb_data['Invoice Date Time']=final_comb_data['Invoice Date'].astype(str).str.cat(final_comb_data[['Invoice Time']].astype(str),sep=\" \")"
   ]
  },
  {
   "cell_type": "code",
   "execution_count": 530,
   "metadata": {},
   "outputs": [],
   "source": [
    "final_comb_data['JobCard Date']=pd.to_datetime(final_comb_data['JobCard Date'])"
   ]
  },
  {
   "cell_type": "code",
   "execution_count": 532,
   "metadata": {},
   "outputs": [],
   "source": [
    "final_comb_data['JobCard Date Time']=final_comb_data['JobCard Date'].astype(str).str.cat(final_comb_data[['JobCard Time']].astype(str),sep=\" \")"
   ]
  },
  {
   "cell_type": "code",
   "execution_count": 533,
   "metadata": {},
   "outputs": [],
   "source": [
    "final_comb_data['JobCard Date Time']=pd.to_datetime(final_comb_data['JobCard Date Time'])\n",
    "final_comb_data['Invoice Date Time']=pd.to_datetime(final_comb_data['Invoice Date Time'])"
   ]
  },
  {
   "cell_type": "code",
   "execution_count": 535,
   "metadata": {},
   "outputs": [],
   "source": [
    "final_comb_data['Service Time']=final_comb_data['Invoice Date Time']-final_comb_data['JobCard Date Time']"
   ]
  },
  {
   "cell_type": "code",
   "execution_count": 537,
   "metadata": {},
   "outputs": [],
   "source": [
    "\n",
    "final_comb_data.loc[final_comb_data['Service Time']<pd.Timedelta(hours=12),'Service Category']='Super_fast'\n",
    "final_comb_data.loc[(final_comb_data['Service Time']>pd.Timedelta(hours=12)) & (final_comb_data['Service Time']<pd.Timedelta(hours=36)),'Service Category']='fast'\n",
    "final_comb_data.loc[(final_comb_data['Service Time']>pd.Timedelta(hours=36))& (final_comb_data['Service Time']<pd.Timedelta(hours=100)),'Service Category']='moderate'\n",
    "final_comb_data.loc[(final_comb_data['Service Time']>pd.Timedelta(hours=100))& (final_comb_data['Service Time']<pd.Timedelta(hours=192)),'Service Category']='slow'\n",
    "final_comb_data.loc[(final_comb_data['Service Time']>pd.Timedelta(hours=192))& (final_comb_data['Service Time']<pd.Timedelta(hours=360)),'Service Category']='Super_slow'\n",
    "final_comb_data.loc[final_comb_data['Service Time']>pd.Timedelta(hours=360),'Service Category']='Default'"
   ]
  },
  {
   "cell_type": "code",
   "execution_count": 549,
   "metadata": {},
   "outputs": [],
   "source": [
    "final_comb_data.drop(['Customer No.','Gate Pass Time','Invoice Date', 'Invoice No', 'Invoice Time','Job Card No', 'JobCard Date', 'JobCard Time','Pin code','Recovrbl Exp', 'Regn No','User ID','Unnamed: 0_x','Partner Type','Unnamed: 0_y','DBM Order','Material','Target quantity UoM','Invoice Date Time', 'JobCard Date Time', 'Service Time','Make','Plant Name1','Print Status''Business Partner''District'],axis=1,inplace=True)"
   ]
  },
  {
   "cell_type": "code",
   "execution_count": 550,
   "metadata": {},
   "outputs": [],
   "source": [
    "final_comb_data.to_csv('final.csv',index=False)"
   ]
  }
 ],
 "metadata": {
  "kernelspec": {
   "display_name": "Python 3",
   "language": "python",
   "name": "python3"
  },
  "language_info": {
   "codemirror_mode": {
    "name": "ipython",
    "version": 3
   },
   "file_extension": ".py",
   "mimetype": "text/x-python",
   "name": "python",
   "nbconvert_exporter": "python",
   "pygments_lexer": "ipython3",
   "version": "3.7.3"
  }
 },
 "nbformat": 4,
 "nbformat_minor": 2
}
